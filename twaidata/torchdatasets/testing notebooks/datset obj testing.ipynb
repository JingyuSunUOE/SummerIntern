{
 "cells": [
  {
   "cell_type": "code",
   "execution_count": 1,
   "id": "52cf7d83-9b3d-404d-9dac-d898967177d6",
   "metadata": {},
   "outputs": [],
   "source": [
    "import os\n",
    "import nibabel as nib\n",
    "#import SimpleITK as sitk\n",
    "from torch.utils.data import Dataset\n",
    "from collections import defaultdict\n",
    "from natsort import natsorted\n",
    "\n"
   ]
  },
  {
   "cell_type": "code",
   "execution_count": 2,
   "id": "e8c4ed15-ee4a-4882-82a7-4f42872bac8d",
   "metadata": {},
   "outputs": [],
   "source": [
    "import numpy as np\n",
    "import torch\n",
    "import SimpleITK as sitk\n",
    "\n",
    "class MRISegmentationDataset(Dataset):\n",
    "    def __init__(self, imgs_dir, \n",
    "                 img_filetypes=[\"FLAIR.nii.gz\", \"T1.nii.gz\"],\n",
    "                 label_filetype=\"wmh.nii.gz\",\n",
    "                 transform=None,\n",
    "                 target_transform=None):\n",
    "        \n",
    "        # locate each individual, each file should be formatted\n",
    "        # individual_filetype.fileending\n",
    "        # if domains == None:\n",
    "        # domains logic has been commented out because actually\n",
    "        # we probably want to control how much of each domain we use,\n",
    "        # not just do it randomly to ensure we get a balanced split.\n",
    "        # so its better if the domains are combined later and separately.\n",
    "        imgs_dir_files = os.listdir(os.path.join(imgs_dir, \"imgs\"))\n",
    "        target_dir_files = os.listdir(os.path.join(imgs_dir, \"labels\"))\n",
    "        # else:\n",
    "        #     imgs_dir_files = []\n",
    "        #     target_dir_files = []\n",
    "        #     for d in domains:\n",
    "        #         imgs_dir_files.append(os.listdir(os.path.join(imgs_dir, \"imgs\")))\n",
    "        #         target_dir_files.append(os.listdir(os.path.join(imgs_dir, \"labels\")))\n",
    "        \n",
    "        # identify each individual\n",
    "        individuals_map = defaultdict(lambda : {})\n",
    "        for f in imgs_dir_files:\n",
    "            try:\n",
    "                ind = f.split(\"_\")[0]\n",
    "                filetype = f.split(f\"{ind}_\")[1]\n",
    "                if filetype not in img_filetypes:\n",
    "                    continue # i.e ignore files in the folder that don't match target names exactly (e.g BET files, normalize files etc\n",
    "            except:\n",
    "                print(f\"file {f} could not be parsed, skipping...\")\n",
    "            \n",
    "            individuals_map[ind][filetype] = f\n",
    "            \n",
    "        # check that each individual has the same number of keys\n",
    "        expected_keys = len(img_filetypes)\n",
    "        for ind in individuals_map.keys():\n",
    "            if len(individuals_map[ind].keys()) != expected_keys:\n",
    "                raise ValueError(f\"for individual {ind} expected exactly the following filetypes: \"\n",
    "                                 f\"'{ind}_' + '{expected_keys}' BUT only {list(individuals_map[ind].values())} were found\")\n",
    "                \n",
    "        # check that each individual has a label\n",
    "        individuals_labels_map = {}\n",
    "        for ind in individuals_map.keys():\n",
    "            label_file = f\"{ind}_{label_filetype}\"\n",
    "            if label_file not in target_dir_files:\n",
    "                raise FileNotFoundError(f\"Could not find label {label_file} \")\n",
    "            else:\n",
    "                individuals_labels_map[ind] = label_file\n",
    "        \n",
    "        # initialize object\n",
    "        self.imgs_dir = imgs_dir\n",
    "        self.individuals = natsorted(list(individuals_map.keys()))\n",
    "        self.img_filetypes = natsorted(list(img_filetypes)) # ensure it is a fixed ordered object\n",
    "        self.label_filetype = label_filetype\n",
    "        self.transform = transform\n",
    "        self.target_transform = target_transform\n",
    "            \n",
    "    def __getitem__(self, idx):\n",
    "        # compute paths to images and labels\n",
    "        img_paths = [\n",
    "            os.path.join(*[self.imgs_dir, \"imgs\", f\"{self.individuals[idx]}_{filetype}\"])\n",
    "            for filetype in self.img_filetypes\n",
    "        ]\n",
    "        label_path = os.path.join(*[self.imgs_dir, \"labels\", f\"{self.individuals[idx]}_{self.label_filetype}\"])\n",
    "\n",
    "        # loading brain scans\n",
    "        # images = [nib.load(img_path) for img_path in img_paths]\n",
    "        # images = [img.get_fdata().astype(np.float32) for img in images]\n",
    "        # image = np.concatenate(images)\n",
    "        # label = nib.load(label_path).get_fdata().astype(np.float32)\n",
    "        \n",
    "        # sitk equivalent\n",
    "        images = [sitk.ReadImage(img_path) for img_path in img_paths]\n",
    "        images = [sitk.GetArrayFromImage(img) for img in images]\n",
    "        images = [img.astype(np.float32) for img in images]\n",
    "        label = sitk.ReadImage(label_path)\n",
    "        label = sitk.GetArrayFromImage(label)\n",
    "        label = label.astype(np.float32)\n",
    "        \n",
    "        # convert to tensors\n",
    "        if len(images) == 1:\n",
    "            image = torch.FloatTensor(images[0])\n",
    "        else:\n",
    "            images = np.stack(images, axis=0)\n",
    "            image = torch.FloatTensor(images)\n",
    "        label = torch.FloatTensor(label).unsqueeze(0) # nesseary to match the dimensions of the images\n",
    "\n",
    "\n",
    "        \"\"\"\n",
    "        THIS MAY BE USEFUL WHEN DEBUGGING THIS, I WILL NEED TO SORT THE DIMENSIONS OUT\n",
    "        SO THAT THEY MATCH THE WAY I EXPECT, BUT IT IS ROUGHLY THERE\n",
    "\n",
    "        img_array = torch.FloatTensor(img_array).unsqueeze(0)\n",
    "    mask_array = torch.FloatTensor(mask_array).unsqueeze(0)\n",
    "\n",
    "    if self.transforms:\n",
    "        img_array,mask_array = self.transforms(img_array, mask_array)     \n",
    "        \"\"\"\n",
    "\n",
    "        # apply transforms\n",
    "        if self.transform:\n",
    "            image = self.transform(image)\n",
    "        if self.target_transform:\n",
    "            label = self.target_transform(label)\n",
    "\n",
    "        return image, label\n",
    "\n",
    "    def __len__(self):\n",
    "        return len(self.individuals)\n",
    "        "
   ]
  },
  {
   "cell_type": "code",
   "execution_count": 3,
   "id": "cc1eca74-9d99-411a-a858-e28b8915e2be",
   "metadata": {},
   "outputs": [],
   "source": [
    "domain = \"Utrecht\"\n",
    "dataset_utrecht = MRISegmentationDataset(\n",
    "    imgs_dir = \"/media/benp/NVMEspare/datasets/preprocessing_attempts/local_results/WMH_challenge_dataset/\" + domain,\n",
    "    img_filetypes = [\"FLAIR.nii.gz\", \"T1.nii.gz\"],\n",
    "    label_filetype=\"wmh.nii.gz\",\n",
    "    transform=None,\n",
    "    target_transform=None\n",
    ")"
   ]
  },
  {
   "cell_type": "code",
   "execution_count": 4,
   "id": "47e0bd17-052a-4922-a4ed-ea4ccd05be36",
   "metadata": {},
   "outputs": [],
   "source": [
    "img, label = dataset_utrecht[0]"
   ]
  },
  {
   "cell_type": "code",
   "execution_count": 5,
   "id": "2d141861-3885-41d6-9e9e-f0966bed2faf",
   "metadata": {},
   "outputs": [
    {
     "data": {
      "text/plain": [
       "torch.Size([2, 48, 230, 230])"
      ]
     },
     "execution_count": 5,
     "metadata": {},
     "output_type": "execute_result"
    }
   ],
   "source": [
    "img.shape"
   ]
  },
  {
   "cell_type": "code",
   "execution_count": 128,
   "id": "464588b9-bba2-4fd9-9aa6-a60b306d2358",
   "metadata": {},
   "outputs": [
    {
     "data": {
      "text/plain": [
       "tensor([[[[0.0002, 0.0002, 0.0002,  ..., 0.0002, 0.0002, 0.0002],\n",
       "          [0.0002, 0.0002, 0.0002,  ..., 0.0002, 0.0002, 0.0002],\n",
       "          [0.0002, 0.0002, 0.0002,  ..., 0.0002, 0.0002, 0.0002],\n",
       "          ...,\n",
       "          [0.0002, 0.0002, 0.0002,  ..., 0.0002, 0.0002, 0.0002],\n",
       "          [0.0002, 0.0002, 0.0002,  ..., 0.0002, 0.0002, 0.0002],\n",
       "          [0.0002, 0.0002, 0.0002,  ..., 0.0002, 0.0002, 0.0002]],\n",
       "\n",
       "         [[0.0002, 0.0002, 0.0002,  ..., 0.0002, 0.0002, 0.0002],\n",
       "          [0.0002, 0.0002, 0.0002,  ..., 0.0002, 0.0002, 0.0002],\n",
       "          [0.0002, 0.0002, 0.0002,  ..., 0.0002, 0.0002, 0.0002],\n",
       "          ...,\n",
       "          [0.0002, 0.0002, 0.0002,  ..., 0.0002, 0.0002, 0.0002],\n",
       "          [0.0002, 0.0002, 0.0002,  ..., 0.0002, 0.0002, 0.0002],\n",
       "          [0.0002, 0.0002, 0.0002,  ..., 0.0002, 0.0002, 0.0002]],\n",
       "\n",
       "         [[0.0002, 0.0002, 0.0002,  ..., 0.0002, 0.0002, 0.0002],\n",
       "          [0.0002, 0.0002, 0.0002,  ..., 0.0002, 0.0002, 0.0002],\n",
       "          [0.0002, 0.0002, 0.0002,  ..., 0.0002, 0.0002, 0.0002],\n",
       "          ...,\n",
       "          [0.0002, 0.0002, 0.0002,  ..., 0.0002, 0.0002, 0.0002],\n",
       "          [0.0002, 0.0002, 0.0002,  ..., 0.0002, 0.0002, 0.0002],\n",
       "          [0.0002, 0.0002, 0.0002,  ..., 0.0002, 0.0002, 0.0002]],\n",
       "\n",
       "         ...,\n",
       "\n",
       "         [[0.0002, 0.0002, 0.0002,  ..., 0.0002, 0.0002, 0.0002],\n",
       "          [0.0002, 0.0002, 0.0002,  ..., 0.0002, 0.0002, 0.0002],\n",
       "          [0.0002, 0.0002, 0.0002,  ..., 0.0002, 0.0002, 0.0002],\n",
       "          ...,\n",
       "          [0.0002, 0.0002, 0.0002,  ..., 0.0002, 0.0002, 0.0002],\n",
       "          [0.0002, 0.0002, 0.0002,  ..., 0.0002, 0.0002, 0.0002],\n",
       "          [0.0002, 0.0002, 0.0002,  ..., 0.0002, 0.0002, 0.0002]],\n",
       "\n",
       "         [[0.0002, 0.0002, 0.0002,  ..., 0.0002, 0.0002, 0.0002],\n",
       "          [0.0002, 0.0002, 0.0002,  ..., 0.0002, 0.0002, 0.0002],\n",
       "          [0.0002, 0.0002, 0.0002,  ..., 0.0002, 0.0002, 0.0002],\n",
       "          ...,\n",
       "          [0.0002, 0.0002, 0.0002,  ..., 0.0002, 0.0002, 0.0002],\n",
       "          [0.0002, 0.0002, 0.0002,  ..., 0.0002, 0.0002, 0.0002],\n",
       "          [0.0002, 0.0002, 0.0002,  ..., 0.0002, 0.0002, 0.0002]],\n",
       "\n",
       "         [[0.0002, 0.0002, 0.0002,  ..., 0.0002, 0.0002, 0.0002],\n",
       "          [0.0002, 0.0002, 0.0002,  ..., 0.0002, 0.0002, 0.0002],\n",
       "          [0.0002, 0.0002, 0.0002,  ..., 0.0002, 0.0002, 0.0002],\n",
       "          ...,\n",
       "          [0.0002, 0.0002, 0.0002,  ..., 0.0002, 0.0002, 0.0002],\n",
       "          [0.0002, 0.0002, 0.0002,  ..., 0.0002, 0.0002, 0.0002],\n",
       "          [0.0002, 0.0002, 0.0002,  ..., 0.0002, 0.0002, 0.0002]]],\n",
       "\n",
       "\n",
       "        [[[-0.0000, -0.0000, -0.0000,  ..., -0.0000, 0.0000, 0.0000],\n",
       "          [0.0000, 0.0000, 0.0000,  ..., 0.0000, -0.0000, -0.0000],\n",
       "          [-0.0000, -0.0000, -0.0000,  ..., -0.0000, 0.0000, 0.0000],\n",
       "          ...,\n",
       "          [-0.0000, -0.0000, 0.0000,  ..., -0.0000, 0.0000, 0.0000],\n",
       "          [0.0000, 0.0000, -0.0000,  ..., 0.0000, -0.0000, -0.0000],\n",
       "          [-0.0000, -0.0000, 0.0000,  ..., -0.0000, 0.0000, 0.0000]],\n",
       "\n",
       "         [[0.0000, 0.0000, 0.0000,  ..., 0.0000, -0.0000, -0.0000],\n",
       "          [-0.0000, -0.0000, -0.0000,  ..., -0.0000, 0.0000, 0.0000],\n",
       "          [0.0000, 0.0000, 0.0000,  ..., 0.0000, -0.0000, -0.0000],\n",
       "          ...,\n",
       "          [0.0000, 0.0000, -0.0000,  ..., 0.0000, -0.0000, -0.0000],\n",
       "          [-0.0000, -0.0000, 0.0000,  ..., -0.0000, 0.0000, 0.0000],\n",
       "          [0.0000, 0.0000, -0.0000,  ..., 0.0000, -0.0000, -0.0000]],\n",
       "\n",
       "         [[-0.0000, -0.0000, -0.0000,  ..., -0.0000, 0.0000, 0.0000],\n",
       "          [0.0000, 0.0000, 0.0000,  ..., 0.0000, -0.0000, -0.0000],\n",
       "          [-0.0000, -0.0000, -0.0000,  ..., -0.0000, 0.0000, 0.0000],\n",
       "          ...,\n",
       "          [-0.0000, -0.0000, 0.0000,  ..., -0.0000, 0.0000, 0.0000],\n",
       "          [0.0000, 0.0000, -0.0000,  ..., 0.0000, -0.0000, -0.0000],\n",
       "          [-0.0000, -0.0000, 0.0000,  ..., -0.0000, 0.0000, 0.0000]],\n",
       "\n",
       "         ...,\n",
       "\n",
       "         [[-0.0000, 0.0000, -0.0000,  ..., 0.0000, -0.0000, -0.0000],\n",
       "          [0.0000, -0.0000, 0.0000,  ..., -0.0000, 0.0000, 0.0000],\n",
       "          [-0.0000, 0.0000, -0.0000,  ..., 0.0000, -0.0000, -0.0000],\n",
       "          ...,\n",
       "          [-0.0000, -0.0000, 0.0000,  ..., 0.0000, -0.0000, -0.0000],\n",
       "          [0.0000, 0.0000, -0.0000,  ..., -0.0000, 0.0000, 0.0000],\n",
       "          [-0.0000, -0.0000, 0.0000,  ..., 0.0000, -0.0000, -0.0000]],\n",
       "\n",
       "         [[0.0000, -0.0000, 0.0000,  ..., -0.0000, 0.0000, 0.0000],\n",
       "          [-0.0000, 0.0000, -0.0000,  ..., 0.0000, -0.0000, -0.0000],\n",
       "          [0.0000, -0.0000, 0.0000,  ..., -0.0000, 0.0000, 0.0000],\n",
       "          ...,\n",
       "          [0.0000, 0.0000, -0.0000,  ..., -0.0000, 0.0000, 0.0000],\n",
       "          [-0.0000, -0.0000, 0.0000,  ..., 0.0000, -0.0000, -0.0000],\n",
       "          [0.0000, 0.0000, -0.0000,  ..., -0.0000, 0.0000, 0.0000]],\n",
       "\n",
       "         [[-0.0000, 0.0000, -0.0000,  ..., 0.0000, -0.0000, -0.0000],\n",
       "          [0.0000, -0.0000, 0.0000,  ..., -0.0000, 0.0000, 0.0000],\n",
       "          [-0.0000, 0.0000, -0.0000,  ..., 0.0000, -0.0000, -0.0000],\n",
       "          ...,\n",
       "          [-0.0000, -0.0000, 0.0000,  ..., 0.0000, -0.0000, -0.0000],\n",
       "          [0.0000, 0.0000, -0.0000,  ..., -0.0000, 0.0000, 0.0000],\n",
       "          [-0.0000, -0.0000, 0.0000,  ..., 0.0000, -0.0000, -0.0000]]]])"
      ]
     },
     "execution_count": 128,
     "metadata": {},
     "output_type": "execute_result"
    }
   ],
   "source": [
    "img"
   ]
  },
  {
   "cell_type": "markdown",
   "id": "10e69f86-f94d-4571-9e95-22ad8344b49e",
   "metadata": {},
   "source": [
    "formatting issues, pytorch expects input shape N C H W (n=batch, c=channels, height, width). lets sub in sitk and see if it works better."
   ]
  },
  {
   "cell_type": "code",
   "execution_count": 129,
   "id": "d5cef435-c7af-4cc7-b251-bef713c46bea",
   "metadata": {},
   "outputs": [
    {
     "data": {
      "text/plain": [
       "torch.Size([1, 230, 230, 48])"
      ]
     },
     "execution_count": 129,
     "metadata": {},
     "output_type": "execute_result"
    }
   ],
   "source": [
    "label.shape"
   ]
  },
  {
   "cell_type": "code",
   "execution_count": 130,
   "id": "4eaa3622-a220-4a69-91a6-69650b0065a9",
   "metadata": {},
   "outputs": [],
   "source": [
    "import matplotlib.pyplot as plt"
   ]
  },
  {
   "cell_type": "code",
   "execution_count": 131,
   "id": "d41ac508-2c89-48c3-99a2-b87641f63089",
   "metadata": {},
   "outputs": [
    {
     "data": {
      "text/plain": [
       "<matplotlib.image.AxesImage at 0x7f193555a5e0>"
      ]
     },
     "execution_count": 131,
     "metadata": {},
     "output_type": "execute_result"
    },
    {
     "data": {
      "image/png": "[encoded data removed]",
      "text/plain": [
       "<Figure size 432x288 with 1 Axes>"
      ]
     },
     "metadata": {
      "needs_background": "light"
     },
     "output_type": "display_data"
    }
   ],
   "source": [
    "plt.imshow(label[0,:,:,22])"
   ]
  },
  {
   "cell_type": "code",
   "execution_count": 132,
   "id": "77a8623d-e08c-4efe-8cee-625ecc5f951a",
   "metadata": {},
   "outputs": [
    {
     "data": {
      "text/plain": [
       "array([0., 1., 2.], dtype=float32)"
      ]
     },
     "execution_count": 132,
     "metadata": {},
     "output_type": "execute_result"
    }
   ],
   "source": [
    "np.unique(label)"
   ]
  },
  {
   "cell_type": "code",
   "execution_count": 133,
   "id": "d46ade3d-f6fd-4dd4-8baf-a3a7031eb52f",
   "metadata": {},
   "outputs": [
    {
     "data": {
      "text/plain": [
       "<matplotlib.image.AxesImage at 0x7f193551b970>"
      ]
     },
     "execution_count": 133,
     "metadata": {},
     "output_type": "execute_result"
    },
    {
     "data": {
      "image/png": "[encoded data removed]",
      "text/plain": [
       "<Figure size 432x288 with 1 Axes>"
      ]
     },
     "metadata": {
      "needs_background": "light"
     },
     "output_type": "display_data"
    }
   ],
   "source": [
    "plt.imshow(img[0,:,:,22])"
   ]
  },
  {
   "cell_type": "markdown",
   "id": "05175bb8-e24f-4225-a339-162fddbd0971",
   "metadata": {},
   "source": [
    "### The label above has two classification values...\n",
    "does the original and if so what are these\n"
   ]
  },
  {
   "cell_type": "code",
   "execution_count": 63,
   "id": "934b00a4-d135-4cc9-9fd5-b20ae1f48c3b",
   "metadata": {},
   "outputs": [],
   "source": [
    "from twaidata.MRI_preprep.io import load_nii_img"
   ]
  },
  {
   "cell_type": "code",
   "execution_count": 61,
   "id": "458a7ee8-ac6e-4b42-a6e2-0850a4fe08ea",
   "metadata": {},
   "outputs": [],
   "source": [
    "orig = \"/media/benp/NVMEspare/datasets/MRI_IP_project/WMH_challenge_dataset/public/Utrecht/0\""
   ]
  },
  {
   "cell_type": "code",
   "execution_count": 64,
   "id": "1a503f17-a323-4d25-a890-a71e19ee528a",
   "metadata": {},
   "outputs": [],
   "source": [
    "orig_label_file = orig + \"/wmh.nii.gz\""
   ]
  },
  {
   "cell_type": "code",
   "execution_count": 66,
   "id": "4c7cdbc4-0762-4846-8ac4-402c17c73052",
   "metadata": {},
   "outputs": [],
   "source": [
    "orig_label, _ = load_nii_img(orig_label_file)"
   ]
  },
  {
   "cell_type": "code",
   "execution_count": 67,
   "id": "5b9ec992-4e5b-444a-8f59-2d6d168b4c31",
   "metadata": {},
   "outputs": [
    {
     "data": {
      "text/plain": [
       "<matplotlib.image.AxesImage at 0x7f1948c18a00>"
      ]
     },
     "execution_count": 67,
     "metadata": {},
     "output_type": "execute_result"
    },
    {
     "data": {
      "image/png": "[encoded data removed]",
      "text/plain": [
       "<Figure size 432x288 with 1 Axes>"
      ]
     },
     "metadata": {
      "needs_background": "light"
     },
     "output_type": "display_data"
    }
   ],
   "source": [
    "plt.imshow(orig_label[:,:,22])"
   ]
  },
  {
   "cell_type": "markdown",
   "id": "24966a42-920e-467b-ac24-655b2fde0973",
   "metadata": {},
   "source": [
    "# the answer\n",
    "its 0 for backgroud, 1 for white matter, and 2 for other pathology. I'm not sure if using it will help or not.\n",
    "for now I am going to ignore it."
   ]
  },
  {
   "cell_type": "code",
   "execution_count": 69,
   "id": "e6eea946-e12a-45ca-8587-70b6f420a9d4",
   "metadata": {},
   "outputs": [
    {
     "data": {
      "text/plain": [
       "torch.Size([230, 230, 48, 2])"
      ]
     },
     "execution_count": 69,
     "metadata": {},
     "output_type": "execute_result"
    }
   ],
   "source": [
    "img.shape"
   ]
  },
  {
   "cell_type": "code",
   "execution_count": null,
   "id": "113bce17-4854-446f-9de4-bf45649a2585",
   "metadata": {},
   "outputs": [],
   "source": []
  }
 ],
 "metadata": {
  "kernelspec": {
   "display_name": "Python 3 (ipykernel)",
   "language": "python",
   "name": "python3"
  },
  "language_info": {
   "codemirror_mode": {
    "name": "ipython",
    "version": 3
   },
   "file_extension": ".py",
   "mimetype": "text/x-python",
   "name": "python",
   "nbconvert_exporter": "python",
   "pygments_lexer": "ipython3",
   "version": "3.9.12"
  }
 },
 "nbformat": 4,
 "nbformat_minor": 5
}
