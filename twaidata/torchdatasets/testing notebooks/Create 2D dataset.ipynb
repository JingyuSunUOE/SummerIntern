{
 "cells": [
  {
   "cell_type": "code",
   "execution_count": 1,
   "id": "9cfdfd58-9800-482a-9fb0-bdedf221e36f",
   "metadata": {},
   "outputs": [],
   "source": [
    "import numpy as np\n",
    "from twaidata.torchdatasets.whole_brain_dataset import MRISegmentationDataset\n",
    "import torch\n",
    "import os\n",
    "from trustworthai.utils.augmentation.standard_transforms import NormalizeImg, PairedCompose, LabelSelect, PairedCentreCrop, CropZDim"
   ]
  },
  {
   "cell_type": "markdown",
   "id": "b757df73-d0b9-49fc-b2ee-7b2af6d3ff44",
   "metadata": {},
   "source": [
    "### load existing domain datasets"
   ]
  },
  {
   "cell_type": "code",
   "execution_count": 2,
   "id": "2694533f-a859-48c5-9bf8-5569e1bb8761",
   "metadata": {},
   "outputs": [],
   "source": [
    "root_dir = \"/disk/scratch/s2208943/data\""
   ]
  },
  {
   "cell_type": "code",
   "execution_count": 3,
   "id": "1a1f5017-2f9b-4955-89f6-6feaea5bafe2",
   "metadata": {},
   "outputs": [],
   "source": [
    "CROP_SIZE = (224,160) # 192 perfect for singapore and utrecht but not for ge3t which is a different shape. \n",
    "                    # 192 is divisible by 2 6 times (3*2^6 = 192) but 224 and 160 still 5 times so won't cause any problems hopefully.\n",
    "WMH_LABEL = 1\n",
    "\n",
    "\n",
    "domain_dcrop_map = {\n",
    "    \"Singapore\":(0,48),\n",
    "    \"Utrecht\":(0,48),\n",
    "    \"GE3T\":(30,78),\n",
    "    \"domainA\":(0,40),\n",
    "    \"domainB\":(5,48),\n",
    "    \"domainC\":(5,48), # I do not think the 'domain C' images have been correctly identified\n",
    "    \"domainD\":(7,52)\n",
    "}\n",
    "\n",
    "def get_transforms(dcrop_bounds):\n",
    "    start_dcrop, end_dcrop = dcrop_bounds\n",
    "    transforms = PairedCompose([\n",
    "        PairedCentreCrop(CROP_SIZE),                  # cut out the centre square\n",
    "        CropZDim(end_dcrop-start_dcrop, start_dcrop, end_dcrop),  # crop the z stack\n",
    "        LabelSelect(WMH_LABEL),                       # extract the desired label\n",
    "        # NormalizeImg(p=1) # do i want to normalize each image.. i might leave this out as I want to play about with this....\n",
    "    ])\n",
    "    return transforms"
   ]
  },
  {
   "cell_type": "code",
   "execution_count": 4,
   "id": "73f131c3-ed32-4a9e-b069-0c829a5532e0",
   "metadata": {},
   "outputs": [],
   "source": [
    "domains = [\"Singapore\", \"Utrecht\", \"GE3T\", \"domainA\", \"domainB\", \"domainC\", \"domainD\"]\n",
    "domains = [os.path.join(root_dir, d) for d in domains]\n"
   ]
  },
  {
   "cell_type": "code",
   "execution_count": 5,
   "id": "6fd507b2-5d5d-40c8-a8fa-dd59c1645558",
   "metadata": {},
   "outputs": [],
   "source": [
    "datasets_domains = [\n",
    "    (dom,\n",
    "     MRISegmentationDataset(\n",
    "         dom, \n",
    "         transforms=get_transforms(domain_dcrop_map[dom.split(os.path.sep)[-1]])\n",
    "        )\n",
    "    ) \n",
    "    for dom in domains\n",
    "]"
   ]
  },
  {
   "cell_type": "markdown",
   "id": "01fa4d54-880a-4f32-a9e5-683a1398e307",
   "metadata": {},
   "source": [
    "### processing"
   ]
  },
  {
   "cell_type": "code",
   "execution_count": 6,
   "id": "653d5c57-8456-4380-bc99-03595619ce83",
   "metadata": {},
   "outputs": [
    {
     "name": "stdout",
     "output_type": "stream",
     "text": [
      "reading in domain: /disk/scratch/s2208943/data/Singapore\n",
      "reading in domain: /disk/scratch/s2208943/data/Utrecht\n",
      "reading in domain: /disk/scratch/s2208943/data/GE3T\n",
      "reading in domain: /disk/scratch/s2208943/data/domainA\n",
      "reading in domain: /disk/scratch/s2208943/data/domainB\n",
      "reading in domain: /disk/scratch/s2208943/data/domainC\n",
      "reading in domain: /disk/scratch/s2208943/data/domainD\n"
     ]
    }
   ],
   "source": [
    "# collect each domain's imgs and labels into a list\n",
    "data_domains = []\n",
    "for dom, dataset in datasets_domains:\n",
    "    print(f\"reading in domain: {dom}\")\n",
    "    data_imgs = []\n",
    "    data_labels = []\n",
    "    for (img, label) in dataset:\n",
    "        data_imgs.append(img)\n",
    "        data_labels.append(label)\n",
    "    data_domains.append((dom, data_imgs, data_labels))"
   ]
  },
  {
   "cell_type": "code",
   "execution_count": 17,
   "id": "26227a56-8536-40f2-9af9-b7c36960036d",
   "metadata": {},
   "outputs": [
    {
     "name": "stdout",
     "output_type": "stream",
     "text": [
      "stacking /disk/scratch/s2208943/data/Singapore into numpy arrays\n",
      "stacking /disk/scratch/s2208943/data/Utrecht into numpy arrays\n",
      "stacking /disk/scratch/s2208943/data/GE3T into numpy arrays\n",
      "stacking /disk/scratch/s2208943/data/domainA into numpy arrays\n",
      "stacking /disk/scratch/s2208943/data/domainB into numpy arrays\n",
      "stacking /disk/scratch/s2208943/data/domainC into numpy arrays\n",
      "stacking /disk/scratch/s2208943/data/domainD into numpy arrays\n"
     ]
    }
   ],
   "source": [
    "# convert the imgs and labels to numpy arrays\n",
    "numpy_data_domains = []\n",
    "for dom, img_data, label_data in data_domains:\n",
    "    print(f\"stacking {dom} into numpy arrays\")\n",
    "    numpy_data_domains.append((dom, np.stack(img_data, axis=0), np.stack(label_data, axis=0)))"
   ]
  },
  {
   "cell_type": "markdown",
   "id": "0f2ee2a2-ce7f-48e4-98a5-6690cee21bbb",
   "metadata": {},
   "source": [
    "### saving"
   ]
  },
  {
   "cell_type": "code",
   "execution_count": 28,
   "id": "d1b341ad-2dfc-43f7-936e-d52a53b65266",
   "metadata": {},
   "outputs": [],
   "source": [
    "# save each numpy array to disk\n",
    "out_dir = \"/disk/scratch/s2208943/data/merged_data\""
   ]
  },
  {
   "cell_type": "code",
   "execution_count": 29,
   "id": "993a9fb6-af10-4fc2-9227-8b43f7d397d9",
   "metadata": {},
   "outputs": [
    {
     "name": "stdout",
     "output_type": "stream",
     "text": [
      "saving domain:  /disk/scratch/s2208943/data/Singapore\n",
      "saving domain:  /disk/scratch/s2208943/data/Utrecht\n",
      "saving domain:  /disk/scratch/s2208943/data/GE3T\n",
      "saving domain:  /disk/scratch/s2208943/data/domainA\n",
      "saving domain:  /disk/scratch/s2208943/data/domainB\n",
      "saving domain:  /disk/scratch/s2208943/data/domainC\n",
      "saving domain:  /disk/scratch/s2208943/data/domainD\n"
     ]
    }
   ],
   "source": [
    "for dom, img_arr, label_arr in numpy_data_domains:\n",
    "    print(\"saving domain: \", dom)\n",
    "    out_file_imgs = os.path.join(out_dir, dom + \"_imgs.npy\")\n",
    "    out_file_labels = os.path.join(out_dir, dom + \"_labels.npy\")\n",
    "    np.save(out_file_imgs, img_arr)\n",
    "    np.save(out_file_labels, label_arr)"
   ]
  },
  {
   "cell_type": "code",
   "execution_count": null,
   "id": "65c16332-9e3b-4b05-8bde-39dfc4f5a557",
   "metadata": {},
   "outputs": [],
   "source": [
    "# now do rsync in a terminal to copy the data from scratch back to DFS\n",
    "# rsync --archive --update --compress --progress ${src_path}/ ${dest_path}"
   ]
  },
  {
   "cell_type": "markdown",
   "id": "d67510f2-538c-48c8-b0d8-4eb963fdb892",
   "metadata": {},
   "source": [
    "#### Testing the 2D dataset\n"
   ]
  },
  {
   "cell_type": "code",
   "execution_count": 1,
   "id": "35feec30-4741-4515-b8bd-b69f76f7ea5c",
   "metadata": {},
   "outputs": [],
   "source": [
    "from twaidata.torchdatasets.slice_dataset_2D import MRISegmentation2DDataset"
   ]
  },
  {
   "cell_type": "code",
   "execution_count": 2,
   "id": "400ef41e-070d-4f79-b28d-ab0a338a3226",
   "metadata": {},
   "outputs": [],
   "source": [
    "dataset = MRISegmentation2DDataset(\"/disk/scratch/s2208943/data/merged_data\", \"Singapore\", None)"
   ]
  },
  {
   "cell_type": "code",
   "execution_count": 3,
   "id": "69461fb2-0fb4-4604-b8e5-123e9f6b269b",
   "metadata": {},
   "outputs": [
    {
     "data": {
      "text/plain": [
       "960"
      ]
     },
     "execution_count": 3,
     "metadata": {},
     "output_type": "execute_result"
    }
   ],
   "source": [
    "len(dataset)"
   ]
  },
  {
   "cell_type": "code",
   "execution_count": 4,
   "id": "82915d73-1593-4b4b-b30f-db68873d08c6",
   "metadata": {},
   "outputs": [
    {
     "name": "stdout",
     "output_type": "stream",
     "text": [
      "n: 2, d: 4\n"
     ]
    }
   ],
   "source": [
    "img, label = dataset[100]"
   ]
  },
  {
   "cell_type": "code",
   "execution_count": null,
   "id": "7f5fc35f-d325-40f8-bee0-b991863bcb9b",
   "metadata": {},
   "outputs": [],
   "source": []
  }
 ],
 "metadata": {
  "kernelspec": {
   "display_name": "Python 3 (ipykernel)",
   "language": "python",
   "name": "python3"
  },
  "language_info": {
   "codemirror_mode": {
    "name": "ipython",
    "version": 3
   },
   "file_extension": ".py",
   "mimetype": "text/x-python",
   "name": "python",
   "nbconvert_exporter": "python",
   "pygments_lexer": "ipython3",
   "version": "3.9.12"
  }
 },
 "nbformat": 4,
 "nbformat_minor": 5
}
