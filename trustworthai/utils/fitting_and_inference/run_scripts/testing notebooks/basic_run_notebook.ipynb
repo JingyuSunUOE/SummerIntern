{
 "cells": [
  {
   "cell_type": "code",
   "execution_count": 1,
   "id": "45787e5c-0663-439b-8331-bbbe518a8b3d",
   "metadata": {},
   "outputs": [],
   "source": [
    "import torch\n",
    "import numpy as np\n",
    "\n",
    "# dataset\n",
    "from twaidata.torchdatasets.whole_brain_dataset import MRISegmentationDataset\n",
    "from torch.utils.data import DataLoader, random_split, ConcatDataset\n",
    "\n",
    "# model\n",
    "from trustworthai.models.base_models.kiUNets import KiUNet, KiUNetWithTranspose, KiUNet3D\n",
    "\n",
    "# augmentation\n",
    "from trustworthai.utils.augmentation.standard_transforms import RandomFlip, GaussianBlur, GaussianNoise, \\\n",
    "                                                            RandomResizeCrop, RandomAffine, \\\n",
    "                                                            NormalizeImg, PairedCompose, LabelSelect, \\\n",
    "                                                            PairedCentreCrop, CropZDim\n",
    "# loss function\n",
    "from trustworthai.utils.losses_and_metrics.tversky_loss import TverskyLoss\n",
    "from trustworthai.utils.losses_and_metrics.misc_metrics import IOU\n",
    "from trustworthai.utils.losses_and_metrics.dice import dice\n",
    "from torch.nn import BCELoss, MSELoss\n",
    "\n",
    "# fitter\n",
    "from trustworthai.utils.fitting_and_inference.fitters.basic_lightning_fitter import StandardLitModelWrapper, get_trainer\n",
    "\n",
    "# misc\n",
    "import os\n",
    "import torch\n",
    "import matplotlib.pyplot as plt\n",
    "import torch\n",
    "from torchinfo import summary"
   ]
  },
  {
   "cell_type": "markdown",
   "id": "8471b4d1-2b4b-40bd-8774-21f2ffe8a123",
   "metadata": {},
   "source": [
    "### Set the seed"
   ]
  },
  {
   "cell_type": "code",
   "execution_count": 2,
   "id": "35e9a1e7-0600-4b61-b4f1-c3711a5bbdd6",
   "metadata": {},
   "outputs": [],
   "source": [
    "torch.manual_seed(3407) # see this absolute meme of a paper: https://arxiv.org/pdf/2109.08203.pdf\n",
    "torch.cuda.manual_seed_all(3407)"
   ]
  },
  {
   "cell_type": "markdown",
   "id": "ac4b8deb-2416-485b-9b53-253788849900",
   "metadata": {},
   "source": [
    "### define datasets and dataloaders"
   ]
  },
  {
   "cell_type": "code",
   "execution_count": 3,
   "id": "7561d712-756b-47f4-8460-7924298bdedf",
   "metadata": {},
   "outputs": [],
   "source": [
    "#root_dir_wmh = \"/media/benp/NVMEspare/datasets/preprocessing_attempts/local_results/WMH_challenge_dataset\"\n",
    "root_dir = \"/disk/scratch/s2208943/data\""
   ]
  },
  {
   "cell_type": "code",
   "execution_count": 4,
   "id": "16bcfc24-2fb0-46c6-9df3-ab5246e7ead8",
   "metadata": {},
   "outputs": [],
   "source": [
    "# augmentation definintion\n",
    "CROP_SIZE = (224,160) # 192 perfect for singapore and utrecht but not for ge3t which is a different shape. \n",
    "                    # 192 is divisible by 2 6 times (3*2^6 = 192) but 224 and 160 still 5 times so won't cause any problems hopefully.\n",
    "WMH_LABEL = 1\n",
    "IMG_DEPTH = 8 # 15 # number of z stacks to select\n",
    "\n",
    "# SINGAPORE_zstartend = (30,78)\n",
    "# WMH_CHAL_zstartend = (0,48)\n",
    "\n",
    "FINAL_OUT_SIZE = (112,80)#(168, 120) # 112, 80\n",
    "\n",
    "domain_dcrop_map = {\n",
    "    \"Singapore\":(0,48),\n",
    "    \"Utrecht\":(0,48),\n",
    "    \"GE3T\":(30,78),\n",
    "    \"domainA\":(0,40),\n",
    "    \"domainB\":(5,48),\n",
    "    \"domainC\":(5,48), # I do not think the 'domain C' images have been correctly identified\n",
    "    \"domainD\":(7,52)\n",
    "}\n",
    "\n",
    "def get_transforms(dcrop_bounds):\n",
    "    start_dcrop, end_dcrop = dcrop_bounds\n",
    "    transforms = PairedCompose([\n",
    "        PairedCentreCrop(CROP_SIZE),                  # cut out the centre square\n",
    "        CropZDim(IMG_DEPTH, start_dcrop, end_dcrop),  # crop the z stack\n",
    "        LabelSelect(WMH_LABEL),\n",
    "        RandomFlip(p=0.5, orientation=\"horizontal\"),\n",
    "        GaussianBlur(p=0.5, kernel_size=7, sigma=(.1, 1.5)),\n",
    "        GaussianNoise(p=0.2, mean=0, sigma=0.2),\n",
    "        RandomAffine(p=0.2, shear=(.1,3.)),\n",
    "        RandomAffine(p=0.2, degrees=5),\n",
    "        RandomResizeCrop(p=1., scale=(0.6, 1.), ratio=(3./4., 4./3.), output_size=FINAL_OUT_SIZE)\n",
    "    ])\n",
    "    return transforms"
   ]
  },
  {
   "cell_type": "code",
   "execution_count": 5,
   "id": "067f7601-868b-4011-9c16-709063aaa6db",
   "metadata": {},
   "outputs": [],
   "source": [
    "# define paths to each domain\n",
    "domains = [\"Singapore\", \"Utrecht\", \"GE3T\", \"domainA\", \"domainB\", \"domainC\", \"domainD\"]\n",
    "domains = [os.path.join(root_dir, d) for d in domains]"
   ]
  },
  {
   "cell_type": "code",
   "execution_count": 6,
   "id": "c5bce59b-e6c1-4354-99af-3e3b4027a96e",
   "metadata": {},
   "outputs": [],
   "source": [
    "# function to do train validate test split\n",
    "test_proportion = 0.1\n",
    "validation_proportion = 0.2\n",
    "\n",
    "def train_val_test_split(dataset, val_prop, test_prop):\n",
    "    # I think the sklearn version might be prefereable for determinism and things\n",
    "    # but that involves fiddling with the dataset implementation I think....\n",
    "    size = len(dataset)\n",
    "    test_size = int(test_prop*size) \n",
    "    val_size = int(val_prop*size)\n",
    "    train_size = size - val_size - test_size\n",
    "    train, val, test = random_split(dataset, [train_size, val_size, test_size])\n",
    "    return train, val, test"
   ]
  },
  {
   "cell_type": "code",
   "execution_count": 7,
   "id": "1915eb6b-526d-48ff-a1f0-ae4c83f73395",
   "metadata": {},
   "outputs": [],
   "source": [
    "# load datasets\n",
    "datasets_domains = [\n",
    "    MRISegmentationDataset(\n",
    "        dom, \n",
    "        transforms=get_transforms(domain_dcrop_map[dom.split(os.path.sep)[-1]])\n",
    "    ) \n",
    "    for dom in domains]\n",
    "\n",
    "# split into train, val test datasets\n",
    "datasets = [train_val_test_split(dataset, validation_proportion, test_proportion) for dataset in datasets_domains]\n",
    "\n",
    "# concat the train val test datsets\n",
    "train_dataset = ConcatDataset([ds[0] for ds in datasets])\n",
    "val_dataset = ConcatDataset([ds[1] for ds in datasets])\n",
    "test_dataset = ConcatDataset([ds[2] for ds in datasets])"
   ]
  },
  {
   "cell_type": "code",
   "execution_count": 8,
   "id": "17ecb963-e9c2-4c85-a9a3-1f90f5f30200",
   "metadata": {},
   "outputs": [
    {
     "data": {
      "text/plain": [
       "(219, 61, 30)"
      ]
     },
     "execution_count": 8,
     "metadata": {},
     "output_type": "execute_result"
    }
   ],
   "source": [
    "len(train_dataset), len(val_dataset), len(test_dataset)"
   ]
  },
  {
   "cell_type": "code",
   "execution_count": 9,
   "id": "87052498-8b5b-4a62-9a94-a79b0d1138f6",
   "metadata": {
    "tags": []
   },
   "outputs": [],
   "source": [
    "# define dataloaders\n",
    "train_dataloader = DataLoader(train_dataset, batch_size=1, shuffle=True, num_workers=4)\n",
    "test_dataloader = DataLoader(test_dataset, batch_size = 1, shuffle=False, num_workers=4)\n",
    "val_dataloader = DataLoader(val_dataset, batch_size=1, shuffle=False)"
   ]
  },
  {
   "cell_type": "code",
   "execution_count": 10,
   "id": "34591e28-abed-4d23-8928-e91432c20151",
   "metadata": {},
   "outputs": [],
   "source": [
    "img, label = datasets_domains[3][0]"
   ]
  },
  {
   "cell_type": "code",
   "execution_count": 11,
   "id": "80b60253-ceee-4922-b96c-c6d287dd1212",
   "metadata": {},
   "outputs": [],
   "source": [
    "#img, label = train_dataset[3]"
   ]
  },
  {
   "cell_type": "code",
   "execution_count": 12,
   "id": "6648b6ff-5097-42bf-b378-de14c0f5a294",
   "metadata": {},
   "outputs": [
    {
     "data": {
      "text/plain": [
       "torch.Size([2, 8, 112, 80])"
      ]
     },
     "execution_count": 12,
     "metadata": {},
     "output_type": "execute_result"
    }
   ],
   "source": [
    "img.shape"
   ]
  },
  {
   "cell_type": "code",
   "execution_count": 13,
   "id": "46a05975-df61-4525-ad51-51b84e2bf0e3",
   "metadata": {},
   "outputs": [
    {
     "data": {
      "text/plain": [
       "<matplotlib.image.AxesImage at 0x7f17bdd319a0>"
      ]
     },
     "execution_count": 13,
     "metadata": {},
     "output_type": "execute_result"
    },
    {
     "data": {
      "image/png": "[encoded data removed]",
      "text/plain": [
       "<Figure size 720x360 with 2 Axes>"
      ]
     },
     "metadata": {
      "needs_background": "light"
     },
     "output_type": "display_data"
    }
   ],
   "source": [
    "# plot an image\n",
    "#img, label = train_dataset[10]\n",
    "img, label = datasets_domains[6][0]\n",
    "islice = 4\n",
    "plt.figure(figsize=(10,5))\n",
    "plt.subplot(1,2,1)\n",
    "plt.imshow(img.numpy()[0,islice,:,:])\n",
    "plt.subplot(1,2,2)\n",
    "plt.imshow((label.numpy()==1)[0,islice,:,:])"
   ]
  },
  {
   "cell_type": "markdown",
   "id": "49aa07f7-564c-41c7-980c-dfe1f9b33cec",
   "metadata": {},
   "source": [
    "### define model"
   ]
  },
  {
   "cell_type": "code",
   "execution_count": 14,
   "id": "c0f8e0ed-51e0-4d83-83ae-265070a115af",
   "metadata": {},
   "outputs": [],
   "source": [
    "model = KiUNet3D(encoder_layers=[16,32,64], \n",
    "                 decoder_layers=[32,16,8], \n",
    "                 encoderf1_layers=[16,32,64], \n",
    "                 decoderf1_layers=[32,16,8], \n",
    "                 intere_layers=[16,32,64], \n",
    "                 interd_layers=[32,16],\n",
    "                 in_channels=2, \n",
    "                 out_channels=1, \n",
    "                 kernel_size=3,\n",
    "                 dropout_p=0.1)"
   ]
  },
  {
   "cell_type": "code",
   "execution_count": 15,
   "id": "2c9f5671-ec1f-4b8b-aa71-a6bdddad9b85",
   "metadata": {},
   "outputs": [
    {
     "data": {
      "text/plain": [
       "=================================================================\n",
       "Layer (type:depth-idx)                   Param #\n",
       "=================================================================\n",
       "KiUNet3D                                 --\n",
       "├─ModuleList: 1-1                        --\n",
       "│    └─SimpleBlock: 2-1                  --\n",
       "│    │    └─Conv3d: 3-1                  880\n",
       "│    │    └─BatchNorm3d: 3-2             32\n",
       "│    │    └─Dropout3d: 3-3               --\n",
       "│    └─SimpleBlock: 2-2                  --\n",
       "│    │    └─Conv3d: 3-4                  13,856\n",
       "│    │    └─BatchNorm3d: 3-5             64\n",
       "│    │    └─Dropout3d: 3-6               --\n",
       "│    └─SimpleBlock: 2-3                  --\n",
       "│    │    └─Conv3d: 3-7                  55,360\n",
       "│    │    └─BatchNorm3d: 3-8             128\n",
       "│    │    └─Dropout3d: 3-9               --\n",
       "├─ModuleList: 1-2                        --\n",
       "│    └─SimpleBlock: 2-4                  --\n",
       "│    │    └─Conv3d: 3-10                 55,328\n",
       "│    │    └─BatchNorm3d: 3-11            64\n",
       "│    │    └─Dropout3d: 3-12              --\n",
       "│    └─SimpleBlock: 2-5                  --\n",
       "│    │    └─Conv3d: 3-13                 13,840\n",
       "│    │    └─BatchNorm3d: 3-14            32\n",
       "│    │    └─Dropout3d: 3-15              --\n",
       "│    └─SimpleBlock: 2-6                  --\n",
       "│    │    └─Conv3d: 3-16                 3,464\n",
       "│    │    └─BatchNorm3d: 3-17            16\n",
       "│    │    └─Dropout3d: 3-18              --\n",
       "├─ModuleList: 1-3                        --\n",
       "│    └─SimpleBlock: 2-7                  --\n",
       "│    │    └─Conv3d: 3-19                 880\n",
       "│    │    └─BatchNorm3d: 3-20            32\n",
       "│    │    └─Dropout3d: 3-21              --\n",
       "│    └─SimpleBlock: 2-8                  --\n",
       "│    │    └─Conv3d: 3-22                 13,856\n",
       "│    │    └─BatchNorm3d: 3-23            64\n",
       "│    │    └─Dropout3d: 3-24              --\n",
       "│    └─SimpleBlock: 2-9                  --\n",
       "│    │    └─Conv3d: 3-25                 55,360\n",
       "│    │    └─BatchNorm3d: 3-26            128\n",
       "│    │    └─Dropout3d: 3-27              --\n",
       "├─ModuleList: 1-4                        --\n",
       "│    └─SimpleBlock: 2-10                 --\n",
       "│    │    └─Conv3d: 3-28                 55,328\n",
       "│    │    └─BatchNorm3d: 3-29            64\n",
       "│    │    └─Dropout3d: 3-30              --\n",
       "│    └─SimpleBlock: 2-11                 --\n",
       "│    │    └─Conv3d: 3-31                 13,840\n",
       "│    │    └─BatchNorm3d: 3-32            32\n",
       "│    │    └─Dropout3d: 3-33              --\n",
       "│    └─SimpleBlock: 2-12                 --\n",
       "│    │    └─Conv3d: 3-34                 3,464\n",
       "│    │    └─BatchNorm3d: 3-35            16\n",
       "│    │    └─Dropout3d: 3-36              --\n",
       "├─ModuleList: 1-5                        --\n",
       "│    └─SimpleBlock: 2-13                 --\n",
       "│    │    └─Conv3d: 3-37                 6,928\n",
       "│    │    └─BatchNorm3d: 3-38            32\n",
       "│    │    └─Dropout3d: 3-39              --\n",
       "│    └─SimpleBlock: 2-14                 --\n",
       "│    │    └─Conv3d: 3-40                 27,680\n",
       "│    │    └─BatchNorm3d: 3-41            64\n",
       "│    │    └─Dropout3d: 3-42              --\n",
       "│    └─SimpleBlock: 2-15                 --\n",
       "│    │    └─Conv3d: 3-43                 110,656\n",
       "│    │    └─BatchNorm3d: 3-44            128\n",
       "│    │    └─Dropout3d: 3-45              --\n",
       "├─ModuleList: 1-6                        --\n",
       "│    └─SimpleBlock: 2-16                 --\n",
       "│    │    └─Conv3d: 3-46                 6,928\n",
       "│    │    └─BatchNorm3d: 3-47            32\n",
       "│    │    └─Dropout3d: 3-48              --\n",
       "│    └─SimpleBlock: 2-17                 --\n",
       "│    │    └─Conv3d: 3-49                 27,680\n",
       "│    │    └─BatchNorm3d: 3-50            64\n",
       "│    │    └─Dropout3d: 3-51              --\n",
       "│    └─SimpleBlock: 2-18                 --\n",
       "│    │    └─Conv3d: 3-52                 110,656\n",
       "│    │    └─BatchNorm3d: 3-53            128\n",
       "│    │    └─Dropout3d: 3-54              --\n",
       "├─ModuleList: 1-7                        --\n",
       "│    └─SimpleBlock: 2-19                 --\n",
       "│    │    └─Conv3d: 3-55                 27,680\n",
       "│    │    └─BatchNorm3d: 3-56            64\n",
       "│    │    └─Dropout3d: 3-57              --\n",
       "│    └─SimpleBlock: 2-20                 --\n",
       "│    │    └─Conv3d: 3-58                 6,928\n",
       "│    │    └─BatchNorm3d: 3-59            32\n",
       "│    │    └─Dropout3d: 3-60              --\n",
       "├─ModuleList: 1-8                        --\n",
       "│    └─SimpleBlock: 2-21                 --\n",
       "│    │    └─Conv3d: 3-61                 27,680\n",
       "│    │    └─BatchNorm3d: 3-62            64\n",
       "│    │    └─Dropout3d: 3-63              --\n",
       "│    └─SimpleBlock: 2-22                 --\n",
       "│    │    └─Conv3d: 3-64                 6,928\n",
       "│    │    └─BatchNorm3d: 3-65            32\n",
       "│    │    └─Dropout3d: 3-66              --\n",
       "├─Conv3d: 1-9                            9\n",
       "├─Softmax: 1-10                          --\n",
       "=================================================================\n",
       "Total params: 646,521\n",
       "Trainable params: 646,521\n",
       "Non-trainable params: 0\n",
       "================================================================="
      ]
     },
     "execution_count": 15,
     "metadata": {},
     "output_type": "execute_result"
    }
   ],
   "source": [
    "summary(model)"
   ]
  },
  {
   "cell_type": "markdown",
   "id": "d4c3ae75-6875-4e6e-b89c-1b0364a400ad",
   "metadata": {},
   "source": [
    "### define fitter"
   ]
  },
  {
   "cell_type": "code",
   "execution_count": 16,
   "id": "b2e46df2-77b7-4030-813c-4566fd041987",
   "metadata": {},
   "outputs": [],
   "source": [
    "loss = TverskyLoss()\n",
    "logging_metrics = [(\"dice\",dice), (\"IOU\",IOU)]\n",
    "fitter = StandardLitModelWrapper(model,\n",
    "                                 train_dataloader,\n",
    "                                 test_dataloader,\n",
    "                                 val_dataloader,\n",
    "                                 None,\n",
    "                                 loss,\n",
    "                                 logging_metrics\n",
    "                                )"
   ]
  },
  {
   "cell_type": "code",
   "execution_count": 17,
   "id": "018d8fcc-2919-49af-af7a-ca3cd79950c4",
   "metadata": {},
   "outputs": [
    {
     "name": "stderr",
     "output_type": "stream",
     "text": [
      "Using 16bit native Automatic Mixed Precision (AMP)\n",
      "GPU available: True, used: True\n",
      "TPU available: False, using: 0 TPU cores\n",
      "IPU available: False, using: 0 IPUs\n",
      "HPU available: False, using: 0 HPUs\n"
     ]
    }
   ],
   "source": [
    "#checkpoint_dir = \"/media/benp/NVMEspare/model_data/trustworthai/initial_tests\"\n",
    "checkpoint_dir = \"/disk/scratch/s2208943/results/\"\n",
    "strategy = None\n",
    "# strategy = \"deepspeed_stage_2\"\n",
    "# strategy = \"dp\"\n",
    "#strategy = \"deepspeed_stage_2_offload\"\n",
    "\n",
    "precision = None\n",
    "precision = 16\n",
    "trainer = get_trainer(checkpoint_dir, accelerator=\"gpu\", devices=1, max_epochs=400,\n",
    "                      strategy=strategy, precision=precision\n",
    "                     )"
   ]
  },
  {
   "cell_type": "code",
   "execution_count": 18,
   "id": "6b316ee2-2c82-41c4-bb7b-f957f93dfd6d",
   "metadata": {},
   "outputs": [
    {
     "name": "stderr",
     "output_type": "stream",
     "text": [
      "Missing logger folder: /disk/scratch/s2208943/results/lightning_logs\n",
      "LOCAL_RANK: 0 - CUDA_VISIBLE_DEVICES: [0,1,2]\n",
      "\n",
      "  | Name  | Type        | Params\n",
      "--------------------------------------\n",
      "0 | model | KiUNet3D    | 646 K \n",
      "1 | loss  | TverskyLoss | 0     \n",
      "--------------------------------------\n",
      "646 K     Trainable params\n",
      "0         Non-trainable params\n",
      "646 K     Total params\n",
      "1.293     Total estimated model params size (MB)\n"
     ]
    },
    {
     "data": {
      "application/vnd.jupyter.widget-view+json": {
       "model_id": "",
       "version_major": 2,
       "version_minor": 0
      },
      "text/plain": [
       "Sanity Checking: 0it [00:00, ?it/s]"
      ]
     },
     "metadata": {},
     "output_type": "display_data"
    },
    {
     "name": "stderr",
     "output_type": "stream",
     "text": [
      "/home/s2208943/miniconda3/envs/ip/lib/python3.9/site-packages/pytorch_lightning/trainer/connectors/data_connector.py:240: PossibleUserWarning: The dataloader, val_dataloader 0, does not have many workers which may be a bottleneck. Consider increasing the value of the `num_workers` argument` (try 20 which is the number of cpus on this machine) in the `DataLoader` init to improve performance.\n",
      "  rank_zero_warn(\n"
     ]
    },
    {
     "data": {
      "application/vnd.jupyter.widget-view+json": {
       "model_id": "b1677bac463f4109873655a056345eaa",
       "version_major": 2,
       "version_minor": 0
      },
      "text/plain": [
       "Training: 0it [00:00, ?it/s]"
      ]
     },
     "metadata": {},
     "output_type": "display_data"
    },
    {
     "data": {
      "application/vnd.jupyter.widget-view+json": {
       "model_id": "",
       "version_major": 2,
       "version_minor": 0
      },
      "text/plain": [
       "Validation: 0it [00:00, ?it/s]"
      ]
     },
     "metadata": {},
     "output_type": "display_data"
    },
    {
     "name": "stderr",
     "output_type": "stream",
     "text": [
      "Metric val_loss improved. New best score: 0.973\n"
     ]
    },
    {
     "data": {
      "application/vnd.jupyter.widget-view+json": {
       "model_id": "",
       "version_major": 2,
       "version_minor": 0
      },
      "text/plain": [
       "Validation: 0it [00:00, ?it/s]"
      ]
     },
     "metadata": {},
     "output_type": "display_data"
    },
    {
     "name": "stderr",
     "output_type": "stream",
     "text": [
      "Metric val_loss improved by 0.004 >= min_delta = 0.0. New best score: 0.969\n"
     ]
    },
    {
     "data": {
      "application/vnd.jupyter.widget-view+json": {
       "model_id": "",
       "version_major": 2,
       "version_minor": 0
      },
      "text/plain": [
       "Validation: 0it [00:00, ?it/s]"
      ]
     },
     "metadata": {},
     "output_type": "display_data"
    },
    {
     "data": {
      "application/vnd.jupyter.widget-view+json": {
       "model_id": "",
       "version_major": 2,
       "version_minor": 0
      },
      "text/plain": [
       "Validation: 0it [00:00, ?it/s]"
      ]
     },
     "metadata": {},
     "output_type": "display_data"
    },
    {
     "data": {
      "application/vnd.jupyter.widget-view+json": {
       "model_id": "",
       "version_major": 2,
       "version_minor": 0
      },
      "text/plain": [
       "Validation: 0it [00:00, ?it/s]"
      ]
     },
     "metadata": {},
     "output_type": "display_data"
    },
    {
     "data": {
      "application/vnd.jupyter.widget-view+json": {
       "model_id": "",
       "version_major": 2,
       "version_minor": 0
      },
      "text/plain": [
       "Validation: 0it [00:00, ?it/s]"
      ]
     },
     "metadata": {},
     "output_type": "display_data"
    },
    {
     "name": "stderr",
     "output_type": "stream",
     "text": [
      "Metric val_loss improved by 0.001 >= min_delta = 0.0. New best score: 0.968\n"
     ]
    },
    {
     "data": {
      "application/vnd.jupyter.widget-view+json": {
       "model_id": "",
       "version_major": 2,
       "version_minor": 0
      },
      "text/plain": [
       "Validation: 0it [00:00, ?it/s]"
      ]
     },
     "metadata": {},
     "output_type": "display_data"
    },
    {
     "data": {
      "application/vnd.jupyter.widget-view+json": {
       "model_id": "",
       "version_major": 2,
       "version_minor": 0
      },
      "text/plain": [
       "Validation: 0it [00:00, ?it/s]"
      ]
     },
     "metadata": {},
     "output_type": "display_data"
    },
    {
     "data": {
      "application/vnd.jupyter.widget-view+json": {
       "model_id": "",
       "version_major": 2,
       "version_minor": 0
      },
      "text/plain": [
       "Validation: 0it [00:00, ?it/s]"
      ]
     },
     "metadata": {},
     "output_type": "display_data"
    },
    {
     "data": {
      "application/vnd.jupyter.widget-view+json": {
       "model_id": "",
       "version_major": 2,
       "version_minor": 0
      },
      "text/plain": [
       "Validation: 0it [00:00, ?it/s]"
      ]
     },
     "metadata": {},
     "output_type": "display_data"
    },
    {
     "data": {
      "application/vnd.jupyter.widget-view+json": {
       "model_id": "",
       "version_major": 2,
       "version_minor": 0
      },
      "text/plain": [
       "Validation: 0it [00:00, ?it/s]"
      ]
     },
     "metadata": {},
     "output_type": "display_data"
    },
    {
     "data": {
      "application/vnd.jupyter.widget-view+json": {
       "model_id": "",
       "version_major": 2,
       "version_minor": 0
      },
      "text/plain": [
       "Validation: 0it [00:00, ?it/s]"
      ]
     },
     "metadata": {},
     "output_type": "display_data"
    },
    {
     "data": {
      "application/vnd.jupyter.widget-view+json": {
       "model_id": "",
       "version_major": 2,
       "version_minor": 0
      },
      "text/plain": [
       "Validation: 0it [00:00, ?it/s]"
      ]
     },
     "metadata": {},
     "output_type": "display_data"
    },
    {
     "data": {
      "application/vnd.jupyter.widget-view+json": {
       "model_id": "",
       "version_major": 2,
       "version_minor": 0
      },
      "text/plain": [
       "Validation: 0it [00:00, ?it/s]"
      ]
     },
     "metadata": {},
     "output_type": "display_data"
    },
    {
     "name": "stderr",
     "output_type": "stream",
     "text": [
      "Metric val_loss improved by 0.002 >= min_delta = 0.0. New best score: 0.966\n"
     ]
    },
    {
     "data": {
      "application/vnd.jupyter.widget-view+json": {
       "model_id": "",
       "version_major": 2,
       "version_minor": 0
      },
      "text/plain": [
       "Validation: 0it [00:00, ?it/s]"
      ]
     },
     "metadata": {},
     "output_type": "display_data"
    },
    {
     "data": {
      "application/vnd.jupyter.widget-view+json": {
       "model_id": "",
       "version_major": 2,
       "version_minor": 0
      },
      "text/plain": [
       "Validation: 0it [00:00, ?it/s]"
      ]
     },
     "metadata": {},
     "output_type": "display_data"
    },
    {
     "data": {
      "application/vnd.jupyter.widget-view+json": {
       "model_id": "",
       "version_major": 2,
       "version_minor": 0
      },
      "text/plain": [
       "Validation: 0it [00:00, ?it/s]"
      ]
     },
     "metadata": {},
     "output_type": "display_data"
    },
    {
     "data": {
      "application/vnd.jupyter.widget-view+json": {
       "model_id": "",
       "version_major": 2,
       "version_minor": 0
      },
      "text/plain": [
       "Validation: 0it [00:00, ?it/s]"
      ]
     },
     "metadata": {},
     "output_type": "display_data"
    },
    {
     "data": {
      "application/vnd.jupyter.widget-view+json": {
       "model_id": "",
       "version_major": 2,
       "version_minor": 0
      },
      "text/plain": [
       "Validation: 0it [00:00, ?it/s]"
      ]
     },
     "metadata": {},
     "output_type": "display_data"
    },
    {
     "data": {
      "application/vnd.jupyter.widget-view+json": {
       "model_id": "",
       "version_major": 2,
       "version_minor": 0
      },
      "text/plain": [
       "Validation: 0it [00:00, ?it/s]"
      ]
     },
     "metadata": {},
     "output_type": "display_data"
    },
    {
     "data": {
      "application/vnd.jupyter.widget-view+json": {
       "model_id": "",
       "version_major": 2,
       "version_minor": 0
      },
      "text/plain": [
       "Validation: 0it [00:00, ?it/s]"
      ]
     },
     "metadata": {},
     "output_type": "display_data"
    },
    {
     "data": {
      "application/vnd.jupyter.widget-view+json": {
       "model_id": "",
       "version_major": 2,
       "version_minor": 0
      },
      "text/plain": [
       "Validation: 0it [00:00, ?it/s]"
      ]
     },
     "metadata": {},
     "output_type": "display_data"
    },
    {
     "data": {
      "application/vnd.jupyter.widget-view+json": {
       "model_id": "",
       "version_major": 2,
       "version_minor": 0
      },
      "text/plain": [
       "Validation: 0it [00:00, ?it/s]"
      ]
     },
     "metadata": {},
     "output_type": "display_data"
    },
    {
     "data": {
      "application/vnd.jupyter.widget-view+json": {
       "model_id": "",
       "version_major": 2,
       "version_minor": 0
      },
      "text/plain": [
       "Validation: 0it [00:00, ?it/s]"
      ]
     },
     "metadata": {},
     "output_type": "display_data"
    },
    {
     "data": {
      "application/vnd.jupyter.widget-view+json": {
       "model_id": "",
       "version_major": 2,
       "version_minor": 0
      },
      "text/plain": [
       "Validation: 0it [00:00, ?it/s]"
      ]
     },
     "metadata": {},
     "output_type": "display_data"
    },
    {
     "name": "stderr",
     "output_type": "stream",
     "text": [
      "/home/s2208943/miniconda3/envs/ip/lib/python3.9/site-packages/pytorch_lightning/trainer/trainer.py:724: UserWarning: Detected KeyboardInterrupt, attempting graceful shutdown...\n",
      "  rank_zero_warn(\"Detected KeyboardInterrupt, attempting graceful shutdown...\")\n"
     ]
    }
   ],
   "source": [
    "trainer.fit(fitter, train_dataloader, val_dataloader)"
   ]
  },
  {
   "cell_type": "code",
   "execution_count": null,
   "id": "f3edc897-ac79-401c-b3bb-832d04073ccf",
   "metadata": {},
   "outputs": [],
   "source": []
  },
  {
   "cell_type": "code",
   "execution_count": null,
   "id": "d22f60c2-f21a-4c99-b596-eae46028b44d",
   "metadata": {},
   "outputs": [],
   "source": []
  },
  {
   "cell_type": "code",
   "execution_count": null,
   "id": "7e02b068-1596-4871-a94d-ffb012a51585",
   "metadata": {},
   "outputs": [],
   "source": []
  },
  {
   "cell_type": "code",
   "execution_count": null,
   "id": "fcbe17a4-7837-4053-856b-8696e8993bb2",
   "metadata": {},
   "outputs": [],
   "source": []
  },
  {
   "cell_type": "markdown",
   "id": "863f2503-4688-4d98-95a6-2f7690fde8f8",
   "metadata": {},
   "source": [
    "### test size on gpu"
   ]
  },
  {
   "cell_type": "code",
   "execution_count": null,
   "id": "e03f164e-d8c6-4fe3-999b-451c0869ecbb",
   "metadata": {},
   "outputs": [],
   "source": [
    "batch = next(iter(train_dataloader))"
   ]
  },
  {
   "cell_type": "code",
   "execution_count": null,
   "id": "90629534-c481-4391-9971-6c68d3beda9e",
   "metadata": {},
   "outputs": [],
   "source": [
    "mcuda = model.to(\"cuda\")"
   ]
  },
  {
   "cell_type": "code",
   "execution_count": null,
   "id": "b4579da3-4e3a-4f13-a99d-110fbb68a6a4",
   "metadata": {},
   "outputs": [],
   "source": [
    "y_hat = mcuda(batch[0].to(\"cuda\"))"
   ]
  },
  {
   "cell_type": "code",
   "execution_count": null,
   "id": "4ab18200-7634-4c5b-a18e-4cc36ac87a0d",
   "metadata": {},
   "outputs": [],
   "source": [
    "batch[0][0].shape"
   ]
  },
  {
   "cell_type": "code",
   "execution_count": null,
   "id": "a53ee03d-ad04-4c82-8f33-302e0ecba761",
   "metadata": {},
   "outputs": [],
   "source": [
    "plt.imshow(batch[0][0].numpy()[0,3,:,:])"
   ]
  },
  {
   "cell_type": "code",
   "execution_count": null,
   "id": "f3da6226-1b2c-4994-8f9d-55352ef15279",
   "metadata": {},
   "outputs": [],
   "source": [
    "y_hat.shape"
   ]
  },
  {
   "cell_type": "code",
   "execution_count": null,
   "id": "d6ad3884-6fa4-424c-af2c-30553ae0c45e",
   "metadata": {},
   "outputs": [],
   "source": [
    "plt.imshow(y_hat.detach().cpu()[0].numpy()[0,3,:,:])"
   ]
  },
  {
   "cell_type": "code",
   "execution_count": null,
   "id": "2af79d76-b05e-4b02-a142-3e46866332ef",
   "metadata": {},
   "outputs": [],
   "source": []
  }
 ],
 "metadata": {
  "kernelspec": {
   "display_name": "Python 3 (ipykernel)",
   "language": "python",
   "name": "python3"
  },
  "language_info": {
   "codemirror_mode": {
    "name": "ipython",
    "version": 3
   },
   "file_extension": ".py",
   "mimetype": "text/x-python",
   "name": "python",
   "nbconvert_exporter": "python",
   "pygments_lexer": "ipython3",
   "version": "3.9.12"
  }
 },
 "nbformat": 4,
 "nbformat_minor": 5
}
