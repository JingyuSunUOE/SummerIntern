{
 "cells": [
  {
   "cell_type": "code",
   "execution_count": 1,
   "id": "1aa95358-4f9a-422d-96db-be33373d7b26",
   "metadata": {},
   "outputs": [],
   "source": [
    "import torch\n",
    "import numpy as np\n",
    "\n",
    "# dataset\n",
    "from twaidata.torchdatasets.slice_dataset_2D import MRISegmentation2DDataset\n",
    "from torch.utils.data import DataLoader, random_split, ConcatDataset\n",
    "\n",
    "# model\n",
    "from trustworthai.models.base_models.kiUNets import KiUNet, KiUNetWithTranspose, KiUNet3D\n",
    "from trustworthai.models.base_models.UNet import UNet\n",
    "from trustworthai.models.base_models.torchUNet import UNet as TUNet\n",
    "\n",
    "# augmentation\n",
    "from trustworthai.utils.augmentation.standard_transforms import RandomFlip, GaussianBlur, GaussianNoise, \\\n",
    "                                                            RandomResizeCrop, RandomAffine, \\\n",
    "                                                            NormalizeImg, PairedCompose, LabelSelect, \\\n",
    "                                                            PairedCentreCrop, CropZDim\n",
    "# loss function\n",
    "from trustworthai.utils.losses_and_metrics.tversky_loss import TverskyLoss\n",
    "from trustworthai.utils.losses_and_metrics.misc_metrics import IOU\n",
    "from trustworthai.utils.losses_and_metrics.dice import dice\n",
    "from trustworthai.utils.losses_and_metrics.dice_losses import DiceLoss\n",
    "from torch.nn import BCELoss, MSELoss\n",
    "\n",
    "# fitter\n",
    "from trustworthai.utils.fitting_and_inference.fitters.basic_lightning_fitter import StandardLitModelWrapper, get_trainer\n",
    "\n",
    "# misc\n",
    "import os\n",
    "import torch\n",
    "import matplotlib.pyplot as plt\n",
    "import torch\n",
    "from torchinfo import summary"
   ]
  },
  {
   "cell_type": "markdown",
   "id": "10e273a7-32d4-485f-92dc-4c4b7d2a35c0",
   "metadata": {},
   "source": [
    "### Set the seed"
   ]
  },
  {
   "cell_type": "code",
   "execution_count": 2,
   "id": "8373ce4f-ce86-46c1-81d5-c64eae9be0f9",
   "metadata": {},
   "outputs": [],
   "source": [
    "torch.manual_seed(3407) # see this absolute meme of a paper: https://arxiv.org/pdf/2109.08203.pdf\n",
    "torch.cuda.manual_seed_all(3407)"
   ]
  },
  {
   "cell_type": "code",
   "execution_count": 3,
   "id": "51ad0359-35c5-4122-8965-378337a81576",
   "metadata": {},
   "outputs": [],
   "source": [
    "### Set the GPU\n",
    "# os.environ[\"CUDA_VISIBLE_DEVICES\"] = \"1,2\" # blocks gpu 0\n",
    "# torch.cuda.device_count()"
   ]
  },
  {
   "cell_type": "markdown",
   "id": "5b4f90f0-a9b8-45f7-b4b1-37fd9be910ab",
   "metadata": {},
   "source": [
    "### define datasets and dataloaders"
   ]
  },
  {
   "cell_type": "code",
   "execution_count": 4,
   "id": "91099153-5471-4603-8d5e-f8079445aea1",
   "metadata": {},
   "outputs": [],
   "source": [
    "root_dir = \"/disk/scratch/s2208943/data/merged_data\""
   ]
  },
  {
   "cell_type": "code",
   "execution_count": 5,
   "id": "d6c807e6-40f1-48bc-aed7-d395b569b138",
   "metadata": {},
   "outputs": [],
   "source": [
    "# augmentation definintion\n",
    "transforms = PairedCompose([\n",
    "        RandomFlip(p=0.5, orientation=\"horizontal\"),\n",
    "        GaussianBlur(p=0.5, kernel_size=7, sigma=(.1, 1.5)),\n",
    "        GaussianNoise(p=0.2, mean=0, sigma=0.2),\n",
    "        RandomAffine(p=0.2, shear=(.1,3.)),\n",
    "        RandomAffine(p=0.2, degrees=5),\n",
    "        RandomResizeCrop(p=1., scale=(0.6, 1.), ratio=(3./4., 4./3.))\n",
    "    ])"
   ]
  },
  {
   "cell_type": "code",
   "execution_count": 6,
   "id": "d7e6ce94-13a4-403d-aa88-10972afe216a",
   "metadata": {},
   "outputs": [],
   "source": [
    "# define paths to each domain\n",
    "domains = [\"Singapore\", \"Utrecht\", \"GE3T\", \"domainA\", \"domainB\", \"domainC\", \"domainD\"]"
   ]
  },
  {
   "cell_type": "code",
   "execution_count": 7,
   "id": "e417fb72-4419-456d-b5ce-e14f0591651a",
   "metadata": {},
   "outputs": [],
   "source": [
    "# function to do train validate test split\n",
    "test_proportion = 0.1\n",
    "validation_proportion = 0.2\n",
    "\n",
    "def train_val_test_split(dataset, val_prop, test_prop):\n",
    "    # I think the sklearn version might be prefereable for determinism and things\n",
    "    # but that involves fiddling with the dataset implementation I think....\n",
    "    size = len(dataset)\n",
    "    test_size = int(test_prop*size) \n",
    "    val_size = int(val_prop*size)\n",
    "    train_size = size - val_size - test_size\n",
    "    train, val, test = random_split(dataset, [train_size, val_size, test_size])\n",
    "    return train, val, test"
   ]
  },
  {
   "cell_type": "code",
   "execution_count": 8,
   "id": "567c247d-2265-4012-bc80-a92b4f2adec3",
   "metadata": {},
   "outputs": [],
   "source": [
    "# load datasets\n",
    "# this is quite slow as it is literally loading everything into memory...\n",
    "datasets_domains = [MRISegmentation2DDataset(root_dir, domain, transforms=transforms) for domain in domains]\n",
    "\n",
    "# split into train, val test datasets\n",
    "datasets = [train_val_test_split(dataset, validation_proportion, test_proportion) for dataset in datasets_domains]\n",
    "\n",
    "# concat the train val test datsets\n",
    "train_dataset = ConcatDataset([ds[0] for ds in datasets])\n",
    "val_dataset = ConcatDataset([ds[1] for ds in datasets])\n",
    "test_dataset = ConcatDataset([ds[2] for ds in datasets])"
   ]
  },
  {
   "cell_type": "code",
   "execution_count": 9,
   "id": "52f5844a-5c39-47ff-897e-ad36de855931",
   "metadata": {},
   "outputs": [
    {
     "data": {
      "text/plain": [
       "(9592, 2740, 1369)"
      ]
     },
     "execution_count": 9,
     "metadata": {},
     "output_type": "execute_result"
    }
   ],
   "source": [
    "len(train_dataset), len(val_dataset), len(test_dataset)"
   ]
  },
  {
   "cell_type": "code",
   "execution_count": 10,
   "id": "abfe0f1c-3c76-4069-b698-d7dd2a9c67f2",
   "metadata": {
    "tags": []
   },
   "outputs": [],
   "source": [
    "# define dataloaders\n",
    "train_dataloader = DataLoader(train_dataset, batch_size=16, shuffle=True, num_workers=4)\n",
    "test_dataloader = DataLoader(test_dataset, batch_size = 16, shuffle=False, num_workers=4)\n",
    "val_dataloader = DataLoader(val_dataset, batch_size=16, shuffle=False, num_workers=4)"
   ]
  },
  {
   "cell_type": "code",
   "execution_count": 11,
   "id": "6a3cb037-babf-48ea-9fe0-04869418bf5e",
   "metadata": {},
   "outputs": [],
   "source": [
    "img, label = datasets_domains[3][0]"
   ]
  },
  {
   "cell_type": "code",
   "execution_count": 12,
   "id": "fb9fc2eb-58a5-4c3b-9d08-7143d1618d89",
   "metadata": {},
   "outputs": [],
   "source": [
    "#img, label = train_dataset[3]"
   ]
  },
  {
   "cell_type": "code",
   "execution_count": 13,
   "id": "160f5d5d-ad11-4d22-91c0-ca1af80b5236",
   "metadata": {},
   "outputs": [
    {
     "data": {
      "text/plain": [
       "torch.Size([2, 224, 160])"
      ]
     },
     "execution_count": 13,
     "metadata": {},
     "output_type": "execute_result"
    }
   ],
   "source": [
    "img.shape"
   ]
  },
  {
   "cell_type": "code",
   "execution_count": 14,
   "id": "d51e15d8-1683-4a3e-b46f-cfed06568e65",
   "metadata": {},
   "outputs": [
    {
     "data": {
      "text/plain": [
       "<matplotlib.image.AxesImage at 0x7f232cef6a30>"
      ]
     },
     "execution_count": 14,
     "metadata": {},
     "output_type": "execute_result"
    },
    {
     "data": {
      "image/png": "[encoded data removed]",
      "text/plain": [
       "<Figure size 720x360 with 2 Axes>"
      ]
     },
     "metadata": {
      "needs_background": "light"
     },
     "output_type": "display_data"
    }
   ],
   "source": [
    "# plot an image\n",
    "#img, label = train_dataset[10]\n",
    "img, label = datasets_domains[6][121]\n",
    "plt.figure(figsize=(10,5))\n",
    "plt.subplot(1,2,1)\n",
    "plt.imshow(img.numpy()[0,:,:])\n",
    "plt.subplot(1,2,2)\n",
    "plt.imshow((label.numpy()==1)[0,:,:])"
   ]
  },
  {
   "cell_type": "markdown",
   "id": "1614f1b4-03b6-49b6-b6e1-6f872b42167f",
   "metadata": {},
   "source": [
    "### define model"
   ]
  },
  {
   "cell_type": "code",
   "execution_count": 15,
   "id": "3a317fa4-47a2-48c5-8602-964de6129c41",
   "metadata": {},
   "outputs": [],
   "source": [
    "import torch.nn as nn\n",
    "import torch.nn.functional as F\n",
    "import torch\n",
    "\n",
    "\n",
    "class SimpleBlock(nn.Module):\n",
    "    def __init__(self, in_filters, out_filters, kernel_size, dropout_p, transpose_conv, \n",
    "                 max_pooling=False, dimensions=2):\n",
    "        \"\"\"\n",
    "        dimensoins = 2 for 2D data, 3 for 3D data.\n",
    "        \"\"\"\n",
    "        super().__init__()\n",
    "        if dimensions == 2:\n",
    "            if transpose_conv:\n",
    "                self.conv = nn.ConvTranspose2d(in_filters, out_filters, kernel_size, stride=2, output_padding=1, padding=1)\n",
    "            else:\n",
    "                self.conv = nn.Conv2d(in_filters, out_filters, kernel_size, stride=1, padding=1)\n",
    "            self.norm = nn.BatchNorm2d(out_filters)\n",
    "            self.dropout = nn.Dropout2d(dropout_p)\n",
    "            self.pool = F.max_pool2d\n",
    "            \n",
    "        elif dimensions == 3:\n",
    "            if transpose_conv:\n",
    "                self.conv = nn.ConvTranspose3d(in_filters, out_filters, kernel_size, stride=2, output_padding=1, padding=1)\n",
    "            else:\n",
    "                self.conv = nn.Conv3d(in_filters, out_filters, kernel_size, stride=1, padding=1)\n",
    "            #self.norm = nn.InstanceNorm3d(out_filters)\n",
    "            self.norm = nn.BatchNorm3d(out_filters)\n",
    "            self.dropout = nn.Dropout3d(dropout_p)\n",
    "            self.pool = F.max_pool3d\n",
    "        else:\n",
    "            raise ValueError(\"dimensions can be only 2 or 3 (for 2D or 3D) (int)\")\n",
    "        \n",
    "        self.do_max_pool = max_pooling\n",
    "        \n",
    "    \n",
    "    def forward(self, x):\n",
    "        x = self.conv(x)\n",
    "        if self.do_max_pool:\n",
    "            x = self.pool(x, 2, 2)\n",
    "        x = self.norm(x)\n",
    "        x = self.dropout(x)\n",
    "        x = F.relu(x)\n",
    "        \n",
    "        return x  \n",
    "    \n",
    "    \n",
    "def block_list(in_lists, out_lists, kernel_size=3, dropout_p=0.5, do_transpose_conv=False, max_pooling=True, dimensions=2):\n",
    "    \"\"\"\n",
    "    return a module containing a list of blocks, (not connected in any way, but will be \n",
    "    properly recognised as model weights)\n",
    "    \"\"\"\n",
    "    return nn.ModuleList([\n",
    "        SimpleBlock(ins, outs, kernel_size, dropout_p, do_transpose_conv, max_pooling, dimensions)\n",
    "        for (ins, outs) in\n",
    "        zip(in_lists, out_lists)\n",
    "    ])\n",
    "    \n",
    "\n",
    "class FullyConvolutionalAutoEncoder(nn.Module):\n",
    "    def __init__(self, encoder_layers=[64, 128, 256, 512], decoder_layers=[512, 256, 128, 64], in_channels=3, out_channels=1, dimensions=2):\n",
    "        super().__init__()\n",
    "        \n",
    "        self.encoder_blocks = block_list([in_channels] + encoder_layers[:-1], encoder_layers,\n",
    "                                        3, 0.5, False, max_pooling=True, dimensions=dimensions)\n",
    "        \n",
    "        self.decoder_blocks = block_list([encoder_layers[-1]] + decoder_layers, decoder_layers + [out_channels],\n",
    "                                        3, 0.5, True, max_pooling=False, dimensions=dimensions)\n",
    "        \n",
    "        self.soft = nn.Softmax(dim=1)\n",
    "        \n",
    "    def forward(self, x, encode=False):\n",
    "        for enc_block in self.encoder_blocks:\n",
    "            x = enc_block(x)\n",
    "        \n",
    "        if encode:\n",
    "            return x\n",
    "            \n",
    "        for dec_block in self.decoder_blocks:\n",
    "            x = dec_block(x)\n",
    "            \n",
    "        x = self.soft(x)\n",
    "        return x\n",
    "    \n",
    "    \n",
    "class TestKiUNet(nn.Module):\n",
    "    # I have slightly adapted this to use transpose convolution layers as opposed to interpolation...\n",
    "    # not sure if that is the best idea or not\n",
    "    # the standard version (class below, uses interpolation like they do)\n",
    "    def __init__(self, encoder_layers=[16,32,64], decoder_layers=[32,16,8], \n",
    "                 encoderf1_layers=[16,32,64], decoderf1_layers=[32,16,8], \n",
    "                 intere_layers=[16,32,64], interd_layers=[32,16],\n",
    "                 in_channels=3, out_channels=1, kernel_size=3, dropout_p=0.5):\n",
    "        super().__init__()\n",
    "        self.kernel_size = kernel_size\n",
    "        self.dropout_p = dropout_p\n",
    "        dimensions=2\n",
    "        \n",
    "        \n",
    "        self.encoder_blocks = block_list([in_channels] + encoder_layers[:-1], encoder_layers,\n",
    "                                        kernel_size, dropout_p, False, max_pooling=True, dimensions=dimensions)\n",
    "        \n",
    "        self.decoder_blocks = block_list([encoder_layers[-1]] + decoder_layers[:-1], decoder_layers,\n",
    "                                        kernel_size, dropout_p, False, max_pooling=False, dimensions=dimensions)\n",
    "        \n",
    "        self.encoderf1_blocks = block_list([in_channels] + encoderf1_layers[:-1], encoderf1_layers,\n",
    "                                          kernel_size, dropout_p, False, max_pooling=False, dimensions=dimensions)\n",
    "        \n",
    "        self.decoderf1_blocks = block_list([encoderf1_layers[-1]] + decoderf1_layers[:-1], decoderf1_layers,\n",
    "                                          kernel_size, dropout_p, False, max_pooling=True, dimensions=dimensions)\n",
    "        \n",
    "        self.intere1_blocks = block_list(intere_layers, encoder_layers, \n",
    "                                         kernel_size, dropout_p, False, max_pooling=False, dimensions=dimensions)\n",
    "        \n",
    "        self.intere2_blocks = block_list(encoder_layers, intere_layers, \n",
    "                                         kernel_size, dropout_p, False, max_pooling=False, dimensions=dimensions)\n",
    "        \n",
    "        self.interd1_blocks = block_list(interd_layers, decoder_layers, \n",
    "                                         kernel_size, dropout_p, False, max_pooling=False, dimensions=dimensions)\n",
    "        \n",
    "        self.interd2_blocks = block_list(decoder_layers, interd_layers,\n",
    "                                        kernel_size, dropout_p, False, max_pooling=False, dimensions=dimensions)\n",
    "        \n",
    "        self.final_conv = nn.Conv2d(8, out_channels=out_channels, kernel_size=1, stride=1, padding=0)\n",
    "        self.soft = nn.Softmax(dim=1)\n",
    "        \n",
    "        self.mode = 'bilinear'\n",
    "        self.upscale = lambda x : F.interpolate(x, scale_factor=2, mode=self.mode)\n",
    "        \n",
    "    def forward(self, x):\n",
    "        \n",
    "        unet_out = x\n",
    "        kinet_out = x\n",
    "        skip_conns_stack = []\n",
    "        scale_factor = 1\n",
    "        \n",
    "        # encoder path\n",
    "        num_blocks = len(self.encoder_blocks)\n",
    "        for l in range(num_blocks):\n",
    "            # standard forward pass for both paths\n",
    "            unet_out = self.encoder_blocks[l](unet_out)\n",
    "            kinet_out = self.upscale(self.encoderf1_blocks[l](kinet_out))\n",
    "            \n",
    "            tmp = unet_out\n",
    "            \n",
    "            # CRFB block\n",
    "            scale_factor *= 4.\n",
    "            crfb1 = self.intere1_blocks[l](kinet_out)\n",
    "            unet_out = torch.add(\n",
    "                unet_out,\n",
    "                F.interpolate(crfb1, scale_factor=1./scale_factor, mode=self.mode)\n",
    "            )\n",
    "            \n",
    "            crfb2 = self.intere2_blocks[l](tmp)\n",
    "            kinet_out = torch.add(\n",
    "                kinet_out,\n",
    "                F.interpolate(crfb2, scale_factor=scale_factor,mode=self.mode)\n",
    "            )\n",
    "            \n",
    "            # append skip connections\n",
    "            if l != num_blocks - 1:\n",
    "                skip_conns_stack.append((unet_out, kinet_out))\n",
    "            \n",
    "            \n",
    "        # decoder path\n",
    "        for l in range(len(self.decoder_blocks)):\n",
    "            # standard forward pass for both paths\n",
    "            unet_out = self.upscale(self.decoder_blocks[l](unet_out))\n",
    "            kinet_out = self.decoderf1_blocks[l](kinet_out)\n",
    "            \n",
    "            tmp = unet_out\n",
    "            \n",
    "            # CRFB block\n",
    "            if l != num_blocks - 1:\n",
    "                scale_factor /= 4.\n",
    "                crfb1 = self.interd1_blocks[l](kinet_out)\n",
    "                unet_out = torch.add(\n",
    "                    unet_out,\n",
    "                    F.interpolate(crfb1, scale_factor=1./scale_factor, mode=self.mode)\n",
    "                )\n",
    "\n",
    "                crfb2 =self.interd2_blocks[l](tmp)\n",
    "                kinet_out = torch.add(\n",
    "                    kinet_out,\n",
    "                    F.interpolate(crfb2, scale_factor=scale_factor, mode=self.mode)\n",
    "                )\n",
    "            \n",
    "            # add skip connections\n",
    "            if l != num_blocks - 1:\n",
    "                unet_skipc, kinet_skipc = skip_conns_stack.pop() # pop implements LIFO stack behaviour\n",
    "                unet_out = torch.add(unet_out, unet_skipc)\n",
    "                kinet_out = torch.add(kinet_out, kinet_skipc)\n",
    "            \n",
    "        \n",
    "        # fusion of both branches\n",
    "        out = torch.add(unet_out, kinet_out)\n",
    "        out = self.final_conv(out)\n",
    "        out = self.soft(out)\n",
    "        \n",
    "        return out"
   ]
  },
  {
   "cell_type": "code",
   "execution_count": 16,
   "id": "556f9e55-aea3-4c77-8010-934bb7e1981d",
   "metadata": {},
   "outputs": [],
   "source": [
    "# model = TestKiUNet(encoder_layers=[16,32,64], \n",
    "#                  decoder_layers=[32,16,8], \n",
    "#                  encoderf1_layers=[16,16,16], \n",
    "#                  decoderf1_layers=[16,16,8], \n",
    "#                  intere_layers=[16,16,16],\n",
    "#                  interd_layers=[32,16],\n",
    "#                  in_channels=2,\n",
    "#                  out_channels=1,\n",
    "#                  kernel_size=3,\n",
    "#                  dropout_p=0.1)\n",
    "# model = UNet(encoder_channels=(2,64,128,256,512,1024),\n",
    "#                 decoder_channels=(1024,512,256,128,64),\n",
    "#                 dropout_p=0.1,\n",
    "#                 num_classes=1,\n",
    "#                 retain_dim=False,\n",
    "#                 output_size=(224,160)\n",
    "#             )\n",
    "model = TUNet(in_channels=2, out_channels=1, init_features=32, dropout_p=0.)\n",
    "model_uncert = TUNet(in_channels=2, out_channels=1, init_features=32, dropout_p=0., sigmoid=False)"
   ]
  },
  {
   "cell_type": "code",
   "execution_count": 17,
   "id": "23d91775-c8b9-476a-b53c-35b5cc4e9633",
   "metadata": {},
   "outputs": [],
   "source": [
    "#summary(model, (16, 2, 224, 160))"
   ]
  },
  {
   "cell_type": "markdown",
   "id": "88675e96-fc3f-4d5e-b655-c69096577b0a",
   "metadata": {},
   "source": [
    "### define fitter"
   ]
  },
  {
   "cell_type": "code",
   "execution_count": 18,
   "id": "544368b3-8a57-4d91-8165-b4a3e3ab6de3",
   "metadata": {},
   "outputs": [],
   "source": [
    "#loss = TverskyLoss()\n",
    "loss = DiceLoss()\n",
    "logging_metrics = [(\"dice\",dice), (\"IOU\",IOU)]\n",
    "fitter = StandardLitModelWrapper(model,\n",
    "                                 train_dataloader,\n",
    "                                 test_dataloader,\n",
    "                                 val_dataloader,\n",
    "                                 None,\n",
    "                                 loss,\n",
    "                                 logging_metrics\n",
    "                                )"
   ]
  },
  {
   "cell_type": "code",
   "execution_count": 19,
   "id": "5971d825-affb-41b6-8586-ed846dfee039",
   "metadata": {},
   "outputs": [],
   "source": [
    "fitter_uncert = StandardLitModelWrapper(model_uncert,\n",
    "                                 train_dataloader,\n",
    "                                 test_dataloader,\n",
    "                                 val_dataloader,\n",
    "                                 None,\n",
    "                                 loss,\n",
    "                                 logging_metrics\n",
    "                                )"
   ]
  },
  {
   "cell_type": "code",
   "execution_count": 20,
   "id": "fac5d71c-9cbe-466a-ade8-70bf42475f49",
   "metadata": {},
   "outputs": [
    {
     "name": "stderr",
     "output_type": "stream",
     "text": [
      "Using 16bit native Automatic Mixed Precision (AMP)\n",
      "GPU available: True, used: True\n",
      "TPU available: False, using: 0 TPU cores\n",
      "IPU available: False, using: 0 IPUs\n",
      "HPU available: False, using: 0 HPUs\n"
     ]
    }
   ],
   "source": [
    "#checkpoint_dir = \"/media/benp/NVMEspare/model_data/trustworthai/initial_tests\"\n",
    "checkpoint_dir = \"/disk/scratch/s2208943/results/\"\n",
    "strategy = None\n",
    "# strategy = \"deepspeed_stage_2\"\n",
    "# strategy = \"dp\"\n",
    "#strategy = \"deepspeed_stage_2_offload\"\n",
    "\n",
    "precision = None\n",
    "precision = 16\n",
    "trainer = get_trainer(checkpoint_dir, accelerator=\"gpu\", devices=1, max_epochs=400,\n",
    "                      strategy=strategy, precision=precision\n",
    "                     )"
   ]
  },
  {
   "cell_type": "markdown",
   "id": "a3ccd797-488c-4133-a4cd-cc099ca5f163",
   "metadata": {},
   "source": [
    "**train for 5 epochs**\n"
   ]
  },
  {
   "cell_type": "code",
   "execution_count": 21,
   "id": "2fab7c89-3ed3-4b96-882c-207191cef4b4",
   "metadata": {},
   "outputs": [
    {
     "name": "stderr",
     "output_type": "stream",
     "text": [
      "/home/s2208943/miniconda3/envs/ip/lib/python3.9/site-packages/pytorch_lightning/callbacks/model_checkpoint.py:611: UserWarning: Checkpoint directory /disk/scratch_fast/s2208943/results exists and is not empty.\n",
      "  rank_zero_warn(f\"Checkpoint directory {dirpath} exists and is not empty.\")\n",
      "LOCAL_RANK: 0 - CUDA_VISIBLE_DEVICES: [0,1]\n",
      "\n",
      "  | Name  | Type     | Params\n",
      "-----------------------------------\n",
      "0 | model | UNet     | 7.8 M \n",
      "1 | loss  | DiceLoss | 0     \n",
      "-----------------------------------\n",
      "7.8 M     Trainable params\n",
      "0         Non-trainable params\n",
      "7.8 M     Total params\n",
      "15.526    Total estimated model params size (MB)\n"
     ]
    },
    {
     "data": {
      "application/vnd.jupyter.widget-view+json": {
       "model_id": "",
       "version_major": 2,
       "version_minor": 0
      },
      "text/plain": [
       "Sanity Checking: 0it [00:00, ?it/s]"
      ]
     },
     "metadata": {},
     "output_type": "display_data"
    },
    {
     "data": {
      "application/vnd.jupyter.widget-view+json": {
       "model_id": "8b235ceef6f74d608626e9cec713de6f",
       "version_major": 2,
       "version_minor": 0
      },
      "text/plain": [
       "Training: 0it [00:00, ?it/s]"
      ]
     },
     "metadata": {},
     "output_type": "display_data"
    },
    {
     "data": {
      "application/vnd.jupyter.widget-view+json": {
       "model_id": "",
       "version_major": 2,
       "version_minor": 0
      },
      "text/plain": [
       "Validation: 0it [00:00, ?it/s]"
      ]
     },
     "metadata": {},
     "output_type": "display_data"
    },
    {
     "name": "stderr",
     "output_type": "stream",
     "text": [
      "Metric val_loss improved. New best score: 0.352\n"
     ]
    },
    {
     "data": {
      "application/vnd.jupyter.widget-view+json": {
       "model_id": "",
       "version_major": 2,
       "version_minor": 0
      },
      "text/plain": [
       "Validation: 0it [00:00, ?it/s]"
      ]
     },
     "metadata": {},
     "output_type": "display_data"
    },
    {
     "name": "stderr",
     "output_type": "stream",
     "text": [
      "Metric val_loss improved by 0.059 >= min_delta = 0.0. New best score: 0.293\n"
     ]
    },
    {
     "data": {
      "application/vnd.jupyter.widget-view+json": {
       "model_id": "",
       "version_major": 2,
       "version_minor": 0
      },
      "text/plain": [
       "Validation: 0it [00:00, ?it/s]"
      ]
     },
     "metadata": {},
     "output_type": "display_data"
    },
    {
     "name": "stderr",
     "output_type": "stream",
     "text": [
      "Metric val_loss improved by 0.003 >= min_delta = 0.0. New best score: 0.291\n"
     ]
    },
    {
     "data": {
      "application/vnd.jupyter.widget-view+json": {
       "model_id": "",
       "version_major": 2,
       "version_minor": 0
      },
      "text/plain": [
       "Validation: 0it [00:00, ?it/s]"
      ]
     },
     "metadata": {},
     "output_type": "display_data"
    },
    {
     "name": "stderr",
     "output_type": "stream",
     "text": [
      "Metric val_loss improved by 0.002 >= min_delta = 0.0. New best score: 0.289\n"
     ]
    },
    {
     "data": {
      "application/vnd.jupyter.widget-view+json": {
       "model_id": "",
       "version_major": 2,
       "version_minor": 0
      },
      "text/plain": [
       "Validation: 0it [00:00, ?it/s]"
      ]
     },
     "metadata": {},
     "output_type": "display_data"
    },
    {
     "data": {
      "application/vnd.jupyter.widget-view+json": {
       "model_id": "",
       "version_major": 2,
       "version_minor": 0
      },
      "text/plain": [
       "Validation: 0it [00:00, ?it/s]"
      ]
     },
     "metadata": {},
     "output_type": "display_data"
    },
    {
     "name": "stderr",
     "output_type": "stream",
     "text": [
      "/home/s2208943/miniconda3/envs/ip/lib/python3.9/site-packages/pytorch_lightning/trainer/trainer.py:724: UserWarning: Detected KeyboardInterrupt, attempting graceful shutdown...\n",
      "  rank_zero_warn(\"Detected KeyboardInterrupt, attempting graceful shutdown...\")\n"
     ]
    }
   ],
   "source": [
    "# trainer.fit(fitter, train_dataloader, val_dataloader)"
   ]
  },
  {
   "cell_type": "markdown",
   "id": "bce112e5-7f27-4692-bce8-687e4b9b86ae",
   "metadata": {},
   "source": [
    "### loading a saved checkpoint"
   ]
  },
  {
   "cell_type": "code",
   "execution_count": 21,
   "id": "ea806168-9bc9-4098-9bd5-0698c3980199",
   "metadata": {},
   "outputs": [
    {
     "data": {
      "text/plain": [
       "3"
      ]
     },
     "execution_count": 21,
     "metadata": {},
     "output_type": "execute_result"
    }
   ],
   "source": [
    "saved_dir = \"/disk/scratch/s2208943/best_models/\"\n",
    "ckpt = saved_dir + \"batchnorm_only_epoch3.ckpt\"\n",
    "\n",
    "checkpoint = torch.load(ckpt)\n",
    "fitter.load_state_dict(checkpoint['state_dict'])\n",
    "fitter_uncert.load_state_dict(checkpoint['state_dict'])\n",
    "checkpoint['epoch']"
   ]
  },
  {
   "cell_type": "code",
   "execution_count": 22,
   "id": "a67fce05-b006-4c55-a908-1a7337cf006e",
   "metadata": {},
   "outputs": [],
   "source": [
    "# result = trainer.predict(model=fitter, dataloaders = val_dataloader, ckpt_path=ckpt)"
   ]
  },
  {
   "cell_type": "code",
   "execution_count": 22,
   "id": "71eba4c8-d084-45a1-a2d9-596e92b6d7aa",
   "metadata": {},
   "outputs": [
    {
     "name": "stderr",
     "output_type": "stream",
     "text": [
      "Restoring states from the checkpoint path at /disk/scratch/s2208943/best_models/batchnorm_only_epoch3.ckpt\n",
      "LOCAL_RANK: 0 - CUDA_VISIBLE_DEVICES: [0,1]\n",
      "Loaded model weights from checkpoint at /disk/scratch/s2208943/best_models/batchnorm_only_epoch3.ckpt\n"
     ]
    },
    {
     "data": {
      "application/vnd.jupyter.widget-view+json": {
       "model_id": "f3f2f327c3f642bb8983349f006c6254",
       "version_major": 2,
       "version_minor": 0
      },
      "text/plain": [
       "Testing: 0it [00:00, ?it/s]"
      ]
     },
     "metadata": {},
     "output_type": "display_data"
    },
    {
     "name": "stdout",
     "output_type": "stream",
     "text": [
      "────────────────────────────────────────────────────────────────────────────────────────────────────────────────────────\n",
      "       Test metric             DataLoader 0\n",
      "────────────────────────────────────────────────────────────────────────────────────────────────────────────────────────\n",
      "        test_loss           0.3185354471206665\n",
      "────────────────────────────────────────────────────────────────────────────────────────────────────────────────────────\n"
     ]
    }
   ],
   "source": [
    "testresult = trainer.test(model=fitter, dataloaders = test_dataloader, ckpt_path=ckpt)"
   ]
  },
  {
   "cell_type": "code",
   "execution_count": 23,
   "id": "09ca926f-595d-4399-bee0-96535f1c8931",
   "metadata": {},
   "outputs": [
    {
     "name": "stderr",
     "output_type": "stream",
     "text": [
      "Restoring states from the checkpoint path at /disk/scratch/s2208943/best_models/batchnorm_only_epoch3.ckpt\n",
      "LOCAL_RANK: 0 - CUDA_VISIBLE_DEVICES: [0,1]\n",
      "Loaded model weights from checkpoint at /disk/scratch/s2208943/best_models/batchnorm_only_epoch3.ckpt\n"
     ]
    },
    {
     "data": {
      "application/vnd.jupyter.widget-view+json": {
       "model_id": "3b02cfeca1df4b74bbe9a3db88ddb5f4",
       "version_major": 2,
       "version_minor": 0
      },
      "text/plain": [
       "Testing: 0it [00:00, ?it/s]"
      ]
     },
     "metadata": {},
     "output_type": "display_data"
    },
    {
     "name": "stdout",
     "output_type": "stream",
     "text": [
      "────────────────────────────────────────────────────────────────────────────────────────────────────────────────────────\n",
      "       Test metric             DataLoader 0\n",
      "────────────────────────────────────────────────────────────────────────────────────────────────────────────────────────\n",
      "        test_loss           1.0280632972717285\n",
      "────────────────────────────────────────────────────────────────────────────────────────────────────────────────────────\n"
     ]
    }
   ],
   "source": [
    "testresult = trainer.test(model=fitter_uncert, dataloaders = test_dataloader, ckpt_path=ckpt)"
   ]
  },
  {
   "cell_type": "code",
   "execution_count": 24,
   "id": "18b50158-d1fa-40e7-aed2-798ebee01e4e",
   "metadata": {},
   "outputs": [],
   "source": [
    "# batch = next(iter(val_dataloader))"
   ]
  },
  {
   "cell_type": "code",
   "execution_count": 26,
   "id": "4471cca1-7c71-4cf3-89ba-4a0e25d7040f",
   "metadata": {},
   "outputs": [],
   "source": [
    "# with torch.no_grad():\n",
    "#     model.eval()\n",
    "#     imgs, labels = batch\n",
    "#     result = model(imgs.cuda()).cpu()"
   ]
  },
  {
   "cell_type": "code",
   "execution_count": 27,
   "id": "8850c87d-10f7-442b-9c7e-0f16a150f278",
   "metadata": {},
   "outputs": [
    {
     "data": {
      "text/plain": [
       "torch.Size([16, 1, 224, 160])"
      ]
     },
     "execution_count": 27,
     "metadata": {},
     "output_type": "execute_result"
    }
   ],
   "source": [
    "# result.shape"
   ]
  },
  {
   "cell_type": "code",
   "execution_count": 29,
   "id": "f7d00591-6b5f-4d5e-8fb7-7749e96f8ee9",
   "metadata": {},
   "outputs": [
    {
     "data": {
      "text/plain": [
       "<matplotlib.image.AxesImage at 0x7fc892f9f190>"
      ]
     },
     "execution_count": 29,
     "metadata": {},
     "output_type": "execute_result"
    },
    {
     "data": {
      "image/png": "[encoded data removed]",
      "text/plain": [
       "<Figure size 432x288 with 1 Axes>"
      ]
     },
     "metadata": {
      "needs_background": "light"
     },
     "output_type": "display_data"
    }
   ],
   "source": [
    "# plt.imshow(result[3].squeeze())"
   ]
  },
  {
   "cell_type": "code",
   "execution_count": 30,
   "id": "dc9cb9c8-7bfd-46a1-b7b8-0a0aaaae1782",
   "metadata": {},
   "outputs": [
    {
     "data": {
      "text/plain": [
       "<matplotlib.image.AxesImage at 0x7fc892efc040>"
      ]
     },
     "execution_count": 30,
     "metadata": {},
     "output_type": "execute_result"
    },
    {
     "data": {
      "image/png": "[encoded data removed]",
      "text/plain": [
       "<Figure size 432x288 with 1 Axes>"
      ]
     },
     "metadata": {
      "needs_background": "light"
     },
     "output_type": "display_data"
    }
   ],
   "source": [
    "# plt.imshow(labels[3].squeeze())"
   ]
  },
  {
   "cell_type": "code",
   "execution_count": 28,
   "id": "fa22f4a4-3e20-4e28-bec9-dc2a97c9098a",
   "metadata": {},
   "outputs": [
    {
     "data": {
      "text/plain": [
       "tensor(0.7456)"
      ]
     },
     "execution_count": 28,
     "metadata": {},
     "output_type": "execute_result"
    }
   ],
   "source": [
    "1 - loss(result, labels)"
   ]
  },
  {
   "cell_type": "markdown",
   "id": "d4ab8977-1220-4acc-9f60-38af149683f5",
   "metadata": {},
   "source": [
    "### Loop of the test data\n",
    "loop a few times see how consistent the result is"
   ]
  },
  {
   "cell_type": "code",
   "execution_count": 24,
   "id": "18232ea8-1e98-4e6f-8324-d02243d5d901",
   "metadata": {},
   "outputs": [
    {
     "name": "stderr",
     "output_type": "stream",
     "text": [
      "Restoring states from the checkpoint path at /disk/scratch/s2208943/best_models/batchnorm_only_epoch3.ckpt\n",
      "LOCAL_RANK: 0 - CUDA_VISIBLE_DEVICES: [0,1]\n",
      "Loaded model weights from checkpoint at /disk/scratch/s2208943/best_models/batchnorm_only_epoch3.ckpt\n"
     ]
    },
    {
     "data": {
      "application/vnd.jupyter.widget-view+json": {
       "model_id": "ed4c2b4d58da46aeacaf0e66441914dd",
       "version_major": 2,
       "version_minor": 0
      },
      "text/plain": [
       "Testing: 0it [00:00, ?it/s]"
      ]
     },
     "metadata": {},
     "output_type": "display_data"
    },
    {
     "name": "stdout",
     "output_type": "stream",
     "text": [
      "────────────────────────────────────────────────────────────────────────────────────────────────────────────────────────\n",
      "       Test metric             DataLoader 0\n",
      "────────────────────────────────────────────────────────────────────────────────────────────────────────────────────────\n",
      "        test_loss           0.3220585882663727\n",
      "────────────────────────────────────────────────────────────────────────────────────────────────────────────────────────\n"
     ]
    }
   ],
   "source": [
    "testresult = trainer.test(model=fitter, dataloaders = test_dataloader, ckpt_path=ckpt)"
   ]
  },
  {
   "cell_type": "code",
   "execution_count": 25,
   "id": "3cac0b6b-ab06-4405-9645-a74178847864",
   "metadata": {},
   "outputs": [],
   "source": [
    "# collect a round of the test dataloader\n",
    "def collect_test_data():\n",
    "    batches = []\n",
    "    for batch in test_dataloader:\n",
    "        batches.append(batch)\n",
    "    return batches"
   ]
  },
  {
   "cell_type": "code",
   "execution_count": 26,
   "id": "b3678df0-8511-4534-ab67-e9aab934f9c2",
   "metadata": {},
   "outputs": [],
   "source": [
    "test_batches = collect_test_data()"
   ]
  },
  {
   "cell_type": "code",
   "execution_count": 27,
   "id": "20a79ecc-bf46-4cf5-a3dd-0ad0f87cce01",
   "metadata": {},
   "outputs": [],
   "source": [
    "from tqdm import tqdm"
   ]
  },
  {
   "cell_type": "markdown",
   "id": "72f5ef4f-7b5a-43c0-9b99-ace8eed2e094",
   "metadata": {},
   "source": [
    "###  Produce Uncertainty maps"
   ]
  },
  {
   "cell_type": "code",
   "execution_count": 28,
   "id": "e33deacd-80ae-4be1-8f33-90939460e331",
   "metadata": {},
   "outputs": [],
   "source": [
    "def batch_norm_uncertainty(model_pred, model_uncert, train_dataloader, test_batches, runs=3):\n",
    "    # model_pred=model_pred.cuda()\n",
    "    model_uncert = model_uncert.cuda()\n",
    "    data_iter = iter(train_dataloader)\n",
    "    results_per_run = []\n",
    "    \n",
    "    for run in range(runs):\n",
    "        with torch.no_grad():\n",
    "            print(\"run: \", run)\n",
    "            # update BN parameters\n",
    "            model_uncert.train()\n",
    "            X, y = next(data_iter)\n",
    "            _ = model_uncert(X.cuda())\n",
    "            \n",
    "            # now predict on the target data\n",
    "            print(\"iterating test data\")\n",
    "            model_uncert.eval()\n",
    "            test_results = []\n",
    "            for tb in tqdm(test_batches, position=0, leave=True):\n",
    "                Xt, yt = tb\n",
    "                yt_hat = model_uncert(Xt.cuda()).cpu()\n",
    "                test_results.append(yt_hat)\n",
    "            \n",
    "            results_per_run.append(test_results)\n",
    "            # test_results = trainer.predict(model=fitter, dataloaders = test_batches, ckpt_path=ckpt)\n",
    "            # results_per_run.append(test_results)\n",
    "            \n",
    "    return results_per_run\n"
   ]
  },
  {
   "cell_type": "code",
   "execution_count": 93,
   "id": "a9c6896f-142d-4aff-ac46-d30f4c9f927d",
   "metadata": {},
   "outputs": [
    {
     "name": "stdout",
     "output_type": "stream",
     "text": [
      "run:  0\n",
      "iterating test data\n"
     ]
    },
    {
     "name": "stderr",
     "output_type": "stream",
     "text": [
      "100%|███████████████████████████████████████████████████████████████████████████████████████████████████████████████████████████████████████████████████████| 86/86 [00:02<00:00, 41.74it/s]\n"
     ]
    },
    {
     "name": "stdout",
     "output_type": "stream",
     "text": [
      "run:  1\n",
      "iterating test data\n"
     ]
    },
    {
     "name": "stderr",
     "output_type": "stream",
     "text": [
      "100%|███████████████████████████████████████████████████████████████████████████████████████████████████████████████████████████████████████████████████████| 86/86 [00:01<00:00, 43.08it/s]\n"
     ]
    },
    {
     "name": "stdout",
     "output_type": "stream",
     "text": [
      "run:  2\n",
      "iterating test data\n"
     ]
    },
    {
     "name": "stderr",
     "output_type": "stream",
     "text": [
      "100%|███████████████████████████████████████████████████████████████████████████████████████████████████████████████████████████████████████████████████████| 86/86 [00:02<00:00, 42.31it/s]\n"
     ]
    },
    {
     "name": "stdout",
     "output_type": "stream",
     "text": [
      "run:  3\n",
      "iterating test data\n"
     ]
    },
    {
     "name": "stderr",
     "output_type": "stream",
     "text": [
      "100%|███████████████████████████████████████████████████████████████████████████████████████████████████████████████████████████████████████████████████████| 86/86 [00:02<00:00, 32.70it/s]\n"
     ]
    },
    {
     "name": "stdout",
     "output_type": "stream",
     "text": [
      "run:  4\n",
      "iterating test data\n"
     ]
    },
    {
     "name": "stderr",
     "output_type": "stream",
     "text": [
      "100%|███████████████████████████████████████████████████████████████████████████████████████████████████████████████████████████████████████████████████████| 86/86 [00:04<00:00, 20.97it/s]\n"
     ]
    },
    {
     "name": "stdout",
     "output_type": "stream",
     "text": [
      "run:  5\n",
      "iterating test data\n"
     ]
    },
    {
     "name": "stderr",
     "output_type": "stream",
     "text": [
      "100%|███████████████████████████████████████████████████████████████████████████████████████████████████████████████████████████████████████████████████████| 86/86 [00:03<00:00, 26.25it/s]\n"
     ]
    },
    {
     "name": "stdout",
     "output_type": "stream",
     "text": [
      "run:  6\n",
      "iterating test data\n"
     ]
    },
    {
     "name": "stderr",
     "output_type": "stream",
     "text": [
      "100%|███████████████████████████████████████████████████████████████████████████████████████████████████████████████████████████████████████████████████████| 86/86 [00:02<00:00, 42.19it/s]\n"
     ]
    },
    {
     "name": "stdout",
     "output_type": "stream",
     "text": [
      "run:  7\n",
      "iterating test data\n"
     ]
    },
    {
     "name": "stderr",
     "output_type": "stream",
     "text": [
      "100%|███████████████████████████████████████████████████████████████████████████████████████████████████████████████████████████████████████████████████████| 86/86 [00:02<00:00, 41.81it/s]\n"
     ]
    },
    {
     "name": "stdout",
     "output_type": "stream",
     "text": [
      "run:  8\n",
      "iterating test data\n"
     ]
    },
    {
     "name": "stderr",
     "output_type": "stream",
     "text": [
      "100%|███████████████████████████████████████████████████████████████████████████████████████████████████████████████████████████████████████████████████████| 86/86 [00:04<00:00, 18.94it/s]\n"
     ]
    },
    {
     "name": "stdout",
     "output_type": "stream",
     "text": [
      "run:  9\n",
      "iterating test data\n"
     ]
    },
    {
     "name": "stderr",
     "output_type": "stream",
     "text": [
      "100%|███████████████████████████████████████████████████████████████████████████████████████████████████████████████████████████████████████████████████████| 86/86 [00:02<00:00, 42.82it/s]\n"
     ]
    },
    {
     "name": "stdout",
     "output_type": "stream",
     "text": [
      "run:  10\n",
      "iterating test data\n"
     ]
    },
    {
     "name": "stderr",
     "output_type": "stream",
     "text": [
      "100%|███████████████████████████████████████████████████████████████████████████████████████████████████████████████████████████████████████████████████████| 86/86 [00:02<00:00, 41.68it/s]\n"
     ]
    },
    {
     "name": "stdout",
     "output_type": "stream",
     "text": [
      "run:  11\n",
      "iterating test data\n"
     ]
    },
    {
     "name": "stderr",
     "output_type": "stream",
     "text": [
      "100%|███████████████████████████████████████████████████████████████████████████████████████████████████████████████████████████████████████████████████████| 86/86 [00:02<00:00, 42.02it/s]\n"
     ]
    },
    {
     "name": "stdout",
     "output_type": "stream",
     "text": [
      "run:  12\n",
      "iterating test data\n"
     ]
    },
    {
     "name": "stderr",
     "output_type": "stream",
     "text": [
      "100%|███████████████████████████████████████████████████████████████████████████████████████████████████████████████████████████████████████████████████████| 86/86 [00:02<00:00, 40.97it/s]\n"
     ]
    },
    {
     "name": "stdout",
     "output_type": "stream",
     "text": [
      "run:  13\n",
      "iterating test data\n"
     ]
    },
    {
     "name": "stderr",
     "output_type": "stream",
     "text": [
      "100%|███████████████████████████████████████████████████████████████████████████████████████████████████████████████████████████████████████████████████████| 86/86 [00:02<00:00, 35.61it/s]\n"
     ]
    },
    {
     "name": "stdout",
     "output_type": "stream",
     "text": [
      "run:  14\n",
      "iterating test data\n"
     ]
    },
    {
     "name": "stderr",
     "output_type": "stream",
     "text": [
      "100%|███████████████████████████████████████████████████████████████████████████████████████████████████████████████████████████████████████████████████████| 86/86 [00:02<00:00, 35.25it/s]\n"
     ]
    },
    {
     "name": "stdout",
     "output_type": "stream",
     "text": [
      "run:  15\n",
      "iterating test data\n"
     ]
    },
    {
     "name": "stderr",
     "output_type": "stream",
     "text": [
      "100%|███████████████████████████████████████████████████████████████████████████████████████████████████████████████████████████████████████████████████████| 86/86 [00:02<00:00, 37.64it/s]\n"
     ]
    },
    {
     "name": "stdout",
     "output_type": "stream",
     "text": [
      "run:  16\n",
      "iterating test data\n"
     ]
    },
    {
     "name": "stderr",
     "output_type": "stream",
     "text": [
      "100%|███████████████████████████████████████████████████████████████████████████████████████████████████████████████████████████████████████████████████████| 86/86 [00:02<00:00, 33.22it/s]\n"
     ]
    },
    {
     "name": "stdout",
     "output_type": "stream",
     "text": [
      "run:  17\n",
      "iterating test data\n"
     ]
    },
    {
     "name": "stderr",
     "output_type": "stream",
     "text": [
      "100%|███████████████████████████████████████████████████████████████████████████████████████████████████████████████████████████████████████████████████████| 86/86 [00:02<00:00, 37.10it/s]\n"
     ]
    },
    {
     "name": "stdout",
     "output_type": "stream",
     "text": [
      "run:  18\n",
      "iterating test data\n"
     ]
    },
    {
     "name": "stderr",
     "output_type": "stream",
     "text": [
      "100%|███████████████████████████████████████████████████████████████████████████████████████████████████████████████████████████████████████████████████████| 86/86 [00:02<00:00, 41.51it/s]\n"
     ]
    },
    {
     "name": "stdout",
     "output_type": "stream",
     "text": [
      "run:  19\n",
      "iterating test data\n"
     ]
    },
    {
     "name": "stderr",
     "output_type": "stream",
     "text": [
      "100%|███████████████████████████████████████████████████████████████████████████████████████████████████████████████████████████████████████████████████████| 86/86 [00:02<00:00, 41.93it/s]\n"
     ]
    },
    {
     "name": "stdout",
     "output_type": "stream",
     "text": [
      "run:  20\n",
      "iterating test data\n"
     ]
    },
    {
     "name": "stderr",
     "output_type": "stream",
     "text": [
      "100%|███████████████████████████████████████████████████████████████████████████████████████████████████████████████████████████████████████████████████████| 86/86 [00:02<00:00, 39.91it/s]\n"
     ]
    },
    {
     "name": "stdout",
     "output_type": "stream",
     "text": [
      "run:  21\n",
      "iterating test data\n"
     ]
    },
    {
     "name": "stderr",
     "output_type": "stream",
     "text": [
      "100%|███████████████████████████████████████████████████████████████████████████████████████████████████████████████████████████████████████████████████████| 86/86 [00:02<00:00, 39.25it/s]\n"
     ]
    },
    {
     "name": "stdout",
     "output_type": "stream",
     "text": [
      "run:  22\n",
      "iterating test data\n"
     ]
    },
    {
     "name": "stderr",
     "output_type": "stream",
     "text": [
      "100%|███████████████████████████████████████████████████████████████████████████████████████████████████████████████████████████████████████████████████████| 86/86 [00:03<00:00, 26.12it/s]\n"
     ]
    },
    {
     "name": "stdout",
     "output_type": "stream",
     "text": [
      "run:  23\n",
      "iterating test data\n"
     ]
    },
    {
     "name": "stderr",
     "output_type": "stream",
     "text": [
      "100%|███████████████████████████████████████████████████████████████████████████████████████████████████████████████████████████████████████████████████████| 86/86 [00:02<00:00, 38.99it/s]\n"
     ]
    },
    {
     "name": "stdout",
     "output_type": "stream",
     "text": [
      "run:  24\n",
      "iterating test data\n"
     ]
    },
    {
     "name": "stderr",
     "output_type": "stream",
     "text": [
      "100%|███████████████████████████████████████████████████████████████████████████████████████████████████████████████████████████████████████████████████████| 86/86 [00:02<00:00, 38.69it/s]\n"
     ]
    },
    {
     "name": "stdout",
     "output_type": "stream",
     "text": [
      "run:  25\n",
      "iterating test data\n"
     ]
    },
    {
     "name": "stderr",
     "output_type": "stream",
     "text": [
      "100%|███████████████████████████████████████████████████████████████████████████████████████████████████████████████████████████████████████████████████████| 86/86 [00:02<00:00, 42.05it/s]\n"
     ]
    },
    {
     "name": "stdout",
     "output_type": "stream",
     "text": [
      "run:  26\n",
      "iterating test data\n"
     ]
    },
    {
     "name": "stderr",
     "output_type": "stream",
     "text": [
      "100%|███████████████████████████████████████████████████████████████████████████████████████████████████████████████████████████████████████████████████████| 86/86 [00:02<00:00, 41.87it/s]\n"
     ]
    },
    {
     "name": "stdout",
     "output_type": "stream",
     "text": [
      "run:  27\n",
      "iterating test data\n"
     ]
    },
    {
     "name": "stderr",
     "output_type": "stream",
     "text": [
      "100%|███████████████████████████████████████████████████████████████████████████████████████████████████████████████████████████████████████████████████████| 86/86 [00:02<00:00, 30.37it/s]\n"
     ]
    },
    {
     "name": "stdout",
     "output_type": "stream",
     "text": [
      "run:  28\n",
      "iterating test data\n"
     ]
    },
    {
     "name": "stderr",
     "output_type": "stream",
     "text": [
      "100%|███████████████████████████████████████████████████████████████████████████████████████████████████████████████████████████████████████████████████████| 86/86 [00:02<00:00, 32.42it/s]\n"
     ]
    },
    {
     "name": "stdout",
     "output_type": "stream",
     "text": [
      "run:  29\n",
      "iterating test data\n"
     ]
    },
    {
     "name": "stderr",
     "output_type": "stream",
     "text": [
      "100%|███████████████████████████████████████████████████████████████████████████████████████████████████████████████████████████████████████████████████████| 86/86 [00:02<00:00, 39.08it/s]\n"
     ]
    },
    {
     "name": "stdout",
     "output_type": "stream",
     "text": [
      "run:  30\n",
      "iterating test data\n"
     ]
    },
    {
     "name": "stderr",
     "output_type": "stream",
     "text": [
      "100%|███████████████████████████████████████████████████████████████████████████████████████████████████████████████████████████████████████████████████████| 86/86 [00:03<00:00, 27.89it/s]\n"
     ]
    },
    {
     "name": "stdout",
     "output_type": "stream",
     "text": [
      "run:  31\n",
      "iterating test data\n"
     ]
    },
    {
     "name": "stderr",
     "output_type": "stream",
     "text": [
      "100%|███████████████████████████████████████████████████████████████████████████████████████████████████████████████████████████████████████████████████████| 86/86 [00:02<00:00, 39.55it/s]\n"
     ]
    },
    {
     "name": "stdout",
     "output_type": "stream",
     "text": [
      "run:  32\n",
      "iterating test data\n"
     ]
    },
    {
     "name": "stderr",
     "output_type": "stream",
     "text": [
      "100%|███████████████████████████████████████████████████████████████████████████████████████████████████████████████████████████████████████████████████████| 86/86 [00:02<00:00, 41.21it/s]\n"
     ]
    },
    {
     "name": "stdout",
     "output_type": "stream",
     "text": [
      "run:  33\n",
      "iterating test data\n"
     ]
    },
    {
     "name": "stderr",
     "output_type": "stream",
     "text": [
      "100%|███████████████████████████████████████████████████████████████████████████████████████████████████████████████████████████████████████████████████████| 86/86 [00:02<00:00, 28.67it/s]\n"
     ]
    },
    {
     "name": "stdout",
     "output_type": "stream",
     "text": [
      "run:  34\n",
      "iterating test data\n"
     ]
    },
    {
     "name": "stderr",
     "output_type": "stream",
     "text": [
      "100%|███████████████████████████████████████████████████████████████████████████████████████████████████████████████████████████████████████████████████████| 86/86 [00:02<00:00, 33.67it/s]\n"
     ]
    },
    {
     "name": "stdout",
     "output_type": "stream",
     "text": [
      "run:  35\n",
      "iterating test data\n"
     ]
    },
    {
     "name": "stderr",
     "output_type": "stream",
     "text": [
      "100%|███████████████████████████████████████████████████████████████████████████████████████████████████████████████████████████████████████████████████████| 86/86 [00:03<00:00, 28.57it/s]\n"
     ]
    },
    {
     "name": "stdout",
     "output_type": "stream",
     "text": [
      "run:  36\n",
      "iterating test data\n"
     ]
    },
    {
     "name": "stderr",
     "output_type": "stream",
     "text": [
      "100%|███████████████████████████████████████████████████████████████████████████████████████████████████████████████████████████████████████████████████████| 86/86 [00:02<00:00, 36.16it/s]\n"
     ]
    },
    {
     "name": "stdout",
     "output_type": "stream",
     "text": [
      "run:  37\n",
      "iterating test data\n"
     ]
    },
    {
     "name": "stderr",
     "output_type": "stream",
     "text": [
      "100%|███████████████████████████████████████████████████████████████████████████████████████████████████████████████████████████████████████████████████████| 86/86 [00:02<00:00, 34.60it/s]\n"
     ]
    },
    {
     "name": "stdout",
     "output_type": "stream",
     "text": [
      "run:  38\n",
      "iterating test data\n"
     ]
    },
    {
     "name": "stderr",
     "output_type": "stream",
     "text": [
      "100%|███████████████████████████████████████████████████████████████████████████████████████████████████████████████████████████████████████████████████████| 86/86 [00:02<00:00, 35.02it/s]\n"
     ]
    },
    {
     "name": "stdout",
     "output_type": "stream",
     "text": [
      "run:  39\n",
      "iterating test data\n"
     ]
    },
    {
     "name": "stderr",
     "output_type": "stream",
     "text": [
      "100%|███████████████████████████████████████████████████████████████████████████████████████████████████████████████████████████████████████████████████████| 86/86 [00:02<00:00, 36.71it/s]\n"
     ]
    },
    {
     "name": "stdout",
     "output_type": "stream",
     "text": [
      "run:  40\n",
      "iterating test data\n"
     ]
    },
    {
     "name": "stderr",
     "output_type": "stream",
     "text": [
      "100%|███████████████████████████████████████████████████████████████████████████████████████████████████████████████████████████████████████████████████████| 86/86 [00:02<00:00, 34.06it/s]\n"
     ]
    },
    {
     "name": "stdout",
     "output_type": "stream",
     "text": [
      "run:  41\n",
      "iterating test data\n"
     ]
    },
    {
     "name": "stderr",
     "output_type": "stream",
     "text": [
      "100%|███████████████████████████████████████████████████████████████████████████████████████████████████████████████████████████████████████████████████████| 86/86 [00:02<00:00, 37.23it/s]\n"
     ]
    },
    {
     "name": "stdout",
     "output_type": "stream",
     "text": [
      "run:  42\n",
      "iterating test data\n"
     ]
    },
    {
     "name": "stderr",
     "output_type": "stream",
     "text": [
      "100%|███████████████████████████████████████████████████████████████████████████████████████████████████████████████████████████████████████████████████████| 86/86 [00:03<00:00, 27.14it/s]\n"
     ]
    },
    {
     "name": "stdout",
     "output_type": "stream",
     "text": [
      "run:  43\n",
      "iterating test data\n"
     ]
    },
    {
     "name": "stderr",
     "output_type": "stream",
     "text": [
      "100%|███████████████████████████████████████████████████████████████████████████████████████████████████████████████████████████████████████████████████████| 86/86 [00:02<00:00, 36.35it/s]\n"
     ]
    },
    {
     "name": "stdout",
     "output_type": "stream",
     "text": [
      "run:  44\n",
      "iterating test data\n"
     ]
    },
    {
     "name": "stderr",
     "output_type": "stream",
     "text": [
      "100%|███████████████████████████████████████████████████████████████████████████████████████████████████████████████████████████████████████████████████████| 86/86 [00:03<00:00, 26.63it/s]\n"
     ]
    },
    {
     "name": "stdout",
     "output_type": "stream",
     "text": [
      "run:  45\n",
      "iterating test data\n"
     ]
    },
    {
     "name": "stderr",
     "output_type": "stream",
     "text": [
      "100%|███████████████████████████████████████████████████████████████████████████████████████████████████████████████████████████████████████████████████████| 86/86 [00:02<00:00, 36.69it/s]\n"
     ]
    },
    {
     "name": "stdout",
     "output_type": "stream",
     "text": [
      "run:  46\n",
      "iterating test data\n"
     ]
    },
    {
     "name": "stderr",
     "output_type": "stream",
     "text": [
      "100%|███████████████████████████████████████████████████████████████████████████████████████████████████████████████████████████████████████████████████████| 86/86 [00:03<00:00, 24.99it/s]\n"
     ]
    },
    {
     "name": "stdout",
     "output_type": "stream",
     "text": [
      "run:  47\n",
      "iterating test data\n"
     ]
    },
    {
     "name": "stderr",
     "output_type": "stream",
     "text": [
      "100%|███████████████████████████████████████████████████████████████████████████████████████████████████████████████████████████████████████████████████████| 86/86 [00:02<00:00, 35.25it/s]\n"
     ]
    },
    {
     "name": "stdout",
     "output_type": "stream",
     "text": [
      "run:  48\n",
      "iterating test data\n"
     ]
    },
    {
     "name": "stderr",
     "output_type": "stream",
     "text": [
      "100%|███████████████████████████████████████████████████████████████████████████████████████████████████████████████████████████████████████████████████████| 86/86 [00:03<00:00, 24.94it/s]\n"
     ]
    },
    {
     "name": "stdout",
     "output_type": "stream",
     "text": [
      "run:  49\n",
      "iterating test data\n"
     ]
    },
    {
     "name": "stderr",
     "output_type": "stream",
     "text": [
      "100%|███████████████████████████████████████████████████████████████████████████████████████████████████████████████████████████████████████████████████████| 86/86 [00:02<00:00, 35.47it/s]\n"
     ]
    },
    {
     "name": "stdout",
     "output_type": "stream",
     "text": [
      "run:  50\n",
      "iterating test data\n"
     ]
    },
    {
     "name": "stderr",
     "output_type": "stream",
     "text": [
      "100%|███████████████████████████████████████████████████████████████████████████████████████████████████████████████████████████████████████████████████████| 86/86 [00:03<00:00, 22.97it/s]\n"
     ]
    },
    {
     "name": "stdout",
     "output_type": "stream",
     "text": [
      "run:  51\n",
      "iterating test data\n"
     ]
    },
    {
     "name": "stderr",
     "output_type": "stream",
     "text": [
      "100%|███████████████████████████████████████████████████████████████████████████████████████████████████████████████████████████████████████████████████████| 86/86 [00:02<00:00, 35.04it/s]\n"
     ]
    },
    {
     "name": "stdout",
     "output_type": "stream",
     "text": [
      "run:  52\n",
      "iterating test data\n"
     ]
    },
    {
     "name": "stderr",
     "output_type": "stream",
     "text": [
      "100%|███████████████████████████████████████████████████████████████████████████████████████████████████████████████████████████████████████████████████████| 86/86 [00:03<00:00, 22.88it/s]\n"
     ]
    },
    {
     "name": "stdout",
     "output_type": "stream",
     "text": [
      "run:  53\n",
      "iterating test data\n"
     ]
    },
    {
     "name": "stderr",
     "output_type": "stream",
     "text": [
      "100%|███████████████████████████████████████████████████████████████████████████████████████████████████████████████████████████████████████████████████████| 86/86 [00:02<00:00, 35.84it/s]\n"
     ]
    },
    {
     "name": "stdout",
     "output_type": "stream",
     "text": [
      "run:  54\n",
      "iterating test data\n"
     ]
    },
    {
     "name": "stderr",
     "output_type": "stream",
     "text": [
      "100%|███████████████████████████████████████████████████████████████████████████████████████████████████████████████████████████████████████████████████████| 86/86 [00:03<00:00, 24.20it/s]\n"
     ]
    },
    {
     "name": "stdout",
     "output_type": "stream",
     "text": [
      "run:  55\n",
      "iterating test data\n"
     ]
    },
    {
     "name": "stderr",
     "output_type": "stream",
     "text": [
      "100%|███████████████████████████████████████████████████████████████████████████████████████████████████████████████████████████████████████████████████████| 86/86 [00:02<00:00, 36.69it/s]\n"
     ]
    },
    {
     "name": "stdout",
     "output_type": "stream",
     "text": [
      "run:  56\n",
      "iterating test data\n"
     ]
    },
    {
     "name": "stderr",
     "output_type": "stream",
     "text": [
      "100%|███████████████████████████████████████████████████████████████████████████████████████████████████████████████████████████████████████████████████████| 86/86 [00:02<00:00, 34.63it/s]\n"
     ]
    },
    {
     "name": "stdout",
     "output_type": "stream",
     "text": [
      "run:  57\n",
      "iterating test data\n"
     ]
    },
    {
     "name": "stderr",
     "output_type": "stream",
     "text": [
      "100%|███████████████████████████████████████████████████████████████████████████████████████████████████████████████████████████████████████████████████████| 86/86 [00:03<00:00, 24.57it/s]\n"
     ]
    },
    {
     "name": "stdout",
     "output_type": "stream",
     "text": [
      "run:  58\n",
      "iterating test data\n"
     ]
    },
    {
     "name": "stderr",
     "output_type": "stream",
     "text": [
      "100%|███████████████████████████████████████████████████████████████████████████████████████████████████████████████████████████████████████████████████████| 86/86 [00:02<00:00, 35.70it/s]\n"
     ]
    },
    {
     "name": "stdout",
     "output_type": "stream",
     "text": [
      "run:  59\n",
      "iterating test data\n"
     ]
    },
    {
     "name": "stderr",
     "output_type": "stream",
     "text": [
      "100%|███████████████████████████████████████████████████████████████████████████████████████████████████████████████████████████████████████████████████████| 86/86 [00:03<00:00, 27.33it/s]\n"
     ]
    },
    {
     "name": "stdout",
     "output_type": "stream",
     "text": [
      "run:  60\n",
      "iterating test data\n"
     ]
    },
    {
     "name": "stderr",
     "output_type": "stream",
     "text": [
      "100%|███████████████████████████████████████████████████████████████████████████████████████████████████████████████████████████████████████████████████████| 86/86 [00:02<00:00, 35.68it/s]\n"
     ]
    },
    {
     "name": "stdout",
     "output_type": "stream",
     "text": [
      "run:  61\n",
      "iterating test data\n"
     ]
    },
    {
     "name": "stderr",
     "output_type": "stream",
     "text": [
      "100%|███████████████████████████████████████████████████████████████████████████████████████████████████████████████████████████████████████████████████████| 86/86 [00:03<00:00, 25.06it/s]\n"
     ]
    },
    {
     "name": "stdout",
     "output_type": "stream",
     "text": [
      "run:  62\n",
      "iterating test data\n"
     ]
    },
    {
     "name": "stderr",
     "output_type": "stream",
     "text": [
      "100%|███████████████████████████████████████████████████████████████████████████████████████████████████████████████████████████████████████████████████████| 86/86 [00:02<00:00, 35.50it/s]\n"
     ]
    },
    {
     "name": "stdout",
     "output_type": "stream",
     "text": [
      "run:  63\n",
      "iterating test data\n"
     ]
    },
    {
     "name": "stderr",
     "output_type": "stream",
     "text": [
      "100%|███████████████████████████████████████████████████████████████████████████████████████████████████████████████████████████████████████████████████████| 86/86 [00:03<00:00, 27.58it/s]\n"
     ]
    }
   ],
   "source": [
    "results_per_run = batch_norm_uncertainty(None, fitter_uncert, train_dataloader, test_batches, runs=64)"
   ]
  },
  {
   "cell_type": "code",
   "execution_count": 94,
   "id": "175935ff-b9ee-4fdd-ab52-6758819039e1",
   "metadata": {},
   "outputs": [],
   "source": [
    "from collections import defaultdict"
   ]
  },
  {
   "cell_type": "code",
   "execution_count": 95,
   "id": "81b97298-cbda-4054-9ee4-e80fee84cf45",
   "metadata": {},
   "outputs": [],
   "source": [
    "def get_uncertainty_map(results_per_run):\n",
    "    # rearrange into batch, run arrays\n",
    "    batches = len(results_per_run[0])\n",
    "    results_per_batch = defaultdict(lambda : [])\n",
    "    for run, rdata in enumerate(results_per_run):\n",
    "        for batch, bdata in enumerate(rdata):\n",
    "            results_per_batch[batch].append(bdata)\n",
    "    # \n",
    "    variances_per_batch = []\n",
    "    for batch in range(batches):\n",
    "        samples = torch.permute(torch.stack(results_per_batch[batch]), (1,0,2,3,4))\n",
    "        samples = torch.var(samples, dim=1)\n",
    "        variances_per_batch.append(samples)\n",
    "        \n",
    "    return variances_per_batch"
   ]
  },
  {
   "cell_type": "code",
   "execution_count": 96,
   "id": "c530d4aa-2832-4a50-b03d-175d3a705e11",
   "metadata": {},
   "outputs": [],
   "source": [
    "sample_variance = get_uncertainty_map(results_per_run)"
   ]
  },
  {
   "cell_type": "code",
   "execution_count": 97,
   "id": "a5a7682b-7159-4a00-89c2-1336f10b434a",
   "metadata": {},
   "outputs": [
    {
     "data": {
      "text/plain": [
       "86"
      ]
     },
     "execution_count": 97,
     "metadata": {},
     "output_type": "execute_result"
    }
   ],
   "source": [
    "len(sample_variance)"
   ]
  },
  {
   "cell_type": "code",
   "execution_count": 98,
   "id": "21ef33b9-ec7c-478c-a69e-04e473b44c8b",
   "metadata": {},
   "outputs": [
    {
     "data": {
      "text/plain": [
       "<matplotlib.image.AxesImage at 0x7f2269023550>"
      ]
     },
     "execution_count": 98,
     "metadata": {},
     "output_type": "execute_result"
    },
    {
     "data": {
      "image/png": "[encoded data removed]",
      "text/plain": [
       "<Figure size 432x288 with 1 Axes>"
      ]
     },
     "metadata": {
      "needs_background": "light"
     },
     "output_type": "display_data"
    }
   ],
   "source": [
    "plt.imshow(sample_variance[0][6][0,:,:].numpy())"
   ]
  },
  {
   "cell_type": "code",
   "execution_count": 99,
   "id": "7f22ccc0-48f5-4830-9bcd-1fbb82370209",
   "metadata": {},
   "outputs": [
    {
     "data": {
      "text/plain": [
       "<matplotlib.image.AxesImage at 0x7f2268f854f0>"
      ]
     },
     "execution_count": 99,
     "metadata": {},
     "output_type": "execute_result"
    },
    {
     "data": {
      "image/png": "[encoded data removed]",
      "text/plain": [
       "<Figure size 432x288 with 1 Axes>"
      ]
     },
     "metadata": {
      "needs_background": "light"
     },
     "output_type": "display_data"
    }
   ],
   "source": [
    "plt.imshow(results_per_run[4][0][6][0,:,:].numpy())"
   ]
  },
  {
   "cell_type": "code",
   "execution_count": 100,
   "id": "ba040717-b914-493a-952a-db6e410985d8",
   "metadata": {},
   "outputs": [],
   "source": [
    "def get_predictions(results_per_run):\n",
    "    run0 = results_per_run[0]\n",
    "    predictions = []\n",
    "    for batch in run0:\n",
    "        predictions.append(torch.sigmoid(batch))\n",
    "    return predictions\n",
    "        "
   ]
  },
  {
   "cell_type": "code",
   "execution_count": 101,
   "id": "bf79e168-8921-4040-8a2d-45a5c545c7d8",
   "metadata": {},
   "outputs": [],
   "source": [
    "predictions = get_predictions(results_per_run)"
   ]
  },
  {
   "cell_type": "code",
   "execution_count": 102,
   "id": "0219ea99-597f-47b2-a2a7-83db3a5db4b0",
   "metadata": {},
   "outputs": [
    {
     "data": {
      "text/plain": [
       "86"
      ]
     },
     "execution_count": 102,
     "metadata": {},
     "output_type": "execute_result"
    }
   ],
   "source": [
    "len(predictions)"
   ]
  },
  {
   "cell_type": "code",
   "execution_count": 103,
   "id": "fde96f9d-e743-4bba-9ec4-6dfc31698645",
   "metadata": {},
   "outputs": [
    {
     "data": {
      "text/plain": [
       "<matplotlib.image.AxesImage at 0x7f2268ef9d00>"
      ]
     },
     "execution_count": 103,
     "metadata": {},
     "output_type": "execute_result"
    },
    {
     "data": {
      "image/png": "[encoded data removed]",
      "text/plain": [
       "<Figure size 432x288 with 1 Axes>"
      ]
     },
     "metadata": {
      "needs_background": "light"
     },
     "output_type": "display_data"
    }
   ],
   "source": [
    "# prediction\n",
    "plt.imshow(predictions[0][6].numpy()[0,:,:])  # run, batch, img"
   ]
  },
  {
   "cell_type": "markdown",
   "id": "3344136a-d9f0-4b42-9142-4ba86302ed96",
   "metadata": {},
   "source": [
    "### Produce Calibration plots"
   ]
  },
  {
   "cell_type": "code",
   "execution_count": 104,
   "id": "909270bc-8040-4897-8f86-03e92589632a",
   "metadata": {},
   "outputs": [
    {
     "data": {
      "text/plain": [
       "2"
      ]
     },
     "execution_count": 104,
     "metadata": {},
     "output_type": "execute_result"
    }
   ],
   "source": [
    "len(test_batches[0])"
   ]
  },
  {
   "cell_type": "code",
   "execution_count": 105,
   "id": "baf0b8ad-0bda-46d0-8d08-2ac006459adf",
   "metadata": {},
   "outputs": [
    {
     "data": {
      "text/plain": [
       "<matplotlib.image.AxesImage at 0x7f2268e69790>"
      ]
     },
     "execution_count": 105,
     "metadata": {},
     "output_type": "execute_result"
    },
    {
     "data": {
      "image/png": "[encoded data removed]",
      "text/plain": [
       "<Figure size 432x288 with 1 Axes>"
      ]
     },
     "metadata": {
      "needs_background": "light"
     },
     "output_type": "display_data"
    }
   ],
   "source": [
    "# actual map\n",
    "plt.imshow(test_batches[0][1][6].numpy()[0,:,:])"
   ]
  },
  {
   "cell_type": "code",
   "execution_count": 106,
   "id": "67e87157-bb2f-459d-91d6-d190fd3bbcb5",
   "metadata": {},
   "outputs": [
    {
     "data": {
      "text/plain": [
       "<matplotlib.image.AxesImage at 0x7f2268ddd4c0>"
      ]
     },
     "execution_count": 106,
     "metadata": {},
     "output_type": "execute_result"
    },
    {
     "data": {
      "image/png": "[encoded data removed]",
      "text/plain": [
       "<Figure size 432x288 with 1 Axes>"
      ]
     },
     "metadata": {
      "needs_background": "light"
     },
     "output_type": "display_data"
    }
   ],
   "source": [
    "# flair\n",
    "plt.imshow(test_batches[0][0][6].numpy()[0,:,:])"
   ]
  },
  {
   "cell_type": "code",
   "execution_count": 181,
   "id": "d7fcc41b-2adb-4923-a2d3-8b043f3d5992",
   "metadata": {},
   "outputs": [
    {
     "data": {
      "image/png": "[encoded data removed]",
      "text/plain": [
       "<Figure size 1080x720 with 4 Axes>"
      ]
     },
     "metadata": {
      "needs_background": "light"
     },
     "output_type": "display_data"
    }
   ],
   "source": [
    "batch_idx = 4\n",
    "img_imdx = 1\n",
    "\n",
    "prediction = predictions[batch_idx][img_imdx].numpy()[0,:,:]\n",
    "uncertainty_map = sample_variance[batch_idx][img_imdx][0,:,:].numpy()\n",
    "target = test_batches[batch_idx][1][img_imdx].numpy()[0,:,:]\n",
    "flair = test_batches[batch_idx][0][img_imdx].numpy()[0,:,:]\n",
    "\n",
    "plt.figure(figsize=(15,10))\n",
    "plt.subplot(1,4,1)\n",
    "plt.imshow(prediction)\n",
    "plt.title(\"prediction\")\n",
    "plt.subplot(1,4,2)\n",
    "plt.imshow(target)\n",
    "plt.title(\"target\")\n",
    "plt.subplot(1,4,3)\n",
    "plt.imshow(uncertainty_map)\n",
    "plt.title(\"batchnorm sample variance\")\n",
    "plt.subplot(1,4,4)\n",
    "plt.imshow(flair)\n",
    "plt.title(\"flair\")\n",
    "plt.show()"
   ]
  },
  {
   "cell_type": "markdown",
   "id": "87bb8316-7e48-4d22-9300-f8a1da8ab459",
   "metadata": {},
   "source": [
    "### Dice vs Uncertainty Plot"
   ]
  },
  {
   "cell_type": "code",
   "execution_count": 165,
   "id": "8082d7ed-cc7a-4e84-838e-abc7738eec4d",
   "metadata": {},
   "outputs": [],
   "source": [
    "def dice_dim(y_pred, y_true, dim):\n",
    "    y_pred[y_pred > 0.5] = 1\n",
    "    y_pred[y_pred<=0.5] = 0\n",
    "    y_true[y_true > 0.5] = 1\n",
    "    y_true[y_true<=0.5] = 0\n",
    "    denominator = torch.sum(y_pred, dim=dim) + torch.sum(y_true, dim=dim)\n",
    "    numerator = 2. * torch.sum(torch.logical_and(y_pred, y_true), dim=dim)\n",
    "    return numerator / (denominator +1e-8)\n",
    "    "
   ]
  },
  {
   "cell_type": "code",
   "execution_count": 166,
   "id": "9ab20d80-fe10-487e-839b-9238cd35f999",
   "metadata": {},
   "outputs": [],
   "source": [
    "bce = BCELoss(reduction=None)"
   ]
  },
  {
   "cell_type": "code",
   "execution_count": 167,
   "id": "7b9dce5a-3c6b-406f-8ee6-40783bb90efe",
   "metadata": {},
   "outputs": [],
   "source": [
    "ind_dices = []\n",
    "total_us = []\n",
    "mean_us = []\n",
    "for batch, batch_data in enumerate(predictions):\n",
    "    target_batch = test_batches[batch][1]\n",
    "    dices = dice_dim(batch_data, target_batch, dim=[1,2,3])\n",
    "    #dices = bce(batch_data, target_batch)\n",
    "    total_uncertainty = torch.sum(sample_variance[batch], dim=[1,2,3])\n",
    "    mean_uncertainty = torch.mean(sample_variance[batch], dim=[1,2,3])\n",
    "    \n",
    "    ind_dices.append(dices)\n",
    "    total_us.append(total_uncertainty)\n",
    "    mean_us.append(mean_uncertainty)\n",
    "    \n",
    "    "
   ]
  },
  {
   "cell_type": "code",
   "execution_count": 168,
   "id": "3cb102b0-cf7b-46e1-be77-65b539d8c736",
   "metadata": {},
   "outputs": [
    {
     "data": {
      "text/plain": [
       "86"
      ]
     },
     "execution_count": 168,
     "metadata": {},
     "output_type": "execute_result"
    }
   ],
   "source": [
    "len(ind_dices)"
   ]
  },
  {
   "cell_type": "code",
   "execution_count": 169,
   "id": "eaeffc07-1fa6-4f4c-a934-533aa72ad3eb",
   "metadata": {},
   "outputs": [],
   "source": [
    "ds, tus, mus = torch.cat(ind_dices).numpy(), torch.cat(total_us).numpy(), torch.cat(mean_us).numpy()"
   ]
  },
  {
   "cell_type": "code",
   "execution_count": 170,
   "id": "22509337-fd42-4642-ad03-d66703d4da73",
   "metadata": {},
   "outputs": [
    {
     "data": {
      "text/plain": [
       "1369"
      ]
     },
     "execution_count": 170,
     "metadata": {},
     "output_type": "execute_result"
    }
   ],
   "source": [
    "len(ds)"
   ]
  },
  {
   "cell_type": "code",
   "execution_count": 187,
   "id": "7a7cf87e-ab76-4dfc-8585-d25f0ba6c6d0",
   "metadata": {},
   "outputs": [
    {
     "data": {
      "image/png": "[encoded data removed]",
      "text/plain": [
       "<Figure size 720x432 with 1 Axes>"
      ]
     },
     "metadata": {
      "needs_background": "light"
     },
     "output_type": "display_data"
    }
   ],
   "source": [
    "plt.figure(figsize=(10,6))\n",
    "plt.scatter(ds, tus)\n",
    "plt.xlabel(\"dice\")\n",
    "plt.ylabel(\"varance\")\n",
    "plt.show()"
   ]
  },
  {
   "cell_type": "code",
   "execution_count": 164,
   "id": "0c9ffac2-cf9c-47e8-b46d-1e6ef13ee57e",
   "metadata": {},
   "outputs": [
    {
     "data": {
      "text/plain": [
       "array([0.        , 0.59836066, 0.6902655 , ..., 0.        , 0.        ,\n",
       "       0.7061878 ], dtype=float32)"
      ]
     },
     "execution_count": 164,
     "metadata": {},
     "output_type": "execute_result"
    }
   ],
   "source": []
  },
  {
   "cell_type": "code",
   "execution_count": null,
   "id": "20a61a7b-4ae4-4fb2-9b5f-8871137bea39",
   "metadata": {},
   "outputs": [],
   "source": []
  }
 ],
 "metadata": {
  "kernelspec": {
   "display_name": "Python 3 (ipykernel)",
   "language": "python",
   "name": "python3"
  },
  "language_info": {
   "codemirror_mode": {
    "name": "ipython",
    "version": 3
   },
   "file_extension": ".py",
   "mimetype": "text/x-python",
   "name": "python",
   "nbconvert_exporter": "python",
   "pygments_lexer": "ipython3",
   "version": "3.9.12"
  }
 },
 "nbformat": 4,
 "nbformat_minor": 5
}
