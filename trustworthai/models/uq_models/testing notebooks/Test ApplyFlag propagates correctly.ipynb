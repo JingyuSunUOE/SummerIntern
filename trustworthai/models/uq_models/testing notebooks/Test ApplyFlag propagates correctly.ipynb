{
 "cells": [
  {
   "cell_type": "markdown",
   "id": "0b3b833b-c8f6-4e78-af05-488f990409d4",
   "metadata": {},
   "source": [
    "# Test the apply flag works correctly\n",
    "(and that we get random sampling (nondeterministic) behaviour when we want to!)"
   ]
  },
  {
   "cell_type": "code",
   "execution_count": 1,
   "id": "f37990bd-071a-4476-b553-5a51d1e5165d",
   "metadata": {},
   "outputs": [],
   "source": [
    "import torch\n",
    "from torchinfo import summary"
   ]
  },
  {
   "cell_type": "code",
   "execution_count": 2,
   "id": "d3d10efa-40ba-4523-a54c-cc89bbb25da4",
   "metadata": {},
   "outputs": [],
   "source": [
    "from trustworthai.models.uq_models.drop_UNet import UNet\n",
    "from trustworthai.models.uq_models.uq_model import UQModel"
   ]
  },
  {
   "cell_type": "code",
   "execution_count": 83,
   "id": "b4d009fb-72a7-4f3e-9cde-d73e1cd430f9",
   "metadata": {},
   "outputs": [],
   "source": [
    "p=0.4\n",
    "mdim=True\n",
    "args = {\n",
    "    \"dropout_type\":None,\n",
    "    \"dropconnect_type\":\"bernoulli\",\n",
    "    \"p\":p,\n",
    "    \"mdim\":False,\n",
    "    \"norm_type\":\"bn\",\n",
    "    \"uqnorm\":True,\n",
    "    \"gn_groups\":4\n",
    "}\n",
    "\n",
    "model = UNet(in_channels=3,\n",
    "             out_channels=2,\n",
    "             kernel_size=3,\n",
    "             init_features=32,\n",
    "             softmax=False,\n",
    "             dropout_type=args[\"dropout_type\"],\n",
    "             dropout_p=args[\"p\"],\n",
    "             gaussout_mean=1, \n",
    "             dropconnect_type=args[\"dropconnect_type\"],\n",
    "             dropconnect_p=args[\"p\"],\n",
    "             gaussconnect_mean=1,\n",
    "             norm_type=args[\"norm_type\"],\n",
    "             use_uq_norm_layer=args['uqnorm'],\n",
    "             use_multidim_dropout=args[\"mdim\"],  \n",
    "             use_multidim_dropconnect=args[\"mdim\"], \n",
    "             groups=None,\n",
    "             gn_groups=args[\"gn_groups\"], \n",
    "            )"
   ]
  },
  {
   "cell_type": "code",
   "execution_count": 153,
   "id": "ca284231-a802-4bc7-a88b-0be694f39d09",
   "metadata": {},
   "outputs": [],
   "source": [
    "#model = model.cuda()"
   ]
  },
  {
   "cell_type": "code",
   "execution_count": 57,
   "id": "3fa14732-b616-4067-82f8-de046b182915",
   "metadata": {},
   "outputs": [
    {
     "data": {
      "text/plain": [
       "==========================================================================================\n",
       "Layer (type:depth-idx)                   Output Shape              Param #\n",
       "==========================================================================================\n",
       "UNet                                     --                        --\n",
       "├─Block: 1-1                             [1, 32, 160, 224]         --\n",
       "│    └─UQDropConnect2d: 2-1              [1, 32, 160, 224]         --\n",
       "│    └─UQLayerWrapper: 2-2               [1, 32, 160, 224]         --\n",
       "│    │    └─BatchNorm2d: 3-1             [1, 32, 160, 224]         64\n",
       "│    └─ReLU: 2-3                         [1, 32, 160, 224]         --\n",
       "│    └─UQDropConnect2d: 2-4              [1, 32, 160, 224]         --\n",
       "│    └─UQLayerWrapper: 2-5               [1, 32, 160, 224]         --\n",
       "│    │    └─BatchNorm2d: 3-2             [1, 32, 160, 224]         64\n",
       "│    └─ReLU: 2-6                         [1, 32, 160, 224]         --\n",
       "├─MaxPool2d: 1-2                         [1, 32, 80, 112]          --\n",
       "├─Block: 1-3                             [1, 64, 80, 112]          --\n",
       "│    └─UQDropConnect2d: 2-7              [1, 64, 80, 112]          --\n",
       "│    └─UQLayerWrapper: 2-8               [1, 64, 80, 112]          --\n",
       "│    │    └─BatchNorm2d: 3-3             [1, 64, 80, 112]          128\n",
       "│    └─ReLU: 2-9                         [1, 64, 80, 112]          --\n",
       "│    └─UQDropConnect2d: 2-10             [1, 64, 80, 112]          --\n",
       "│    └─UQLayerWrapper: 2-11              [1, 64, 80, 112]          --\n",
       "│    │    └─BatchNorm2d: 3-4             [1, 64, 80, 112]          128\n",
       "│    └─ReLU: 2-12                        [1, 64, 80, 112]          --\n",
       "├─MaxPool2d: 1-4                         [1, 64, 40, 56]           --\n",
       "├─Block: 1-5                             [1, 128, 40, 56]          --\n",
       "│    └─UQDropConnect2d: 2-13             [1, 128, 40, 56]          --\n",
       "│    └─UQLayerWrapper: 2-14              [1, 128, 40, 56]          --\n",
       "│    │    └─BatchNorm2d: 3-5             [1, 128, 40, 56]          256\n",
       "│    └─ReLU: 2-15                        [1, 128, 40, 56]          --\n",
       "│    └─UQDropConnect2d: 2-16             [1, 128, 40, 56]          --\n",
       "│    └─UQLayerWrapper: 2-17              [1, 128, 40, 56]          --\n",
       "│    │    └─BatchNorm2d: 3-6             [1, 128, 40, 56]          256\n",
       "│    └─ReLU: 2-18                        [1, 128, 40, 56]          --\n",
       "├─MaxPool2d: 1-6                         [1, 128, 20, 28]          --\n",
       "├─Block: 1-7                             [1, 256, 20, 28]          --\n",
       "│    └─UQDropConnect2d: 2-19             [1, 256, 20, 28]          --\n",
       "│    └─UQLayerWrapper: 2-20              [1, 256, 20, 28]          --\n",
       "│    │    └─BatchNorm2d: 3-7             [1, 256, 20, 28]          512\n",
       "│    └─ReLU: 2-21                        [1, 256, 20, 28]          --\n",
       "│    └─UQDropConnect2d: 2-22             [1, 256, 20, 28]          --\n",
       "│    └─UQLayerWrapper: 2-23              [1, 256, 20, 28]          --\n",
       "│    │    └─BatchNorm2d: 3-8             [1, 256, 20, 28]          512\n",
       "│    └─ReLU: 2-24                        [1, 256, 20, 28]          --\n",
       "├─MaxPool2d: 1-8                         [1, 256, 10, 14]          --\n",
       "├─Block: 1-9                             [1, 512, 10, 14]          --\n",
       "│    └─UQDropConnect2d: 2-25             [1, 512, 10, 14]          --\n",
       "│    └─UQLayerWrapper: 2-26              [1, 512, 10, 14]          --\n",
       "│    │    └─BatchNorm2d: 3-9             [1, 512, 10, 14]          1,024\n",
       "│    └─ReLU: 2-27                        [1, 512, 10, 14]          --\n",
       "│    └─UQDropConnect2d: 2-28             [1, 512, 10, 14]          --\n",
       "│    └─UQLayerWrapper: 2-29              [1, 512, 10, 14]          --\n",
       "│    │    └─BatchNorm2d: 3-10            [1, 512, 10, 14]          1,024\n",
       "│    └─ReLU: 2-30                        [1, 512, 10, 14]          --\n",
       "├─ConvTranspose2d: 1-10                  [1, 256, 20, 28]          524,544\n",
       "├─Block: 1-11                            [1, 256, 20, 28]          --\n",
       "│    └─UQDropConnect2d: 2-31             [1, 256, 20, 28]          --\n",
       "│    └─UQLayerWrapper: 2-32              [1, 256, 20, 28]          --\n",
       "│    │    └─BatchNorm2d: 3-11            [1, 256, 20, 28]          512\n",
       "│    └─ReLU: 2-33                        [1, 256, 20, 28]          --\n",
       "│    └─UQDropConnect2d: 2-34             [1, 256, 20, 28]          --\n",
       "│    └─UQLayerWrapper: 2-35              [1, 256, 20, 28]          --\n",
       "│    │    └─BatchNorm2d: 3-12            [1, 256, 20, 28]          512\n",
       "│    └─ReLU: 2-36                        [1, 256, 20, 28]          --\n",
       "├─ConvTranspose2d: 1-12                  [1, 128, 40, 56]          131,200\n",
       "├─Block: 1-13                            [1, 128, 40, 56]          --\n",
       "│    └─UQDropConnect2d: 2-37             [1, 128, 40, 56]          --\n",
       "│    └─UQLayerWrapper: 2-38              [1, 128, 40, 56]          --\n",
       "│    │    └─BatchNorm2d: 3-13            [1, 128, 40, 56]          256\n",
       "│    └─ReLU: 2-39                        [1, 128, 40, 56]          --\n",
       "│    └─UQDropConnect2d: 2-40             [1, 128, 40, 56]          --\n",
       "│    └─UQLayerWrapper: 2-41              [1, 128, 40, 56]          --\n",
       "│    │    └─BatchNorm2d: 3-14            [1, 128, 40, 56]          256\n",
       "│    └─ReLU: 2-42                        [1, 128, 40, 56]          --\n",
       "├─ConvTranspose2d: 1-14                  [1, 64, 80, 112]          32,832\n",
       "├─Block: 1-15                            [1, 64, 80, 112]          --\n",
       "│    └─UQDropConnect2d: 2-43             [1, 64, 80, 112]          --\n",
       "│    └─UQLayerWrapper: 2-44              [1, 64, 80, 112]          --\n",
       "│    │    └─BatchNorm2d: 3-15            [1, 64, 80, 112]          128\n",
       "│    └─ReLU: 2-45                        [1, 64, 80, 112]          --\n",
       "│    └─UQDropConnect2d: 2-46             [1, 64, 80, 112]          --\n",
       "│    └─UQLayerWrapper: 2-47              [1, 64, 80, 112]          --\n",
       "│    │    └─BatchNorm2d: 3-16            [1, 64, 80, 112]          128\n",
       "│    └─ReLU: 2-48                        [1, 64, 80, 112]          --\n",
       "├─ConvTranspose2d: 1-16                  [1, 32, 160, 224]         8,224\n",
       "├─Block: 1-17                            [1, 32, 160, 224]         --\n",
       "│    └─UQDropConnect2d: 2-49             [1, 32, 160, 224]         --\n",
       "│    └─UQLayerWrapper: 2-50              [1, 32, 160, 224]         --\n",
       "│    │    └─BatchNorm2d: 3-17            [1, 32, 160, 224]         64\n",
       "│    └─ReLU: 2-51                        [1, 32, 160, 224]         --\n",
       "│    └─UQDropConnect2d: 2-52             [1, 32, 160, 224]         --\n",
       "│    └─UQLayerWrapper: 2-53              [1, 32, 160, 224]         --\n",
       "│    │    └─BatchNorm2d: 3-18            [1, 32, 160, 224]         64\n",
       "│    └─ReLU: 2-54                        [1, 32, 160, 224]         --\n",
       "├─Conv2d: 1-18                           [1, 2, 160, 224]          66\n",
       "==========================================================================================\n",
       "Total params: 702,754\n",
       "Trainable params: 702,754\n",
       "Non-trainable params: 0\n",
       "Total mult-adds (G): 1.18\n",
       "==========================================================================================\n",
       "Input size (MB): 0.43\n",
       "Forward/backward pass size (MB): 87.74\n",
       "Params size (MB): 2.81\n",
       "Estimated Total Size (MB): 90.98\n",
       "=========================================================================================="
      ]
     },
     "execution_count": 57,
     "metadata": {},
     "output_type": "execute_result"
    }
   ],
   "source": [
    "summary(model, (1, 3, 160, 224))"
   ]
  },
  {
   "cell_type": "code",
   "execution_count": 84,
   "id": "f671c6e8-ffe6-4557-9f04-113df95209d9",
   "metadata": {},
   "outputs": [],
   "source": [
    "model=model.cuda()"
   ]
  },
  {
   "cell_type": "code",
   "execution_count": 95,
   "id": "337d344c-29dd-4b6b-83b4-01c19923e174",
   "metadata": {},
   "outputs": [],
   "source": [
    "xs = torch.rand(1, 3, 160, 224)"
   ]
  },
  {
   "cell_type": "code",
   "execution_count": 96,
   "id": "a93757e5-8319-4aa2-b383-d55aedf8bbd2",
   "metadata": {},
   "outputs": [],
   "source": [
    "model.set_applyfunc(True)"
   ]
  },
  {
   "cell_type": "markdown",
   "id": "666da2e2-1bf7-4287-b76b-805ee229f55a",
   "metadata": {},
   "source": [
    "### check for determinism and non determinism as we expect"
   ]
  },
  {
   "cell_type": "code",
   "execution_count": 116,
   "id": "bcf12c3a-efda-48f2-9c8a-5cd653857daf",
   "metadata": {},
   "outputs": [],
   "source": [
    "model.set_applyfunc(False)"
   ]
  },
  {
   "cell_type": "code",
   "execution_count": 117,
   "id": "04202ae3-0cad-4033-a6c3-b024466151fb",
   "metadata": {},
   "outputs": [],
   "source": [
    "y1 = model(xs.cuda())\n",
    "y2 = model(xs.cuda())"
   ]
  },
  {
   "cell_type": "code",
   "execution_count": 118,
   "id": "fcd9b080-e082-4c08-932c-264c4734a08b",
   "metadata": {},
   "outputs": [
    {
     "data": {
      "text/plain": [
       "tensor(0, device='cuda:0')"
      ]
     },
     "execution_count": 118,
     "metadata": {},
     "output_type": "execute_result"
    }
   ],
   "source": [
    "torch.sum(y1[0] != y2[0]) # should equal zero for determinism"
   ]
  },
  {
   "cell_type": "code",
   "execution_count": 119,
   "id": "9f64fb9d-925c-4d2c-aa7e-9c0888aa02f2",
   "metadata": {},
   "outputs": [],
   "source": [
    "model.set_applyfunc(True)"
   ]
  },
  {
   "cell_type": "code",
   "execution_count": 126,
   "id": "7f969ba2-5858-4aa1-b348-681079e6c517",
   "metadata": {},
   "outputs": [],
   "source": [
    "z1 = model(xs.cuda())\n",
    "z2 = model(xs.cuda())"
   ]
  },
  {
   "cell_type": "code",
   "execution_count": 127,
   "id": "03c07707-c249-4683-8a3b-f138ae223fe8",
   "metadata": {},
   "outputs": [
    {
     "data": {
      "text/plain": [
       "(tensor(71680, device='cuda:0'), 71680)"
      ]
     },
     "execution_count": 127,
     "metadata": {},
     "output_type": "execute_result"
    }
   ],
   "source": [
    "torch.sum(z1[0] != z2[0]), torch.numel(zs[0])"
   ]
  },
  {
   "cell_type": "markdown",
   "id": "f9c41701-d74d-46d3-b329-8f33ba1cf63b",
   "metadata": {},
   "source": [
    "### checkinf for non determinism fo the btach norm layers is more complex"
   ]
  },
  {
   "cell_type": "code",
   "execution_count": 47,
   "id": "a71b2075-f21a-443a-9373-6dff918ccccb",
   "metadata": {},
   "outputs": [],
   "source": [
    "a = torch.rand(3, 160, 224); ass = torch.stack([a,a,a,a,a,a,a,a])\n",
    "b = torch.rand(3, 160, 224); bss = torch.stack([b,b,b,b,b,b,b,b])"
   ]
  },
  {
   "cell_type": "markdown",
   "id": "a3348936-de07-48ed-a77c-c426cbe2d3bc",
   "metadata": {},
   "source": [
    "**non-determinism**"
   ]
  },
  {
   "cell_type": "code",
   "execution_count": 64,
   "id": "fa7aa158-7213-41d2-88b9-4ced32cad2ec",
   "metadata": {},
   "outputs": [],
   "source": [
    "model.set_applyfunc(True)\n",
    "_ = model(ass.cuda())\n",
    "model.set_applyfunc(False)\n",
    "z1 = model(xs.cuda())\n",
    "\n",
    "model.set_applyfunc(True)\n",
    "_ = model(bss.cuda())\n",
    "model.set_applyfunc(False)\n",
    "z2 = model(xs.cuda())"
   ]
  },
  {
   "cell_type": "code",
   "execution_count": 65,
   "id": "27ee82bd-54c7-4a61-9bda-e45b071df294",
   "metadata": {},
   "outputs": [
    {
     "data": {
      "text/plain": [
       "(tensor(0, device='cuda:0'), 71680)"
      ]
     },
     "execution_count": 65,
     "metadata": {},
     "output_type": "execute_result"
    }
   ],
   "source": [
    "torch.sum(z1[0] != z2[0]), torch.numel(zs[0])"
   ]
  },
  {
   "cell_type": "markdown",
   "id": "0c4fffbb-48ea-4d11-a8d9-b0dee40585cf",
   "metadata": {},
   "source": [
    "**determinism**"
   ]
  },
  {
   "cell_type": "code",
   "execution_count": 62,
   "id": "1c34ab7f-18cd-40ed-83d2-95662c54081a",
   "metadata": {},
   "outputs": [],
   "source": [
    "model.set_applyfunc(False)\n",
    "_ = model(ass.cuda())\n",
    "z1 = model(xs.cuda())\n",
    "\n",
    "_ = model(bss.cuda())\n",
    "z2 = model(xs.cuda())"
   ]
  },
  {
   "cell_type": "code",
   "execution_count": 63,
   "id": "6b7ec232-c52b-4175-ad5a-1984aa57a830",
   "metadata": {},
   "outputs": [
    {
     "data": {
      "text/plain": [
       "(tensor(0, device='cuda:0'), 71680)"
      ]
     },
     "execution_count": 63,
     "metadata": {},
     "output_type": "execute_result"
    }
   ],
   "source": [
    "torch.sum(z1[0] != z2[0]), torch.numel(zs[0])"
   ]
  },
  {
   "cell_type": "markdown",
   "id": "32c7ec76-8649-49f2-9b87-c1c7f695c25c",
   "metadata": {},
   "source": [
    "### hmmm setting to false works but back to true again doesn't..."
   ]
  },
  {
   "cell_type": "code",
   "execution_count": 124,
   "id": "6277db63-41c2-4a00-b414-e8b9209aeec5",
   "metadata": {},
   "outputs": [],
   "source": [
    "model.set_applyfunc(False)"
   ]
  },
  {
   "cell_type": "code",
   "execution_count": 125,
   "id": "6025925f-5519-4f16-b504-5fc961d44c5e",
   "metadata": {},
   "outputs": [
    {
     "name": "stdout",
     "output_type": "stream",
     "text": [
      "yes\n",
      "False\n",
      "yes\n",
      "False\n",
      "yes\n",
      "False\n",
      "yes\n",
      "False\n",
      "yes\n",
      "False\n",
      "yes\n",
      "False\n",
      "yes\n",
      "False\n",
      "yes\n",
      "False\n",
      "yes\n",
      "False\n",
      "yes\n",
      "False\n",
      "yes\n",
      "False\n",
      "yes\n",
      "False\n",
      "yes\n",
      "False\n",
      "yes\n",
      "False\n",
      "yes\n",
      "False\n",
      "yes\n",
      "False\n",
      "yes\n",
      "False\n",
      "yes\n",
      "False\n",
      "yes\n",
      "False\n",
      "yes\n",
      "False\n",
      "yes\n",
      "False\n",
      "yes\n",
      "False\n",
      "yes\n",
      "False\n",
      "yes\n",
      "False\n",
      "yes\n",
      "False\n",
      "yes\n",
      "False\n",
      "yes\n",
      "False\n",
      "yes\n",
      "False\n",
      "yes\n",
      "False\n",
      "yes\n",
      "False\n",
      "yes\n",
      "False\n",
      "yes\n",
      "False\n",
      "yes\n",
      "False\n",
      "yes\n",
      "False\n",
      "yes\n",
      "False\n",
      "yes\n",
      "False\n",
      "yes\n",
      "False\n",
      "yes\n",
      "False\n",
      "yes\n",
      "False\n",
      "yes\n",
      "False\n",
      "yes\n",
      "False\n",
      "yes\n",
      "False\n",
      "yes\n",
      "False\n",
      "yes\n",
      "False\n",
      "yes\n",
      "False\n",
      "yes\n",
      "False\n"
     ]
    }
   ],
   "source": [
    "for m in model.modules():\n",
    "    if isinstance(m, UQModel):\n",
    "        print(\"yes\")\n",
    "        print(m.get_applyfunc())\n",
    "        #print(m)\n",
    "    # else:\n",
    "    #     print(\"no\")\n",
    "    "
   ]
  }
 ],
 "metadata": {
  "kernelspec": {
   "display_name": "Python 3 (ipykernel)",
   "language": "python",
   "name": "python3"
  },
  "language_info": {
   "codemirror_mode": {
    "name": "ipython",
    "version": 3
   },
   "file_extension": ".py",
   "mimetype": "text/x-python",
   "name": "python",
   "nbconvert_exporter": "python",
   "pygments_lexer": "ipython3",
   "version": "3.9.12"
  }
 },
 "nbformat": 4,
 "nbformat_minor": 5
}
