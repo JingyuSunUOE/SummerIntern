{
 "cells": [
  {
   "cell_type": "code",
   "execution_count": 1,
   "id": "9a0f17b7-2d77-4cff-b5a1-9e65edeb869e",
   "metadata": {},
   "outputs": [
    {
     "name": "stdout",
     "output_type": "stream",
     "text": [
      "strawberry\n"
     ]
    }
   ],
   "source": [
    "print(\"strawberry\")"
   ]
  },
  {
   "cell_type": "code",
   "execution_count": 2,
   "id": "c30a30ac-ab1c-47fd-b725-1e8719756516",
   "metadata": {},
   "outputs": [],
   "source": [
    "import torch\n",
    "import numpy as np\n",
    "\n",
    "# dataset\n",
    "from twaidata.torchdatasets.in_ram_ds import MRISegmentation2DDataset, MRISegmentation3DDataset\n",
    "from torch.utils.data import DataLoader, random_split, ConcatDataset\n",
    "\n",
    "# model\n",
    "from trustworthai.models.uq_models.drop_UNet import UNet\n",
    "from trustworthai.models.uq_models.HyperMapp3r import HyperMapp3r\n",
    "from trustworthai.models.base_models.torchUNet import UNet as StandardUNet\n",
    "\n",
    "# augmentation and pretrain processing\n",
    "from trustworthai.utils.augmentation.standard_transforms import RandomFlip, GaussianBlur, GaussianNoise, \\\n",
    "                                                            RandomResizeCrop, RandomAffine, \\\n",
    "                                                            NormalizeImg, PairedCompose, LabelSelect, \\\n",
    "                                                            PairedCentreCrop, CropZDim\n",
    "# loss function\n",
    "from trustworthai.utils.losses_and_metrics.tversky_loss import TverskyLoss\n",
    "from trustworthai.utils.losses_and_metrics.misc_metrics import IOU\n",
    "from trustworthai.utils.losses_and_metrics.dice import dice, DiceMetric\n",
    "from trustworthai.utils.losses_and_metrics.dice_losses import DiceLoss, GeneralizedDiceLoss\n",
    "from trustworthai.utils.losses_and_metrics.power_jaccard_loss import PowerJaccardLoss\n",
    "from torch.nn import BCELoss, MSELoss, BCEWithLogitsLoss\n",
    "\n",
    "# fitter\n",
    "from trustworthai.utils.fitting_and_inference.fitters.basic_lightning_fitter import StandardLitModelWrapper\n",
    "from pytorch_lightning.callbacks.early_stopping import EarlyStopping\n",
    "from pytorch_lightning.callbacks.model_checkpoint import ModelCheckpoint\n",
    "import pytorch_lightning as pl\n",
    "\n",
    "# misc\n",
    "import os\n",
    "import torch\n",
    "import matplotlib.pyplot as plt\n",
    "import torch\n",
    "from torchinfo import summary"
   ]
  },
  {
   "cell_type": "markdown",
   "id": "fb0e3f18-0236-4cf8-8e26-e76661200c01",
   "metadata": {},
   "source": [
    "### Set the seed"
   ]
  },
  {
   "cell_type": "code",
   "execution_count": 3,
   "id": "a450935a-a087-4b81-816b-cd4397db8680",
   "metadata": {},
   "outputs": [],
   "source": [
    "seed = 3407\n",
    "torch.manual_seed(seed)\n",
    "torch.cuda.manual_seed_all(seed)"
   ]
  },
  {
   "cell_type": "markdown",
   "id": "7cfd568d-9fc6-4868-9d4a-617163ae6e9e",
   "metadata": {},
   "source": [
    "### define datasets and dataloaders"
   ]
  },
  {
   "cell_type": "code",
   "execution_count": 4,
   "id": "401f9272-0a3b-4670-8880-82f04714d436",
   "metadata": {},
   "outputs": [],
   "source": [
    "is3D = False"
   ]
  },
  {
   "cell_type": "code",
   "execution_count": 5,
   "id": "91099153-5471-4603-8d5e-f8079445aea1",
   "metadata": {},
   "outputs": [],
   "source": [
    "root_dir = \"/disk/scratch/s2208943/ipdis/preprep/out_data/collated/\"\n",
    "wmh_dir = root_dir + \"WMH_challenge_dataset/\"\n",
    "ed_dir = root_dir + \"EdData/\""
   ]
  },
  {
   "cell_type": "code",
   "execution_count": 6,
   "id": "74c6f9d9-dd1d-411f-a85b-26a3d82cc48a",
   "metadata": {},
   "outputs": [],
   "source": [
    "# domains = [\n",
    "#             wmh_dir + d for d in [\"Singapore\", \"Utrecht\", \"GE3T\"]\n",
    "#           ]\n",
    "\n",
    "# domains = [\n",
    "#             wmh_dir + d for d in [\"Singapore\", \"Utrecht\", \"GE3T\"]\n",
    "#           ] + [\n",
    "#             ed_dir + d for d in [\"domainA\", \"domainB\", \"domainC\", \"domainD\"]\n",
    "#           ]\n",
    "\n",
    "\n",
    "domains = [\n",
    "            ed_dir + d for d in [\"domainA\", \"domainB\", \"domainC\", \"domainD\"]\n",
    "          ]"
   ]
  },
  {
   "cell_type": "code",
   "execution_count": 7,
   "id": "d6c807e6-40f1-48bc-aed7-d395b569b138",
   "metadata": {},
   "outputs": [],
   "source": [
    "# augmentation definintion\n",
    "def get_transforms(is_3D):\n",
    "    transforms = [\n",
    "        LabelSelect(label_id=1),\n",
    "        RandomFlip(p=0.5, orientation=\"horizontal\"),\n",
    "        # GaussianBlur(p=0.5, kernel_size=7, sigma=(.1, 1.5)),\n",
    "        # GaussianNoise(p=0.2, mean=0, sigma=0.2),\n",
    "        # RandomAffine(p=0.2, shear=(.1,3.)),\n",
    "        # RandomAffine(p=0.2, degrees=5),\n",
    "        # RandomResizeCrop(p=1., scale=(0.6, 1.), ratio=(3./4., 4./3.))\n",
    "    ]\n",
    "    if not is_3D:\n",
    "        return PairedCompose(transforms)\n",
    "    else:\n",
    "        transforms.append(CropZDim(size=32, minimum=0, maximum=-1))\n",
    "        return PairedCompose(transforms)"
   ]
  },
  {
   "cell_type": "code",
   "execution_count": 8,
   "id": "e417fb72-4419-456d-b5ce-e14f0591651a",
   "metadata": {},
   "outputs": [],
   "source": [
    "# function to do train validate test split\n",
    "test_proportion = 0.1\n",
    "validation_proportion = 0.2\n",
    "\n",
    "def train_val_test_split(dataset, val_prop, test_prop, seed):\n",
    "    # I think the sklearn version might be prefereable for determinism and things\n",
    "    # but that involves fiddling with the dataset implementation I think....\n",
    "    size = len(dataset)\n",
    "    test_size = int(test_prop*size) \n",
    "    val_size = int(val_prop*size)\n",
    "    train_size = size - val_size - test_size\n",
    "    train, val, test = random_split(dataset, [train_size, val_size, test_size], generator=torch.Generator().manual_seed(seed))\n",
    "    return train, val, test"
   ]
  },
  {
   "cell_type": "code",
   "execution_count": 9,
   "id": "567c247d-2265-4012-bc80-a92b4f2adec3",
   "metadata": {},
   "outputs": [],
   "source": [
    "# load datasets\n",
    "# this step is quite slow, all the data is being loaded into memory\n",
    "if is3D:\n",
    "    datasets_domains = [MRISegmentation3DDataset(root_dir, domain, transforms=get_transforms(is_3D=True)) for domain in domains]\n",
    "else:\n",
    "    datasets_domains = [MRISegmentation2DDataset(root_dir, domain, transforms=get_transforms(is_3D=False)) for domain in domains]\n",
    "\n",
    "# split into train, val test datasets\n",
    "datasets = [train_val_test_split(dataset, validation_proportion, test_proportion, seed) for dataset in datasets_domains]\n",
    "\n",
    "# concat the train val test datsets\n",
    "train_dataset = ConcatDataset([ds[0] for ds in datasets])\n",
    "val_dataset = ConcatDataset([ds[1] for ds in datasets])\n",
    "test_dataset = ConcatDataset([ds[2] for ds in datasets])"
   ]
  },
  {
   "cell_type": "code",
   "execution_count": 10,
   "id": "52f5844a-5c39-47ff-897e-ad36de855931",
   "metadata": {},
   "outputs": [
    {
     "data": {
      "text/plain": [
       "(8743, 2497, 1248)"
      ]
     },
     "execution_count": 10,
     "metadata": {},
     "output_type": "execute_result"
    }
   ],
   "source": [
    "len(train_dataset), len(val_dataset), len(test_dataset)"
   ]
  },
  {
   "cell_type": "code",
   "execution_count": 11,
   "id": "abfe0f1c-3c76-4069-b698-d7dd2a9c67f2",
   "metadata": {
    "tags": []
   },
   "outputs": [],
   "source": [
    "# define dataloaders\n",
    "train_dataloader = DataLoader(train_dataset, batch_size=64, shuffle=True, num_workers=4)\n",
    "test_dataloader = DataLoader(test_dataset, batch_size = 16, shuffle=False, num_workers=4)\n",
    "val_dataloader = DataLoader(val_dataset, batch_size=32, shuffle=False, num_workers=4)"
   ]
  },
  {
   "cell_type": "markdown",
   "id": "71898c27-608d-4ad3-9375-7710bfeb23a5",
   "metadata": {},
   "source": [
    "### setup model"
   ]
  },
  {
   "cell_type": "code",
   "execution_count": 61,
   "id": "5cf9f593-6e8a-4c26-b9de-0ae024870248",
   "metadata": {},
   "outputs": [],
   "source": [
    "in_channels = 3\n",
    "out_channels = 1\n",
    "\n",
    "if is3D:\n",
    "    model = UNet3D(in_channels,\n",
    "                 out_channels,\n",
    "                 init_features=32,\n",
    "                 kernel_size=3,\n",
    "                 softmax=False,\n",
    "                 dropout_type=None,\n",
    "                 dropout_p=None,\n",
    "                 gaussout_mean=None, \n",
    "                 dropconnect_type=None,\n",
    "                 dropconnect_p=None,\n",
    "                 gaussconnect_mean=None,\n",
    "                 norm_type=\"bn\", \n",
    "                 use_multidim_dropout = None,  \n",
    "                 use_multidim_dropconnect = None, \n",
    "                 groups=None,\n",
    "                 gn_groups=None, \n",
    "                )\n",
    "    optimizer_params={\"lr\":2e-3}\n",
    "    lr_scheduler_params={\"step_size\":100, \"gamma\":0.5}\n",
    "else:\n",
    "    # model = UNet(in_channels,\n",
    "    #              out_channels,\n",
    "    #              kernel_size=3,\n",
    "    #              init_features=32,\n",
    "    #              softmax=False,\n",
    "    #              dropout_type=\"bernoulli\",\n",
    "    #              dropout_p=0.1,\n",
    "    #              gaussout_mean=None, \n",
    "    #              dropconnect_type=\"gaussian\",\n",
    "    #              dropconnect_p=0.1,\n",
    "    #              gaussconnect_mean=1,\n",
    "    #              norm_type=\"bn\", \n",
    "    #              use_multidim_dropout = True,  \n",
    "    #              use_multidim_dropconnect = True, \n",
    "    #              groups=None,\n",
    "    #              gn_groups=None, \n",
    "    #             )\n",
    "    # optimizer_params={\"lr\":1e-3}\n",
    "    # lr_scheduler_params={\"step_size\":30, \"gamma\":0.1}\n",
    "    encoder_features=[16, 32, 64, 128, 256] # orig: [16, 32, 64, 128, 256]\n",
    "    decoder_features=encoder_features[::-1][1:]\n",
    "    model = HyperMapp3r(dims=2, in_channels=in_channels, out_channels=1, softmax=False,\n",
    "                       encoder_features=encoder_features,\n",
    "                 decoder_features=decoder_features)\n",
    "    optimizer_params={\"lr\":1e-3}\n",
    "    lr_scheduler_params={\"step_size\":5, \"gamma\":0.1}\n"
   ]
  },
  {
   "cell_type": "code",
   "execution_count": 62,
   "id": "cc830c99-d2a5-4dfa-8208-2f45661255e6",
   "metadata": {},
   "outputs": [
    {
     "name": "stdout",
     "output_type": "stream",
     "text": [
      "WARNING: FOR SOME REASON PARAMETERS INSIDE DROPCONNECT BLOCKS ARE NOT REGISTERING THEIR NUMBER OF PARAMS CORRECTLY\n"
     ]
    }
   ],
   "source": [
    "print(\"WARNING: FOR SOME REASON PARAMETERS INSIDE DROPCONNECT BLOCKS ARE NOT REGISTERING THEIR NUMBER OF PARAMS CORRECTLY\")"
   ]
  },
  {
   "cell_type": "code",
   "execution_count": 63,
   "id": "d24859dc-d219-4d6f-8a17-7c9b8cb79211",
   "metadata": {},
   "outputs": [
    {
     "data": {
      "text/plain": [
       "==========================================================================================\n",
       "Layer (type:depth-idx)                   Output Shape              Param #\n",
       "==========================================================================================\n",
       "HyperMapp3r                              --                        --\n",
       "├─ModuleList: 1-1                        --                        --\n",
       "├─ModuleList: 1-2                        --                        --\n",
       "├─ModuleList: 1-3                        --                        --\n",
       "├─ModuleList: 1-4                        --                        --\n",
       "├─ModuleList: 1-5                        --                        --\n",
       "├─ModuleList: 1-2                        --                        --\n",
       "│    └─Conv2d: 2-1                       [1, 16, 64, 64]           448\n",
       "├─ModuleList: 1-1                        --                        --\n",
       "│    └─HM3Block: 2-2                     [1, 16, 64, 64]           --\n",
       "│    │    └─InstanceNorm2d: 3-1          [1, 16, 64, 64]           --\n",
       "│    │    └─LeakyReLU: 3-2               [1, 16, 64, 64]           --\n",
       "│    │    └─Conv2d: 3-3                  [1, 16, 64, 64]           2,304\n",
       "│    │    └─UQDropout2d: 3-4             [1, 16, 64, 64]           --\n",
       "│    │    └─InstanceNorm2d: 3-5          [1, 16, 64, 64]           --\n",
       "│    │    └─LeakyReLU: 3-6               [1, 16, 64, 64]           --\n",
       "│    │    └─Conv2d: 3-7                  [1, 16, 64, 64]           2,304\n",
       "├─ModuleList: 1-2                        --                        --\n",
       "│    └─Conv2d: 2-3                       [1, 32, 32, 32]           4,640\n",
       "├─ModuleList: 1-1                        --                        --\n",
       "│    └─HM3Block: 2-4                     [1, 32, 32, 32]           --\n",
       "│    │    └─InstanceNorm2d: 3-8          [1, 32, 32, 32]           --\n",
       "│    │    └─LeakyReLU: 3-9               [1, 32, 32, 32]           --\n",
       "│    │    └─Conv2d: 3-10                 [1, 32, 32, 32]           9,216\n",
       "│    │    └─UQDropout2d: 3-11            [1, 32, 32, 32]           --\n",
       "│    │    └─InstanceNorm2d: 3-12         [1, 32, 32, 32]           --\n",
       "│    │    └─LeakyReLU: 3-13              [1, 32, 32, 32]           --\n",
       "│    │    └─Conv2d: 3-14                 [1, 32, 32, 32]           9,216\n",
       "├─ModuleList: 1-2                        --                        --\n",
       "│    └─Conv2d: 2-5                       [1, 64, 16, 16]           18,496\n",
       "├─ModuleList: 1-1                        --                        --\n",
       "│    └─HM3Block: 2-6                     [1, 64, 16, 16]           --\n",
       "│    │    └─InstanceNorm2d: 3-15         [1, 64, 16, 16]           --\n",
       "│    │    └─LeakyReLU: 3-16              [1, 64, 16, 16]           --\n",
       "│    │    └─Conv2d: 3-17                 [1, 64, 16, 16]           36,864\n",
       "│    │    └─UQDropout2d: 3-18            [1, 64, 16, 16]           --\n",
       "│    │    └─InstanceNorm2d: 3-19         [1, 64, 16, 16]           --\n",
       "│    │    └─LeakyReLU: 3-20              [1, 64, 16, 16]           --\n",
       "│    │    └─Conv2d: 3-21                 [1, 64, 16, 16]           36,864\n",
       "├─ModuleList: 1-2                        --                        --\n",
       "│    └─Conv2d: 2-7                       [1, 128, 8, 8]            73,856\n",
       "├─ModuleList: 1-1                        --                        --\n",
       "│    └─HM3Block: 2-8                     [1, 128, 8, 8]            --\n",
       "│    │    └─InstanceNorm2d: 3-22         [1, 128, 8, 8]            --\n",
       "│    │    └─LeakyReLU: 3-23              [1, 128, 8, 8]            --\n",
       "│    │    └─Conv2d: 3-24                 [1, 128, 8, 8]            147,456\n",
       "│    │    └─UQDropout2d: 3-25            [1, 128, 8, 8]            --\n",
       "│    │    └─InstanceNorm2d: 3-26         [1, 128, 8, 8]            --\n",
       "│    │    └─LeakyReLU: 3-27              [1, 128, 8, 8]            --\n",
       "│    │    └─Conv2d: 3-28                 [1, 128, 8, 8]            147,456\n",
       "├─ModuleList: 1-2                        --                        --\n",
       "│    └─Conv2d: 2-9                       [1, 256, 4, 4]            295,168\n",
       "├─ModuleList: 1-1                        --                        --\n",
       "│    └─HM3Block: 2-10                    [1, 256, 4, 4]            --\n",
       "│    │    └─InstanceNorm2d: 3-29         [1, 256, 4, 4]            --\n",
       "│    │    └─LeakyReLU: 3-30              [1, 256, 4, 4]            --\n",
       "│    │    └─Conv2d: 3-31                 [1, 256, 4, 4]            589,824\n",
       "│    │    └─UQDropout2d: 3-32            [1, 256, 4, 4]            --\n",
       "│    │    └─InstanceNorm2d: 3-33         [1, 256, 4, 4]            --\n",
       "│    │    └─LeakyReLU: 3-34              [1, 256, 4, 4]            --\n",
       "│    │    └─Conv2d: 3-35                 [1, 256, 4, 4]            589,824\n",
       "├─ModuleList: 1-4                        --                        --\n",
       "│    └─HMUpsampleBlock: 2-11             [1, 128, 8, 8]            --\n",
       "│    │    └─InstanceNorm2d: 3-36         [1, 256, 4, 4]            --\n",
       "│    │    └─LeakyReLU: 3-37              [1, 256, 4, 4]            --\n",
       "│    │    └─ConvTranspose2d: 3-38        [1, 128, 8, 8]            295,040\n",
       "│    │    └─InstanceNorm2d: 3-39         [1, 128, 8, 8]            --\n",
       "│    │    └─LeakyReLU: 3-40              [1, 128, 8, 8]            --\n",
       "├─ModuleList: 1-3                        --                        --\n",
       "│    └─HMFeatureBlock: 2-12              [1, 128, 8, 8]            --\n",
       "│    │    └─Conv2d: 3-41                 [1, 128, 8, 8]            295,040\n",
       "│    │    └─InstanceNorm2d: 3-42         [1, 128, 8, 8]            --\n",
       "│    │    └─LeakyReLU: 3-43              [1, 128, 8, 8]            --\n",
       "│    │    └─Conv2d: 3-44                 [1, 128, 8, 8]            16,512\n",
       "├─ModuleList: 1-4                        --                        --\n",
       "│    └─HMUpsampleBlock: 2-13             [1, 64, 16, 16]           --\n",
       "│    │    └─InstanceNorm2d: 3-45         [1, 128, 8, 8]            --\n",
       "│    │    └─LeakyReLU: 3-46              [1, 128, 8, 8]            --\n",
       "│    │    └─ConvTranspose2d: 3-47        [1, 64, 16, 16]           73,792\n",
       "│    │    └─InstanceNorm2d: 3-48         [1, 64, 16, 16]           --\n",
       "│    │    └─LeakyReLU: 3-49              [1, 64, 16, 16]           --\n",
       "├─ModuleList: 1-3                        --                        --\n",
       "│    └─HMFeatureBlock: 2-14              [1, 64, 16, 16]           --\n",
       "│    │    └─Conv2d: 3-50                 [1, 64, 16, 16]           73,792\n",
       "│    │    └─InstanceNorm2d: 3-51         [1, 64, 16, 16]           --\n",
       "│    │    └─LeakyReLU: 3-52              [1, 64, 16, 16]           --\n",
       "│    │    └─Conv2d: 3-53                 [1, 64, 16, 16]           4,160\n",
       "├─ModuleList: 1-4                        --                        --\n",
       "│    └─HMUpsampleBlock: 2-15             [1, 32, 32, 32]           --\n",
       "│    │    └─InstanceNorm2d: 3-54         [1, 64, 16, 16]           --\n",
       "│    │    └─LeakyReLU: 3-55              [1, 64, 16, 16]           --\n",
       "│    │    └─ConvTranspose2d: 3-56        [1, 32, 32, 32]           18,464\n",
       "│    │    └─InstanceNorm2d: 3-57         [1, 32, 32, 32]           --\n",
       "│    │    └─LeakyReLU: 3-58              [1, 32, 32, 32]           --\n",
       "├─ModuleList: 1-3                        --                        --\n",
       "│    └─HMFeatureBlock: 2-16              [1, 32, 32, 32]           --\n",
       "│    │    └─Conv2d: 3-59                 [1, 32, 32, 32]           18,464\n",
       "│    │    └─InstanceNorm2d: 3-60         [1, 32, 32, 32]           --\n",
       "│    │    └─LeakyReLU: 3-61              [1, 32, 32, 32]           --\n",
       "│    │    └─Conv2d: 3-62                 [1, 32, 32, 32]           1,056\n",
       "├─ModuleList: 1-4                        --                        --\n",
       "│    └─HMUpsampleBlock: 2-17             [1, 16, 64, 64]           --\n",
       "│    │    └─InstanceNorm2d: 3-63         [1, 32, 32, 32]           --\n",
       "│    │    └─LeakyReLU: 3-64              [1, 32, 32, 32]           --\n",
       "│    │    └─ConvTranspose2d: 3-65        [1, 16, 64, 64]           4,624\n",
       "│    │    └─InstanceNorm2d: 3-66         [1, 16, 64, 64]           --\n",
       "│    │    └─LeakyReLU: 3-67              [1, 16, 64, 64]           --\n",
       "├─Conv2d: 1-6                            [1, 32, 64, 64]           9,248\n",
       "├─LeakyReLU: 1-7                         [1, 32, 64, 64]           --\n",
       "├─Conv2d: 1-8                            [1, 1, 64, 64]            33\n",
       "├─ModuleList: 1-5                        --                        --\n",
       "│    └─Conv2d: 2-18                      [1, 1, 16, 16]            65\n",
       "│    └─Conv2d: 2-19                      [1, 1, 32, 32]            33\n",
       "==========================================================================================\n",
       "Total params: 2,774,259\n",
       "Trainable params: 2,774,259\n",
       "Non-trainable params: 0\n",
       "Total mult-adds (M): 288.71\n",
       "==========================================================================================\n",
       "Input size (MB): 0.20\n",
       "Forward/backward pass size (MB): 6.04\n",
       "Params size (MB): 11.10\n",
       "Estimated Total Size (MB): 17.33\n",
       "=========================================================================================="
      ]
     },
     "execution_count": 63,
     "metadata": {},
     "output_type": "execute_result"
    }
   ],
   "source": [
    "summary(model, (1, 3, 128, 128))"
   ]
  },
  {
   "cell_type": "code",
   "execution_count": 64,
   "id": "5d139f55-4aa6-4a99-94e6-212d88d6e69d",
   "metadata": {},
   "outputs": [],
   "source": [
    "loss = GeneralizedDiceLoss(normalization='sigmoid')"
   ]
  },
  {
   "cell_type": "code",
   "execution_count": 65,
   "id": "e60ae5da-3073-4c42-86b1-753fc874b272",
   "metadata": {},
   "outputs": [],
   "source": [
    "model = StandardLitModelWrapper(model, loss, \n",
    "                                optimizer_params=optimizer_params,\n",
    "                                lr_scheduler_params=lr_scheduler_params,\n",
    "                                is_uq_model=True\n",
    "                               )"
   ]
  },
  {
   "cell_type": "code",
   "execution_count": 66,
   "id": "669b2864-efcf-4e7b-bbd8-ea20000f128c",
   "metadata": {},
   "outputs": [
    {
     "name": "stderr",
     "output_type": "stream",
     "text": [
      "Using 16bit native Automatic Mixed Precision (AMP)\n",
      "GPU available: True, used: True\n",
      "TPU available: False, using: 0 TPU cores\n",
      "IPU available: False, using: 0 IPUs\n",
      "HPU available: False, using: 0 HPUs\n"
     ]
    }
   ],
   "source": [
    "checkpoint_dir = \"/disk/scratch/s2208943/results/\"\n",
    "strategy = None\n",
    "# strategy = \"deepspeed_stage_2\"\n",
    "# strategy = \"dp\"\n",
    "#strategy = \"deepspeed_stage_2_offload\"\n",
    "\n",
    "accelerator=\"gpu\"\n",
    "devices=1\n",
    "max_epochs=1000\n",
    "precision = 16\n",
    "\n",
    "checkpoint_callback = ModelCheckpoint(checkpoint_dir, save_top_k=2, monitor=\"val_loss\")\n",
    "early_stop_callback = EarlyStopping(monitor=\"val_loss\", min_delta=0.00, patience=100, verbose=\"False\", mode=\"min\", check_finite=True)\n",
    "trainer = pl.Trainer(\n",
    "    callbacks=[checkpoint_callback, early_stop_callback],\n",
    "    accelerator=accelerator,\n",
    "    devices=devices,\n",
    "    max_epochs=max_epochs,\n",
    "    strategy=strategy,\n",
    "    precision=precision,\n",
    "    default_root_dir=checkpoint_dir\n",
    ")\n"
   ]
  },
  {
   "cell_type": "markdown",
   "id": "c1de0353-be84-4764-b89e-8326d6d2b021",
   "metadata": {},
   "source": [
    "### train"
   ]
  },
  {
   "cell_type": "code",
   "execution_count": 67,
   "id": "22b84231-df5d-4cb4-ae82-2dc586ebb311",
   "metadata": {},
   "outputs": [
    {
     "name": "stderr",
     "output_type": "stream",
     "text": [
      "/home/s2208943/miniconda3/envs/ip/lib/python3.9/site-packages/pytorch_lightning/callbacks/model_checkpoint.py:611: UserWarning: Checkpoint directory /disk/scratch/s2208943/results exists and is not empty.\n",
      "  rank_zero_warn(f\"Checkpoint directory {dirpath} exists and is not empty.\")\n",
      "LOCAL_RANK: 0 - CUDA_VISIBLE_DEVICES: [0]\n",
      "\n",
      "  | Name            | Type                | Params\n",
      "--------------------------------------------------------\n",
      "0 | model           | HyperMapp3r         | 2.8 M \n",
      "1 | loss            | GeneralizedDiceLoss | 0     \n",
      "2 | logging_metrics | ModuleList          | 0     \n",
      "--------------------------------------------------------\n",
      "2.8 M     Trainable params\n",
      "0         Non-trainable params\n",
      "2.8 M     Total params\n",
      "5.549     Total estimated model params size (MB)\n"
     ]
    },
    {
     "data": {
      "application/vnd.jupyter.widget-view+json": {
       "model_id": "",
       "version_major": 2,
       "version_minor": 0
      },
      "text/plain": [
       "Sanity Checking: 0it [00:00, ?it/s]"
      ]
     },
     "metadata": {},
     "output_type": "display_data"
    },
    {
     "data": {
      "application/vnd.jupyter.widget-view+json": {
       "model_id": "dfcdf7f2224a4193bc68c29334e9e393",
       "version_major": 2,
       "version_minor": 0
      },
      "text/plain": [
       "Training: 0it [00:00, ?it/s]"
      ]
     },
     "metadata": {},
     "output_type": "display_data"
    },
    {
     "data": {
      "application/vnd.jupyter.widget-view+json": {
       "model_id": "",
       "version_major": 2,
       "version_minor": 0
      },
      "text/plain": [
       "Validation: 0it [00:00, ?it/s]"
      ]
     },
     "metadata": {},
     "output_type": "display_data"
    },
    {
     "name": "stderr",
     "output_type": "stream",
     "text": [
      "Metric val_loss improved. New best score: 0.353\n"
     ]
    },
    {
     "data": {
      "application/vnd.jupyter.widget-view+json": {
       "model_id": "",
       "version_major": 2,
       "version_minor": 0
      },
      "text/plain": [
       "Validation: 0it [00:00, ?it/s]"
      ]
     },
     "metadata": {},
     "output_type": "display_data"
    },
    {
     "name": "stderr",
     "output_type": "stream",
     "text": [
      "Metric val_loss improved by 0.032 >= min_delta = 0.0. New best score: 0.321\n"
     ]
    },
    {
     "data": {
      "application/vnd.jupyter.widget-view+json": {
       "model_id": "",
       "version_major": 2,
       "version_minor": 0
      },
      "text/plain": [
       "Validation: 0it [00:00, ?it/s]"
      ]
     },
     "metadata": {},
     "output_type": "display_data"
    },
    {
     "name": "stderr",
     "output_type": "stream",
     "text": [
      "Metric val_loss improved by 0.026 >= min_delta = 0.0. New best score: 0.295\n"
     ]
    },
    {
     "data": {
      "application/vnd.jupyter.widget-view+json": {
       "model_id": "",
       "version_major": 2,
       "version_minor": 0
      },
      "text/plain": [
       "Validation: 0it [00:00, ?it/s]"
      ]
     },
     "metadata": {},
     "output_type": "display_data"
    },
    {
     "name": "stderr",
     "output_type": "stream",
     "text": [
      "Metric val_loss improved by 0.023 >= min_delta = 0.0. New best score: 0.272\n"
     ]
    },
    {
     "data": {
      "application/vnd.jupyter.widget-view+json": {
       "model_id": "",
       "version_major": 2,
       "version_minor": 0
      },
      "text/plain": [
       "Validation: 0it [00:00, ?it/s]"
      ]
     },
     "metadata": {},
     "output_type": "display_data"
    },
    {
     "data": {
      "application/vnd.jupyter.widget-view+json": {
       "model_id": "",
       "version_major": 2,
       "version_minor": 0
      },
      "text/plain": [
       "Validation: 0it [00:00, ?it/s]"
      ]
     },
     "metadata": {},
     "output_type": "display_data"
    },
    {
     "name": "stderr",
     "output_type": "stream",
     "text": [
      "Metric val_loss improved by 0.016 >= min_delta = 0.0. New best score: 0.256\n"
     ]
    },
    {
     "data": {
      "application/vnd.jupyter.widget-view+json": {
       "model_id": "",
       "version_major": 2,
       "version_minor": 0
      },
      "text/plain": [
       "Validation: 0it [00:00, ?it/s]"
      ]
     },
     "metadata": {},
     "output_type": "display_data"
    },
    {
     "name": "stderr",
     "output_type": "stream",
     "text": [
      "Metric val_loss improved by 0.002 >= min_delta = 0.0. New best score: 0.254\n"
     ]
    },
    {
     "data": {
      "application/vnd.jupyter.widget-view+json": {
       "model_id": "",
       "version_major": 2,
       "version_minor": 0
      },
      "text/plain": [
       "Validation: 0it [00:00, ?it/s]"
      ]
     },
     "metadata": {},
     "output_type": "display_data"
    },
    {
     "name": "stderr",
     "output_type": "stream",
     "text": [
      "Metric val_loss improved by 0.002 >= min_delta = 0.0. New best score: 0.252\n"
     ]
    },
    {
     "data": {
      "application/vnd.jupyter.widget-view+json": {
       "model_id": "",
       "version_major": 2,
       "version_minor": 0
      },
      "text/plain": [
       "Validation: 0it [00:00, ?it/s]"
      ]
     },
     "metadata": {},
     "output_type": "display_data"
    },
    {
     "name": "stderr",
     "output_type": "stream",
     "text": [
      "Metric val_loss improved by 0.000 >= min_delta = 0.0. New best score: 0.251\n"
     ]
    },
    {
     "data": {
      "application/vnd.jupyter.widget-view+json": {
       "model_id": "",
       "version_major": 2,
       "version_minor": 0
      },
      "text/plain": [
       "Validation: 0it [00:00, ?it/s]"
      ]
     },
     "metadata": {},
     "output_type": "display_data"
    },
    {
     "name": "stderr",
     "output_type": "stream",
     "text": [
      "Metric val_loss improved by 0.000 >= min_delta = 0.0. New best score: 0.251\n"
     ]
    },
    {
     "data": {
      "application/vnd.jupyter.widget-view+json": {
       "model_id": "",
       "version_major": 2,
       "version_minor": 0
      },
      "text/plain": [
       "Validation: 0it [00:00, ?it/s]"
      ]
     },
     "metadata": {},
     "output_type": "display_data"
    },
    {
     "name": "stderr",
     "output_type": "stream",
     "text": [
      "Metric val_loss improved by 0.002 >= min_delta = 0.0. New best score: 0.249\n"
     ]
    },
    {
     "data": {
      "application/vnd.jupyter.widget-view+json": {
       "model_id": "",
       "version_major": 2,
       "version_minor": 0
      },
      "text/plain": [
       "Validation: 0it [00:00, ?it/s]"
      ]
     },
     "metadata": {},
     "output_type": "display_data"
    },
    {
     "data": {
      "application/vnd.jupyter.widget-view+json": {
       "model_id": "",
       "version_major": 2,
       "version_minor": 0
      },
      "text/plain": [
       "Validation: 0it [00:00, ?it/s]"
      ]
     },
     "metadata": {},
     "output_type": "display_data"
    },
    {
     "data": {
      "application/vnd.jupyter.widget-view+json": {
       "model_id": "",
       "version_major": 2,
       "version_minor": 0
      },
      "text/plain": [
       "Validation: 0it [00:00, ?it/s]"
      ]
     },
     "metadata": {},
     "output_type": "display_data"
    },
    {
     "data": {
      "application/vnd.jupyter.widget-view+json": {
       "model_id": "",
       "version_major": 2,
       "version_minor": 0
      },
      "text/plain": [
       "Validation: 0it [00:00, ?it/s]"
      ]
     },
     "metadata": {},
     "output_type": "display_data"
    },
    {
     "data": {
      "application/vnd.jupyter.widget-view+json": {
       "model_id": "",
       "version_major": 2,
       "version_minor": 0
      },
      "text/plain": [
       "Validation: 0it [00:00, ?it/s]"
      ]
     },
     "metadata": {},
     "output_type": "display_data"
    },
    {
     "name": "stderr",
     "output_type": "stream",
     "text": [
      "Metric val_loss improved by 0.000 >= min_delta = 0.0. New best score: 0.249\n"
     ]
    },
    {
     "data": {
      "application/vnd.jupyter.widget-view+json": {
       "model_id": "",
       "version_major": 2,
       "version_minor": 0
      },
      "text/plain": [
       "Validation: 0it [00:00, ?it/s]"
      ]
     },
     "metadata": {},
     "output_type": "display_data"
    },
    {
     "name": "stderr",
     "output_type": "stream",
     "text": [
      "Metric val_loss improved by 0.000 >= min_delta = 0.0. New best score: 0.249\n"
     ]
    },
    {
     "data": {
      "application/vnd.jupyter.widget-view+json": {
       "model_id": "",
       "version_major": 2,
       "version_minor": 0
      },
      "text/plain": [
       "Validation: 0it [00:00, ?it/s]"
      ]
     },
     "metadata": {},
     "output_type": "display_data"
    },
    {
     "data": {
      "application/vnd.jupyter.widget-view+json": {
       "model_id": "",
       "version_major": 2,
       "version_minor": 0
      },
      "text/plain": [
       "Validation: 0it [00:00, ?it/s]"
      ]
     },
     "metadata": {},
     "output_type": "display_data"
    }
   ],
   "source": [
    "trainer.fit(model, train_dataloader, val_dataloader)"
   ]
  },
  {
   "cell_type": "code",
   "execution_count": null,
   "id": "50feb889-67c0-4d89-818a-159ff7e3daa9",
   "metadata": {},
   "outputs": [],
   "source": [
    "trainer.validate(model, val_dataloader, ckpt_path=\"best\")"
   ]
  },
  {
   "cell_type": "code",
   "execution_count": 69,
   "id": "5b4c62ef-4e59-4026-8199-c53074d05deb",
   "metadata": {},
   "outputs": [
    {
     "name": "stderr",
     "output_type": "stream",
     "text": [
      "LOCAL_RANK: 0 - CUDA_VISIBLE_DEVICES: [0]\n"
     ]
    },
    {
     "data": {
      "application/vnd.jupyter.widget-view+json": {
       "model_id": "fccbcc82be044dcfb63c4b35a45b09bd",
       "version_major": 2,
       "version_minor": 0
      },
      "text/plain": [
       "Testing: 0it [00:00, ?it/s]"
      ]
     },
     "metadata": {},
     "output_type": "display_data"
    },
    {
     "name": "stdout",
     "output_type": "stream",
     "text": [
      "────────────────────────────────────────────────────────────────────────────────────────────────────────────────────────\n",
      "       Test metric             DataLoader 0\n",
      "────────────────────────────────────────────────────────────────────────────────────────────────────────────────────────\n",
      "        test_loss           0.2667236924171448\n",
      "────────────────────────────────────────────────────────────────────────────────────────────────────────────────────────\n"
     ]
    },
    {
     "data": {
      "text/plain": [
       "[{'test_loss': 0.2667236924171448}]"
      ]
     },
     "execution_count": 69,
     "metadata": {},
     "output_type": "execute_result"
    }
   ],
   "source": [
    "trainer.test(model, test_dataloader)"
   ]
  },
  {
   "cell_type": "code",
   "execution_count": null,
   "id": "d3093669-3ed1-4b55-b108-503c8ca9925e",
   "metadata": {},
   "outputs": [],
   "source": []
  }
 ],
 "metadata": {
  "kernelspec": {
   "display_name": "Python 3 (ipykernel)",
   "language": "python",
   "name": "python3"
  },
  "language_info": {
   "codemirror_mode": {
    "name": "ipython",
    "version": 3
   },
   "file_extension": ".py",
   "mimetype": "text/x-python",
   "name": "python",
   "nbconvert_exporter": "python",
   "pygments_lexer": "ipython3",
   "version": "3.9.12"
  }
 },
 "nbformat": 4,
 "nbformat_minor": 5
}
