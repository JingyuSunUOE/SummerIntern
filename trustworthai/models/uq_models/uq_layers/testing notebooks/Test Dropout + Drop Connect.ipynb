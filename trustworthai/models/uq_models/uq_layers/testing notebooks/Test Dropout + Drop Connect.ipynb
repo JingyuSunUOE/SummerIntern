{
 "cells": [
  {
   "cell_type": "markdown",
   "id": "6a1dcbea-202f-402f-b59d-457b5c6a9422",
   "metadata": {},
   "source": [
    "# Test Gaussian and Bernoulli DropConnect and Dropout"
   ]
  },
  {
   "cell_type": "code",
   "execution_count": 2,
   "id": "cee647ca-87fd-4776-9fff-0fc521a80233",
   "metadata": {},
   "outputs": [],
   "source": [
    "import torch"
   ]
  },
  {
   "cell_type": "code",
   "execution_count": 3,
   "id": "e72fe394-61b3-4de6-b4d4-27dc3bf4b16a",
   "metadata": {},
   "outputs": [],
   "source": [
    "import torch.nn as nn"
   ]
  },
  {
   "cell_type": "code",
   "execution_count": 4,
   "id": "38e5a5db-e3ff-4413-890f-37dc43fbd542",
   "metadata": {},
   "outputs": [],
   "source": [
    "from trustworthai.models.uq_models.uq_layers.dropoutconnect import (\n",
    "    UQDropout,\n",
    "    UQDropout2d,\n",
    "    UQDropout3d,\n",
    "    UQGaussianDropout,\n",
    "    UQGaussianDropout2d,\n",
    "    UQGaussianDropout3d,\n",
    "    UQDropConnect,\n",
    "    UQDropConnect2d,\n",
    "    UQDropConnect3d,\n",
    "    UQGaussianConnect,\n",
    "    UQGaussianConnect2d,\n",
    "    UQGaussianConnect3d,\n",
    ")"
   ]
  },
  {
   "cell_type": "markdown",
   "id": "bc860d8c-1824-46c6-a335-4705ae915003",
   "metadata": {
    "jp-MarkdownHeadingCollapsed": true,
    "tags": []
   },
   "source": [
    "### Testing 1D Dropout and Gaussian Dropout"
   ]
  },
  {
   "cell_type": "code",
   "execution_count": 67,
   "id": "81066f1d-3a37-41e7-80d7-9622a3ca29f3",
   "metadata": {},
   "outputs": [],
   "source": [
    "x = torch.ones(1,4)"
   ]
  },
  {
   "cell_type": "code",
   "execution_count": 68,
   "id": "24693251-883d-4b3e-b819-c1adedabd281",
   "metadata": {},
   "outputs": [],
   "source": [
    "layer1 = nn.Linear(4, 4, bias=False)"
   ]
  },
  {
   "cell_type": "code",
   "execution_count": 69,
   "id": "1d7ac10c-e505-43ca-9610-91172fa143f3",
   "metadata": {},
   "outputs": [],
   "source": [
    "dropout = UQDropout(p=0.5)\n",
    "gaussout = UQGaussianDropout(mean=1., p=0.1)"
   ]
  },
  {
   "cell_type": "code",
   "execution_count": 70,
   "id": "6a5389e8-d937-423f-b412-9844c6a5a7fa",
   "metadata": {},
   "outputs": [
    {
     "data": {
      "text/plain": [
       "tensor([[-0.2566, -0.3229, -0.8096,  0.7576]], grad_fn=<MmBackward0>)"
      ]
     },
     "execution_count": 70,
     "metadata": {},
     "output_type": "execute_result"
    }
   ],
   "source": [
    "layer1(x)"
   ]
  },
  {
   "cell_type": "code",
   "execution_count": 78,
   "id": "e20f3b84-4fad-4217-9db1-2062374634e9",
   "metadata": {},
   "outputs": [
    {
     "data": {
      "text/plain": [
       "tensor([[-0.5132, -0.6458, -1.6191,  0.0000]], grad_fn=<MulBackward0>)"
      ]
     },
     "execution_count": 78,
     "metadata": {},
     "output_type": "execute_result"
    }
   ],
   "source": [
    "dropout(layer1(x))"
   ]
  },
  {
   "cell_type": "code",
   "execution_count": 77,
   "id": "77887817-9b92-4465-9769-58da650b92fc",
   "metadata": {},
   "outputs": [
    {
     "data": {
      "text/plain": [
       "tensor([[-0.2753, -0.3015, -0.9046,  0.8552]], grad_fn=<MulBackward0>)"
      ]
     },
     "execution_count": 77,
     "metadata": {},
     "output_type": "execute_result"
    }
   ],
   "source": [
    "gaussout(layer1(x))"
   ]
  },
  {
   "cell_type": "markdown",
   "id": "90d210eb-ed04-499e-86b1-433b2fe0ced5",
   "metadata": {
    "jp-MarkdownHeadingCollapsed": true,
    "tags": []
   },
   "source": [
    "### Testing 1D Drop Connect"
   ]
  },
  {
   "cell_type": "code",
   "execution_count": 134,
   "id": "e2f56da1-8cfa-47dc-9d6e-4434184b0a75",
   "metadata": {
    "tags": []
   },
   "outputs": [],
   "source": [
    "import matplotlib.pyplot as plt\n",
    "import numpy as np"
   ]
  },
  {
   "cell_type": "code",
   "execution_count": 203,
   "id": "a072f56e-4e94-4d04-8ba7-5ba7dcdca20b",
   "metadata": {
    "tags": []
   },
   "outputs": [],
   "source": [
    "def plot_weight_grid(x):\n",
    "    plt.imshow(np.abs(x.numpy()), cmap=\"YlOrBr\")\n",
    "    shape = x.shape\n",
    "    plt.colorbar()\n",
    "    plt.grid(color='black', linewidth=2)\n",
    "    plt.xticks(np.arange(-0.5, shape[0]-0.5, 1))\n",
    "    plt.yticks(np.arange(-0.5,shape[1]-0.5, 1))\n",
    "    plt.show()"
   ]
  },
  {
   "cell_type": "code",
   "execution_count": 204,
   "id": "376ac4ff-3c8a-4900-a6b2-c23674e219e1",
   "metadata": {
    "tags": []
   },
   "outputs": [],
   "source": [
    "x = torch.ones(1, 4)"
   ]
  },
  {
   "cell_type": "code",
   "execution_count": 244,
   "id": "c1530d7c-fdc6-4450-b343-fc7bb9b68f3d",
   "metadata": {
    "tags": []
   },
   "outputs": [],
   "source": [
    "layer1 = nn.Linear(4, 4, bias=False)\n",
    "layer2 = nn.Linear(4, 4, bias=False)\n",
    "layer2.weight.data.copy_(layer1.weight.data);"
   ]
  },
  {
   "cell_type": "code",
   "execution_count": 245,
   "id": "f492d6d5-7c70-4fa9-8436-8606694d9072",
   "metadata": {
    "tags": []
   },
   "outputs": [
    {
     "data": {
      "text/plain": [
       "Parameter containing:\n",
       "tensor([[ 0.1612,  0.4447, -0.4151,  0.2806],\n",
       "        [ 0.2476,  0.1494, -0.0734, -0.2964],\n",
       "        [ 0.2406, -0.0060, -0.2262,  0.3815],\n",
       "        [-0.3314, -0.1039, -0.0812, -0.1410]], requires_grad=True)"
      ]
     },
     "execution_count": 245,
     "metadata": {},
     "output_type": "execute_result"
    }
   ],
   "source": [
    "layer2.weight"
   ]
  },
  {
   "cell_type": "code",
   "execution_count": 246,
   "id": "d82f3631-2ca5-4508-bdef-307d944b4a7f",
   "metadata": {
    "tags": []
   },
   "outputs": [
    {
     "data": {
      "text/plain": [
       "tensor([[ 0.4714,  0.0272,  0.3899, -0.6575]], grad_fn=<MmBackward0>)"
      ]
     },
     "execution_count": 246,
     "metadata": {},
     "output_type": "execute_result"
    }
   ],
   "source": [
    "layer1(x)"
   ]
  },
  {
   "cell_type": "code",
   "execution_count": 247,
   "id": "2722303c-b7c0-45cf-a746-f28c2722da03",
   "metadata": {
    "tags": []
   },
   "outputs": [],
   "source": [
    "dropconn = UQDropConnect(layer1, None, 0.5)\n",
    "#gaussdropconn = UQGaussianConnect(layer1, None, 1, 0.5)"
   ]
  },
  {
   "cell_type": "code",
   "execution_count": 248,
   "id": "22af76c1-f2ef-4883-ae64-2da6ad4247f8",
   "metadata": {
    "tags": []
   },
   "outputs": [
    {
     "data": {
      "text/plain": [
       "tensor([[ 0.4714,  0.0272,  0.3899, -0.6575]], grad_fn=<MmBackward0>)"
      ]
     },
     "execution_count": 248,
     "metadata": {},
     "output_type": "execute_result"
    }
   ],
   "source": [
    "layer2(x)"
   ]
  },
  {
   "cell_type": "code",
   "execution_count": 249,
   "id": "ebc846bb-5b29-4dfc-8bbe-7438fa35fae6",
   "metadata": {
    "tags": []
   },
   "outputs": [
    {
     "data": {
      "text/plain": [
       "tensor([[ 0.0534,  0.2011, -0.0119, -0.8253]], grad_fn=<MmBackward0>)"
      ]
     },
     "execution_count": 249,
     "metadata": {},
     "output_type": "execute_result"
    }
   ],
   "source": [
    "dropconn(x)"
   ]
  },
  {
   "cell_type": "code",
   "execution_count": 250,
   "id": "870e2b85-122f-4ae8-a4bb-88a992ce5866",
   "metadata": {
    "tags": []
   },
   "outputs": [
    {
     "data": {
      "text/plain": [
       "Parameter containing:\n",
       "tensor([[ 0.1612,  0.4447, -0.4151,  0.2806],\n",
       "        [ 0.2476,  0.1494, -0.0734, -0.2964],\n",
       "        [ 0.2406, -0.0060, -0.2262,  0.3815],\n",
       "        [-0.3314, -0.1039, -0.0812, -0.1410]], requires_grad=True)"
      ]
     },
     "execution_count": 250,
     "metadata": {},
     "output_type": "execute_result"
    }
   ],
   "source": [
    "layer1.weight_raw"
   ]
  },
  {
   "cell_type": "code",
   "execution_count": 251,
   "id": "58984cd0-c387-4cfa-884b-22359aef8889",
   "metadata": {
    "tags": []
   },
   "outputs": [
    {
     "data": {
      "image/png": "[encoded data removed]",
      "text/plain": [
       "<Figure size 432x288 with 2 Axes>"
      ]
     },
     "metadata": {
      "needs_background": "light"
     },
     "output_type": "display_data"
    }
   ],
   "source": [
    "plot_weight_grid(layer1.weight_raw.detach())"
   ]
  },
  {
   "cell_type": "code",
   "execution_count": 252,
   "id": "2f4ce1c5-36a2-4b1e-bf36-3e88362e60b6",
   "metadata": {
    "tags": []
   },
   "outputs": [
    {
     "data": {
      "image/png": "[encoded data removed]",
      "text/plain": [
       "<Figure size 432x288 with 2 Axes>"
      ]
     },
     "metadata": {
      "needs_background": "light"
     },
     "output_type": "display_data"
    }
   ],
   "source": [
    "plot_weight_grid(layer2.weight.detach())"
   ]
  },
  {
   "cell_type": "code",
   "execution_count": 253,
   "id": "1479da43-7c1a-4bbe-8dc7-d87fe8dd292d",
   "metadata": {
    "tags": []
   },
   "outputs": [
    {
     "data": {
      "image/png": "[encoded data removed]",
      "text/plain": [
       "<Figure size 432x288 with 2 Axes>"
      ]
     },
     "metadata": {
      "needs_background": "light"
     },
     "output_type": "display_data"
    }
   ],
   "source": [
    "plot_weight_grid(layer1.weight.detach())"
   ]
  },
  {
   "cell_type": "markdown",
   "id": "e826a184-8d6f-4861-8edb-33fdd2f95a0f",
   "metadata": {
    "jp-MarkdownHeadingCollapsed": true,
    "tags": []
   },
   "source": [
    "### Testing 1D Gaussian Drop Connect"
   ]
  },
  {
   "cell_type": "code",
   "execution_count": 271,
   "id": "7d960801-c13f-43bd-ab03-a3447fcc51fa",
   "metadata": {},
   "outputs": [],
   "source": [
    "x = torch.ones(1, 4)"
   ]
  },
  {
   "cell_type": "code",
   "execution_count": 283,
   "id": "e754417e-1996-495a-93af-6f2fb576fcd6",
   "metadata": {},
   "outputs": [],
   "source": [
    "layer1 = nn.Linear(4, 4, bias=False)\n",
    "layer2 = nn.Linear(4, 4, bias=False)\n",
    "layer2.weight.data.copy_(layer1.weight.data);"
   ]
  },
  {
   "cell_type": "code",
   "execution_count": 284,
   "id": "dbabc31c-67b9-4c77-a7e8-912beaf746bb",
   "metadata": {},
   "outputs": [
    {
     "data": {
      "text/plain": [
       "tensor([[-0.5953,  0.0910, -0.0387, -0.9961]], grad_fn=<MmBackward0>)"
      ]
     },
     "execution_count": 284,
     "metadata": {},
     "output_type": "execute_result"
    }
   ],
   "source": [
    "layer1(x)"
   ]
  },
  {
   "cell_type": "code",
   "execution_count": 285,
   "id": "c3c2ac44-8e4a-4575-a31d-dec4a19c1bdf",
   "metadata": {},
   "outputs": [],
   "source": [
    "gaussdropconn = UQGaussianConnect(layer1, None, 1, 0.25)"
   ]
  },
  {
   "cell_type": "code",
   "execution_count": 296,
   "id": "4493125e-3842-4189-a91a-6507cee870e8",
   "metadata": {},
   "outputs": [
    {
     "data": {
      "text/plain": [
       "tensor([[-0.5953,  0.0910, -0.0387, -0.9961]], grad_fn=<MmBackward0>)"
      ]
     },
     "execution_count": 296,
     "metadata": {},
     "output_type": "execute_result"
    }
   ],
   "source": [
    "layer2(x)"
   ]
  },
  {
   "cell_type": "code",
   "execution_count": 301,
   "id": "fc01e14c-f92f-4d98-8640-f6b7ad94262a",
   "metadata": {},
   "outputs": [
    {
     "data": {
      "text/plain": [
       "tensor([[-6.4930e-01, -3.2115e-04, -1.0881e-01, -8.8192e-01]],\n",
       "       grad_fn=<MmBackward0>)"
      ]
     },
     "execution_count": 301,
     "metadata": {},
     "output_type": "execute_result"
    }
   ],
   "source": [
    "gaussdropconn(x)"
   ]
  },
  {
   "cell_type": "code",
   "execution_count": 288,
   "id": "9f94fe48-bb43-4692-8a81-f46c64686b59",
   "metadata": {},
   "outputs": [
    {
     "data": {
      "image/png": "[encoded data removed]",
      "text/plain": [
       "<Figure size 432x288 with 2 Axes>"
      ]
     },
     "metadata": {
      "needs_background": "light"
     },
     "output_type": "display_data"
    }
   ],
   "source": [
    "plot_weight_grid(layer1.weight_raw.detach())"
   ]
  },
  {
   "cell_type": "code",
   "execution_count": 289,
   "id": "cad383aa-0954-472b-9b92-019e26dca730",
   "metadata": {},
   "outputs": [
    {
     "data": {
      "image/png": "[encoded data removed]",
      "text/plain": [
       "<Figure size 432x288 with 2 Axes>"
      ]
     },
     "metadata": {
      "needs_background": "light"
     },
     "output_type": "display_data"
    }
   ],
   "source": [
    "plot_weight_grid(layer2.weight.detach())"
   ]
  },
  {
   "cell_type": "code",
   "execution_count": 302,
   "id": "fa28f0b1-2c86-484a-bff2-978adeaaa8c6",
   "metadata": {},
   "outputs": [
    {
     "data": {
      "image/png": "[encoded data removed]",
      "text/plain": [
       "<Figure size 432x288 with 2 Axes>"
      ]
     },
     "metadata": {
      "needs_background": "light"
     },
     "output_type": "display_data"
    }
   ],
   "source": [
    "plot_weight_grid(layer1.weight.detach())"
   ]
  },
  {
   "cell_type": "markdown",
   "id": "118e696a-380d-4a01-a7f2-07c035766ca6",
   "metadata": {
    "jp-MarkdownHeadingCollapsed": true,
    "tags": []
   },
   "source": [
    "### Testing 2D dropout and gaussian dropout"
   ]
  },
  {
   "cell_type": "code",
   "execution_count": 135,
   "id": "3cb5bf85-f42b-48ff-ac7a-a8d83b06483d",
   "metadata": {},
   "outputs": [],
   "source": [
    "conv1 = nn.Conv2d(3, 32, kernel_size=3)\n",
    "conv2 = nn.Conv2d(3, 32, kernel_size=3)\n",
    "conv2.weight.data.copy_(conv1.weight);"
   ]
  },
  {
   "cell_type": "code",
   "execution_count": 136,
   "id": "1d0523fb-48ba-4fd3-993a-dd636d770b32",
   "metadata": {},
   "outputs": [],
   "source": [
    "dropout2d = UQDropout2d(p=0.5)\n",
    "gaussout2d = UQGaussianDropout2d(mean=1, p=0.5)"
   ]
  },
  {
   "cell_type": "code",
   "execution_count": 150,
   "id": "40d975f1-371b-43dd-a85d-cb409f2ca764",
   "metadata": {},
   "outputs": [],
   "source": [
    "x = torch.rand((1, 3, 5, 5))"
   ]
  },
  {
   "cell_type": "code",
   "execution_count": 151,
   "id": "cf5c2f61-1168-4b51-ba31-7a49f00c5af8",
   "metadata": {},
   "outputs": [
    {
     "data": {
      "text/plain": [
       "torch.Size([1, 32, 3, 3])"
      ]
     },
     "execution_count": 151,
     "metadata": {},
     "output_type": "execute_result"
    }
   ],
   "source": [
    "conv1(x).shape"
   ]
  },
  {
   "cell_type": "code",
   "execution_count": 152,
   "id": "b71cf39f-7ec5-4c37-b85d-a2ca1465ad1e",
   "metadata": {},
   "outputs": [
    {
     "data": {
      "text/plain": [
       "tensor([[-0.0313, -0.1042,  0.1085],\n",
       "        [ 0.0475,  0.1541,  0.0957],\n",
       "        [-0.0003, -0.0172, -0.1879]], grad_fn=<SelectBackward0>)"
      ]
     },
     "execution_count": 152,
     "metadata": {},
     "output_type": "execute_result"
    }
   ],
   "source": [
    "conv1.weight[0][0]"
   ]
  },
  {
   "cell_type": "code",
   "execution_count": 181,
   "id": "442c3d05-d71e-4f51-b7be-77169abcf2dc",
   "metadata": {},
   "outputs": [
    {
     "data": {
      "text/plain": [
       "tensor([[-0.0943, -0.2526, -0.1334],\n",
       "        [-0.2463, -0.1199, -0.1333],\n",
       "        [-0.0930, -0.3127, -0.4273]], grad_fn=<SelectBackward0>)"
      ]
     },
     "execution_count": 181,
     "metadata": {},
     "output_type": "execute_result"
    }
   ],
   "source": [
    "y = conv1(x)\n",
    "y[0][1]"
   ]
  },
  {
   "cell_type": "code",
   "execution_count": 180,
   "id": "be7a2f53-e0e9-4134-85c2-e15048eab941",
   "metadata": {},
   "outputs": [
    {
     "data": {
      "text/plain": [
       "tensor([[-0.0943, -0.2526, -0.1334],\n",
       "        [-0.2463, -0.1199, -0.1333],\n",
       "        [-0.0930, -0.3127, -0.4273]], grad_fn=<MulBackward0>)"
      ]
     },
     "execution_count": 180,
     "metadata": {},
     "output_type": "execute_result"
    }
   ],
   "source": [
    "y = dropout2d(conv1(x))\n",
    "y[0][1] * 0.5"
   ]
  },
  {
   "cell_type": "code",
   "execution_count": 155,
   "id": "c5183a52-a34b-4256-87e0-2d30acbfa127",
   "metadata": {},
   "outputs": [
    {
     "data": {
      "text/plain": [
       "tensor([[0.0181, 0.0485, 0.0256],\n",
       "        [0.0473, 0.0230, 0.0256],\n",
       "        [0.0179, 0.0601, 0.0821]], grad_fn=<SelectBackward0>)"
      ]
     },
     "execution_count": 155,
     "metadata": {},
     "output_type": "execute_result"
    }
   ],
   "source": [
    "y = gaussout2d(conv1(x))\n",
    "y[0][1]"
   ]
  },
  {
   "cell_type": "code",
   "execution_count": 122,
   "id": "5c446e51-f837-49a9-bf22-b1e8cec588f1",
   "metadata": {},
   "outputs": [],
   "source": [
    "x_dims = len(x.shape)\n",
    "shape = x.shape\n",
    "dropout_shape = torch.ones(x_dims, dtype=int)\n",
    "dropout_shape[0] = shape[0]\n",
    "dropout_shape[1] = shape[1]\n",
    "mean = torch.ones(torch.Size(dropout_shape.tolist()), dtype=x.dtype, device=x.device)\n",
    "gaussian_noise = torch.normal(mean, 0.1)"
   ]
  },
  {
   "cell_type": "markdown",
   "id": "dd59a6fc-7024-4a52-b811-8a6d1e875f6f",
   "metadata": {
    "jp-MarkdownHeadingCollapsed": true,
    "tags": []
   },
   "source": [
    "### Testing 2D drop connect and gaussian drop connect"
   ]
  },
  {
   "cell_type": "code",
   "execution_count": 194,
   "id": "45b13058-723d-417e-970c-399d4c4b24ab",
   "metadata": {
    "tags": []
   },
   "outputs": [],
   "source": [
    "x = torch.randn(1, 3, 5, 5)"
   ]
  },
  {
   "cell_type": "code",
   "execution_count": 236,
   "id": "8b41ae59-437e-4809-a148-a72673093166",
   "metadata": {
    "tags": []
   },
   "outputs": [],
   "source": [
    "conv1 = nn.Conv2d(3, 32, kernel_size=3)\n",
    "conv2 = nn.Conv2d(3, 32, kernel_size=3)\n",
    "conv2.weight.data.copy_(conv1.weight);"
   ]
  },
  {
   "cell_type": "code",
   "execution_count": 237,
   "id": "a61e3438-a5fd-450a-ab74-993037ad51e1",
   "metadata": {
    "tags": []
   },
   "outputs": [
    {
     "data": {
      "text/plain": [
       "torch.Size([32, 3, 3, 3])"
      ]
     },
     "execution_count": 237,
     "metadata": {},
     "output_type": "execute_result"
    }
   ],
   "source": [
    "conv2.weight.shape"
   ]
  },
  {
   "cell_type": "code",
   "execution_count": 238,
   "id": "9d969a1e-a1fe-4e38-b8c7-657a2144d1bb",
   "metadata": {
    "tags": []
   },
   "outputs": [
    {
     "data": {
      "text/plain": [
       "tensor([[ 0.7519,  0.1653, -0.2391],\n",
       "        [-0.2689,  0.1135, -0.4903],\n",
       "        [-0.7090,  0.2990,  0.9272]], grad_fn=<SelectBackward0>)"
      ]
     },
     "execution_count": 238,
     "metadata": {},
     "output_type": "execute_result"
    }
   ],
   "source": [
    "conv1(x)[0][0]"
   ]
  },
  {
   "cell_type": "code",
   "execution_count": 239,
   "id": "991d5ad9-82c9-4545-a964-0e9b27b4d200",
   "metadata": {
    "tags": []
   },
   "outputs": [],
   "source": [
    "dropconn2d = UQDropConnect2d(conv1, None, 0.5)\n",
    "gaussdropconn2d = UQGaussianConnect2d(conv2, None, 1, 0.1)"
   ]
  },
  {
   "cell_type": "code",
   "execution_count": 247,
   "id": "b122d5ea-24be-43e2-935c-414d771206d7",
   "metadata": {
    "tags": []
   },
   "outputs": [
    {
     "data": {
      "text/plain": [
       "tensor([[ 0.2893, -0.4288,  0.0452],\n",
       "        [-0.2533,  0.6271, -0.8649],\n",
       "        [-0.4782, -0.2056,  1.5272]], grad_fn=<SelectBackward0>)"
      ]
     },
     "execution_count": 247,
     "metadata": {},
     "output_type": "execute_result"
    }
   ],
   "source": [
    "dropconn2d(x)[0][0]"
   ]
  },
  {
   "cell_type": "code",
   "execution_count": 261,
   "id": "299629b8-0492-4112-93e7-32a8c440e76e",
   "metadata": {
    "tags": []
   },
   "outputs": [
    {
     "data": {
      "text/plain": [
       "tensor([[ 0.6558,  0.1235, -0.2251],\n",
       "        [-0.2509,  0.1018, -0.4585],\n",
       "        [-0.6422,  0.2444,  0.8285]], grad_fn=<SelectBackward0>)"
      ]
     },
     "execution_count": 261,
     "metadata": {},
     "output_type": "execute_result"
    }
   ],
   "source": [
    "gaussdropconn2d(x)[0][0]"
   ]
  },
  {
   "cell_type": "code",
   "execution_count": 250,
   "id": "00581a75-bc03-43d3-ab5d-b6fecbeb24e2",
   "metadata": {
    "tags": []
   },
   "outputs": [
    {
     "data": {
      "text/plain": [
       "Parameter containing:\n",
       "tensor([[ 0.1612,  0.4447, -0.4151,  0.2806],\n",
       "        [ 0.2476,  0.1494, -0.0734, -0.2964],\n",
       "        [ 0.2406, -0.0060, -0.2262,  0.3815],\n",
       "        [-0.3314, -0.1039, -0.0812, -0.1410]], requires_grad=True)"
      ]
     },
     "execution_count": 250,
     "metadata": {},
     "output_type": "execute_result"
    }
   ],
   "source": [
    "layer1.weight_raw"
   ]
  }
 ],
 "metadata": {
  "kernelspec": {
   "display_name": "Python 3 (ipykernel)",
   "language": "python",
   "name": "python3"
  },
  "language_info": {
   "codemirror_mode": {
    "name": "ipython",
    "version": 3
   },
   "file_extension": ".py",
   "mimetype": "text/x-python",
   "name": "python",
   "nbconvert_exporter": "python",
   "pygments_lexer": "ipython3",
   "version": "3.9.12"
  }
 },
 "nbformat": 4,
 "nbformat_minor": 5
}
