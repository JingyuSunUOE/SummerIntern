{
 "cells": [
  {
   "cell_type": "markdown",
   "id": "fec204c5-b6d2-4366-80a2-fa0649a5eb5c",
   "metadata": {},
   "source": [
    "## UNet test"
   ]
  },
  {
   "cell_type": "code",
   "execution_count": 1,
   "id": "95ae5135-16a4-4403-9181-b144c74275dd",
   "metadata": {},
   "outputs": [],
   "source": [
    "import torch\n",
    "import numpy as np\n",
    "from torchinfo import summary\n",
    "import torch.nn as nn\n",
    "import torch.nn.functional as F\n",
    "import matplotlib.pyplot as plt"
   ]
  },
  {
   "cell_type": "code",
   "execution_count": 3,
   "id": "a0365c09-f198-49f8-ac26-f1835a42054e",
   "metadata": {},
   "outputs": [],
   "source": [
    "from trustworthai.models.base_models.UNet import UNet"
   ]
  },
  {
   "cell_type": "code",
   "execution_count": 8,
   "id": "4e77978a-40d2-4ac9-993a-8706d46af380",
   "metadata": {},
   "outputs": [],
   "source": [
    "unet = UNet(encoder_channels=(2,64,128,256,512,1024),\n",
    "                decoder_channels=(1024,512,256,128,64),\n",
    "                dropout_p=0.1,\n",
    "                num_classes=1,\n",
    "                retain_dim=False,\n",
    "                output_size=(224,160)\n",
    "            )"
   ]
  },
  {
   "cell_type": "code",
   "execution_count": 9,
   "id": "f7054625-4733-41dc-882f-4d06d5095e39",
   "metadata": {},
   "outputs": [
    {
     "data": {
      "text/plain": [
       "===============================================================================================\n",
       "Layer (type:depth-idx)                        Output Shape              Param #\n",
       "===============================================================================================\n",
       "UNet                                          --                        --\n",
       "├─Encoder: 1                                  --                        --\n",
       "│    └─ModuleList: 2-1                        --                        --\n",
       "├─Decoder: 1                                  --                        --\n",
       "│    └─ModuleList: 2-2                        --                        --\n",
       "│    └─ModuleList: 2-3                        --                        --\n",
       "├─Encoder: 1-1                                [16, 64, 224, 160]        --\n",
       "│    └─ModuleList: 2-1                        --                        --\n",
       "│    │    └─SimpleBlock: 3-1                  [16, 64, 224, 160]        1,344\n",
       "│    └─MaxPool2d: 2-4                         [16, 64, 112, 80]         --\n",
       "│    └─ModuleList: 2-1                        --                        --\n",
       "│    │    └─SimpleBlock: 3-2                  [16, 128, 112, 80]        74,112\n",
       "│    └─MaxPool2d: 2-5                         [16, 128, 56, 40]         --\n",
       "│    └─ModuleList: 2-1                        --                        --\n",
       "│    │    └─SimpleBlock: 3-3                  [16, 256, 56, 40]         295,680\n",
       "│    └─MaxPool2d: 2-6                         [16, 256, 28, 20]         --\n",
       "│    └─ModuleList: 2-1                        --                        --\n",
       "│    │    └─SimpleBlock: 3-4                  [16, 512, 28, 20]         1,181,184\n",
       "│    └─MaxPool2d: 2-7                         [16, 512, 14, 10]         --\n",
       "│    └─ModuleList: 2-1                        --                        --\n",
       "│    │    └─SimpleBlock: 3-5                  [16, 1024, 14, 10]        4,721,664\n",
       "│    └─MaxPool2d: 2-8                         [16, 1024, 7, 5]          --\n",
       "├─Decoder: 1-2                                [16, 64, 224, 160]        --\n",
       "│    └─ModuleList: 2-2                        --                        --\n",
       "│    │    └─SimpleBlock: 3-6                  [16, 512, 28, 20]         4,720,128\n",
       "│    └─ModuleList: 2-3                        --                        --\n",
       "│    │    └─SimpleBlock: 3-7                  [16, 512, 28, 20]         4,720,128\n",
       "│    └─ModuleList: 2-2                        --                        --\n",
       "│    │    └─SimpleBlock: 3-8                  [16, 256, 56, 40]         1,180,416\n",
       "│    └─ModuleList: 2-3                        --                        --\n",
       "│    │    └─SimpleBlock: 3-9                  [16, 256, 56, 40]         1,180,416\n",
       "│    └─ModuleList: 2-2                        --                        --\n",
       "│    │    └─SimpleBlock: 3-10                 [16, 128, 112, 80]        295,296\n",
       "│    └─ModuleList: 2-3                        --                        --\n",
       "│    │    └─SimpleBlock: 3-11                 [16, 128, 112, 80]        295,296\n",
       "│    └─ModuleList: 2-2                        --                        --\n",
       "│    │    └─SimpleBlock: 3-12                 [16, 64, 224, 160]        73,920\n",
       "│    └─ModuleList: 2-3                        --                        --\n",
       "│    │    └─SimpleBlock: 3-13                 [16, 64, 224, 160]        73,920\n",
       "├─Conv2d: 1-3                                 [16, 1, 224, 160]         65\n",
       "===============================================================================================\n",
       "Total params: 18,813,569\n",
       "Trainable params: 18,813,569\n",
       "Non-trainable params: 0\n",
       "Total mult-adds (G): 381.41\n",
       "===============================================================================================\n",
       "Input size (MB): 4.59\n",
       "Forward/backward pass size (MB): 3344.30\n",
       "Params size (MB): 75.25\n",
       "Estimated Total Size (MB): 3424.14\n",
       "==============================================================================================="
      ]
     },
     "execution_count": 9,
     "metadata": {},
     "output_type": "execute_result"
    }
   ],
   "source": [
    "summary(unet, (16, 2, 224, 160))"
   ]
  },
  {
   "cell_type": "code",
   "execution_count": null,
   "id": "5dd0a510-9fa4-4338-b037-bb3d900eeebc",
   "metadata": {},
   "outputs": [],
   "source": []
  }
 ],
 "metadata": {
  "kernelspec": {
   "display_name": "Python 3 (ipykernel)",
   "language": "python",
   "name": "python3"
  },
  "language_info": {
   "codemirror_mode": {
    "name": "ipython",
    "version": 3
   },
   "file_extension": ".py",
   "mimetype": "text/x-python",
   "name": "python",
   "nbconvert_exporter": "python",
   "pygments_lexer": "ipython3",
   "version": "3.9.12"
  }
 },
 "nbformat": 4,
 "nbformat_minor": 5
}
